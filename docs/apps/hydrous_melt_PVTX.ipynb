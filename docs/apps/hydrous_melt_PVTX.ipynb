---
permalink: /apps/hydrous_melt_PVTX.ipynb
---
<!DOCTYPE html>
<html>
<head>
  <meta http-equiv="refresh" content="0; url=https://mybinder.org/v2/gh/olivertlord/hydrous-melts/main?urlpath=lab/tree/hydrous_melt_PVTX.ipynb" />
  <script>
    window.location.href = "https://mybinder.org/v2/gh/olivertlord/hydrous-melts/main?urlpath=lab/tree/hydrous_melt_PVTX.ipynb";
  </script>
  <title>Redirecting to Binder…</title>
</head>
<body>
  <p>
    Redirecting to Binder…  
    If it doesn’t happen automatically, 
    <a href="https://mybinder.org/v2/gh/olivertlord/hydrous-melts/main?urlpath=lab/tree/hydrous_melt_PVTX.ipynb">click here</a>.
  </p>
</body>
</html>
