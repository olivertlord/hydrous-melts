{
 "cells": [
  {
   "cell_type": "markdown",
   "metadata": {
    "require": [
     "base/js/events",
     "datatables.net",
     "d3",
     "chartjs",
     "dt-config",
     "dt-components",
     "dt-graph-objects",
     "dt-toolbar",
     "dt-tooltips",
     "jupyter-datatables"
    ]
   },
   "source": [
    "<h1 align=\"center\">Supplementary information for<a class=\"tocSkip\"></h1>\n",
    "<h1 align=\"center\">Hydrous Silicate Melts and the Transition-Zone Water Filter<a class=\"tocSkip\"></h1>\n",
    "\n",
    "<h3 align=\"center\">James W. E. Drewitt<sup>a</sup>, Michael J. Walter<sup>b</sup>, John P. Brodholt<sup>c</sup>, Joshua M. R. Muir<sup>d</sup>, and Oliver T. Lord<sup>a</sup><a class=\"tocSkip\"></h3>\n",
    "\n",
    "<h4 align=\"center\"><sup>a</sup> School of Earth Sciences, University of Bristol, Wills Memorial Building, Queens Road, BS8 1RJ, United Kingdom<a class=\"tocSkip\"></h4>\n",
    "\n",
    "<h4 align=\"center\"><sup>b</sup> Geophysical Laboratory, Carnegie Institution for Science, 5251 Broad Branch Road NW, Washington D.C. 20015, USA<a class=\"tocSkip\"></h4>\n",
    "\n",
    "<h4 align=\"center\"><sup>c</sup> Department of Earth Sciences, University College London, Gower Street, London, WC1E 6BT, UK<a class=\"tocSkip\"></h4>\n",
    "\n",
    "<h4 align=\"center\"><sup>d</sup> University of Leeds, School of Earth and Environment, Leeds, LS2 9JT<a class=\"tocSkip\"></h4>\n",
    "    \n",
    "<h3 align=\"center\">Jupyter Notebook Written by <a href=\"mailto:oliver.lord@bristol.ac.uk\">Oliver T Lord</a>, <a href=\"http://www.bristol.ac.uk/earthsciences/people/person/oliver-t-lord/overview.html\">(School of Earth Sciences, University of Bristol)<a class=\"tocSkip\"></h3>\n",
    "\n",
    "<br />\n",
    "\n",
    "Copyright 2020 Oliver Lord.\n",
    "\n",
    "This notebook is free software: you can redistribute it and/or modify it under the terms of the GNU General Public License as published by the Free Software Foundation, either version 3 of the License, or (at your option) any later version.\n",
    "\n",
    "This notebook is distributed in the hope that it will be useful, but WITHOUT ANY WARRANTY; without even the implied warranty of MERCHANTABILITY or FITNESS FOR A PARTICULAR PURPOSE.  See the GNU General Public License for more details.\n",
    "\n",
    "A copy of the GNU General Public License can be found in the associated GitHub repository. If not, see <http://www.gnu.org/licenses/>.\n",
    "\n",
    "<h3 align=\"left\">Dependencies:<a class=\"tocSkip\"></h3>\n",
    "\n",
    "\n",
    "\n",
    "Tables are presented using a combination of the <a href=\"https://pypi.org/project/pandas/\">Pandas</a> and <a href=\"https://pypi.org/project/itables/\">iTables</a> libraries.\n",
    "\n",
    "Ternary plots are prodcued using the <a href=\"https://pypi.org/project/mpltern/\">mpltern</a> library, an extension of <a href=\"https://matplotlib.org/\">Matplotlib</a>.\n",
    "\n",
    "Fitting is performed using the orthogonal distance regression method based on the ODRPACK Fortran library<sup>1</sup> as implimented in <a href=\"https://www.scipy.org/\">Scipy</a>. At each compositional point, pressures are calculated using the Mie-Grueneisen-Debye thermal Equation of State as implemented in the <a href=\"https://pypi.org/project/burnman/\">Burnman</a> thermodynamics toolkit<sup>2</sup>. More information on Burnman and its developers can be found <a href=\"https://burnman.org/\">here</a>.\n",
    "\n",
    "Interactive ocontrol widgets are provided through the <a href=\"https://pypi.org/project/ipywidgets/\">ipywidget</a> library.\n",
    "\n",
    "In addition to those mentioned above, this notebook also requires the <a href=\"https://pypi.org/project/numpy/\">Numpy</a>, <a href=\"https://docs.python.org/3/library/itertools.html\">itertools</a>, <a href=\"https://pypi.org/project/ipython/\">IPython</a> and <a href=\"https://pypi.org/project/tqdm/\">tqdm</a> libraries.\n",
    "\n",
    "Finally, this notebook is made available to anyone, anywhere, in an immediately executable form, from its <a href=\"https://github.com/olivertlord/hydrous-melts\">Github repository</a> via the <a href=\"https://mybinder.org/\">Binder</a> service.\n",
    "\n",
    "___\n",
    "\n",
    "<sup>1</sup>Zwolak, J. W., Boggs, P. T. & Watson, L. T. Algorithm 869: ODRPACK95: A weighted orthogonal distance regression code with bound constraints. Acm Transactions Math Softw Toms 33, 27 (2007).\n",
    "  \n",
    "<sup>2</sup>Cottaar, S., Heister, T., Rose, I. & Unterborn, C. BurnMan: A lower mantle mineral physics toolkit. Geochemistry, Geophysics, Geosystems 15, 1164–1179 (2014).\n",
    "  "
   ]
  },
  {
   "cell_type": "code",
   "execution_count": 1,
   "metadata": {
    "init_cell": true,
    "lines_to_next_cell": 2,
    "scrolled": false
   },
   "outputs": [],
   "source": [
    "import itertools  \n",
    "import warnings\n",
    "\n",
    "import ipywidgets as w  #7.5.1\n",
    "import matplotlib as mpl  #3.1.3\n",
    "import pandas as pd #0.25.1\n",
    "import mpltern  #0.3.1\n",
    "import burnman as bm  #0.9.0\n",
    "import numpy as np  #1.19.5\n",
    "\n",
    "from itables import init_notebook_mode #0.3.0\n",
    "from IPython.display import clear_output, display  #7.16.1\n",
    "from matplotlib import pyplot as plt  #3.4.3\n",
    "from matplotlib import ticker #3.4.3\n",
    "from mpl_toolkits.mplot3d import Axes3D\n",
    "from mpltern.ternary.datasets import get_triangular_grid\n",
    "from scipy.odr import ODR, Data, Model, RealData  #1.5.4\n",
    "from scipy.stats import t as stat  #1.5.4\n",
    "from tqdm.notebook import tqdm #4.60.0"
   ]
  },
  {
   "cell_type": "code",
   "execution_count": 2,
   "metadata": {
    "init_cell": true,
    "require": [
     "base/js/events",
     "datatables.net",
     "d3",
     "chartjs",
     "dt-config",
     "dt-components",
     "dt-graph-objects",
     "dt-toolbar",
     "dt-tooltips",
     "jupyter-datatables"
    ],
    "scrolled": true
   },
   "outputs": [
    {
     "data": {
      "application/javascript": [
       "require.config({\n",
       "    paths: {\n",
       "        datatables: 'https://cdn.datatables.net/1.10.19/js/jquery.dataTables.min',\n",
       "    }\n",
       "});\n",
       "\n",
       "$('head').append('<link rel=\"stylesheet\" type=\"text/css\" \\\n",
       "                href = \"https://cdn.datatables.net/1.10.19/css/jquery.dataTables.min.css\" > ');\n",
       "\n",
       "$('head').append('<style> table td { text-overflow: ellipsis; overflow: hidden; } </style>');\n",
       "\n",
       "$('head').append(`<script>\n",
       "function eval_functions(map_or_text) {\n",
       "    if (typeof map_or_text === \"string\") {\n",
       "        if (map_or_text.startsWith(\"function\")) {\n",
       "            try {\n",
       "                // Note: parenthesis are required around the whole expression for eval to return a value!\n",
       "                // See https://stackoverflow.com/a/7399078/911298.\n",
       "                //\n",
       "                // eval(\"local_fun = \" + map_or_text) would fail because local_fun is not declared\n",
       "                // (using var, let or const would work, but it would only be declared in the local scope\n",
       "                // and therefore the value could not be retrieved).\n",
       "                const func = eval(\"(\" + map_or_text + \")\");\n",
       "                if (typeof func !== \"function\") {\n",
       "                    // Note: backquotes are super convenient!\n",
       "                    // https://developer.mozilla.org/en-US/docs/Web/JavaScript/Reference/Template_literals\n",
       "                    console.error(\"Evaluated expression \" + map_or_text + \" is not a function (type is \" + typeof func + \")\");\n",
       "                    return map_or_text;\n",
       "                }\n",
       "                // Return the function\n",
       "                return func;\n",
       "            } catch (e) {\n",
       "                // Make sure to print the error with a second argument to console.error().\n",
       "                console.error(\"itables was not able to parse \" + map_or_text, e);\n",
       "            }\n",
       "        }\n",
       "    } else if (typeof map_or_text === \"object\") {\n",
       "        if (map_or_text instanceof Array) {\n",
       "            // Note: \"var\" is now superseded by \"let\" and \"const\".\n",
       "            // https://medium.com/javascript-scene/javascript-es6-var-let-or-const-ba58b8dcde75\n",
       "            const result = [];\n",
       "            // Note: \"for of\" is the best way to iterate through an iterable.\n",
       "            // https://developer.mozilla.org/en-US/docs/Web/JavaScript/Reference/Statements/for...of\n",
       "            for (const item of map_or_text) {\n",
       "                result.push(eval_functions(item));\n",
       "            }\n",
       "            return result;\n",
       "\n",
       "            // Alternatively, more functional approach in one line:\n",
       "            // return map_or_text.map(eval_functions);\n",
       "        } else {\n",
       "            const result = {};\n",
       "            // Object.keys() is safer than \"for in\" because otherwise you might have keys\n",
       "            // that aren't defined in the object itself.\n",
       "            //\n",
       "            // See https://stackoverflow.com/a/684692/911298.\n",
       "            for (const item of Object.keys(map_or_text)) {\n",
       "                result[item] = eval_functions(map_or_text[item]);\n",
       "            }\n",
       "            return result;\n",
       "        }\n",
       "    }\n",
       "\n",
       "    return map_or_text;\n",
       "}\n",
       "\n",
       "</` + 'script>');"
      ],
      "text/plain": [
       "<IPython.core.display.Javascript object>"
      ]
     },
     "metadata": {},
     "output_type": "display_data"
    }
   ],
   "source": [
    "# Global notebook controls\n",
    "plt.rcParams['figure.dpi'] = 1000\n",
    "plt.rcParams['mathtext.fontset'] = 'custom'\n",
    "plt.rcParams[\"font.family\"] = \"Times New Roman\"\n",
    "plt.rcParams['mathtext.it'] = 'Times New Roman:italic'\n",
    "plt.rcParams['axes.linewidth'] = 1.2\n",
    "plt.rcParams['xtick.labelsize'] = 20\n",
    "plt.rcParams['ytick.labelsize'] = 20\n",
    "plt.rcParams['xtick.major.top'] = 'True'\n",
    "plt.rcParams['xtick.major.bottom'] = 'True'\n",
    "plt.rcParams['ytick.major.right'] = 'True'\n",
    "plt.rcParams['ytick.major.left'] = 'True'\n",
    "plt.rcParams['xtick.direction'] = 'in'\n",
    "plt.rcParams['ytick.direction'] = 'in'\n",
    "plt.rcParams['xtick.major.size'] = 10\n",
    "plt.rcParams['ytick.major.size'] = 10\n",
    "plt.rcParams['lines.markersize'] = 10\n",
    "warnings.simplefilter('ignore')\n",
    "init_notebook_mode(all_interactive=True)"
   ]
  },
  {
   "cell_type": "markdown",
   "metadata": {},
   "source": [
    "<hr style=\"height:10px;border-width:0;color:gray;background-color:gray\">\n",
    "\n",
    "### The data\n",
    "\n",
    "This section presents the compositions studied in this work ([table 1](#table_1) and [figure 1](#figure_1)) and the details of the *ab initio* molecular dynamics (AIMD) simulations performed in this work and previous studies ([table 2](#table_2)). \n",
    "\n",
    "We have included the 3000 K, 4000 K and 6000 K simulations from de Koker et al. (2008)<sup>1</sup> for forsterite and Stixrude & Karki (2005)<sup>2</sup> for enstatite. All molar volumes and 'atoms per formula unit' (apfu) are normalised to three oxygens to facilitate direct comparisons across all the different modelled compositions.\n",
    "\n",
    "___\n",
    "<sup>1</sup>de Koker, N. P., Stixrude, L., & Karki, B. B. (2008). Thermodynamics, structure, dynamics, and freezing of Mg2SiO4 liquid at high pressure. Geochimica Et Cosmochimica Acta, 72(5), 1427–1441. http://doi.org/10.1016/j.gca.2007.12.019\n",
    "\n",
    "<sup>2</sup>Stixrude, L. (2005). Structure and Freezing of MgSiO3 Liquid in Earth's Lower Mantle. Science, 310(5746), 297–299. http://doi.org/10.1126/science.1116952"
   ]
  },
  {
   "cell_type": "markdown",
   "metadata": {},
   "source": [
    "<a id=\"table_1\"></a>\n",
    "#### Table 1: Compositions studied\n",
    "\n",
    "The table below defines all of the compositions studied in this work. Note that the anhydrous 'MS' composition, intermediate between enstatite and forsterite does not fall on the binary defined by the hydrous intermediate compositions due to an error in the simulations."
   ]
  },
  {
   "cell_type": "code",
   "execution_count": 3,
   "metadata": {
    "init_cell": true,
    "require": [
     "base/js/events",
     "datatables.net",
     "d3",
     "chartjs",
     "dt-config",
     "dt-components",
     "dt-graph-objects",
     "dt-toolbar",
     "dt-tooltips",
     "jupyter-datatables"
    ],
    "scrolled": true
   },
   "outputs": [
    {
     "data": {
      "text/html": [
       "<div><table id=\"935cf913-b127-4d06-91b7-34e35c80caa3\" class=\"display\"><thead>\n",
       "    <tr style=\"text-align: right;\">\n",
       "      <th></th>\n",
       "      <th># Mg atoms</th>\n",
       "      <th># Si atoms</th>\n",
       "      <th># O atoms</th>\n",
       "      <th># H atoms</th>\n",
       "      <th>H2O (mol %)</th>\n",
       "      <th>MgO (mol %)</th>\n",
       "      <th>SiO2 (mol %)</th>\n",
       "      <th>n (total)</th>\n",
       "      <th>n (this study)</th>\n",
       "    </tr>\n",
       "    <tr>\n",
       "      <th>Composition Code</th>\n",
       "      <th></th>\n",
       "      <th></th>\n",
       "      <th></th>\n",
       "      <th></th>\n",
       "      <th></th>\n",
       "      <th></th>\n",
       "      <th></th>\n",
       "      <th></th>\n",
       "      <th></th>\n",
       "    </tr>\n",
       "  </thead></table>\n",
       "<script type=\"text/javascript\">\n",
       "require([\"datatables\"], function (datatables) {\n",
       "    $(document).ready(function () {\n",
       "        var dt_args = {\"columnDefs\": [{\"width\": \"70px\", \"targets\": \"_all\"}], \"data\": [[\"En\", 32, 32, 96, 0, 0.0, 50.0, 50.0, 22, 4], [\"EnH25\", 27, 27, 90, 18, 14.3, 42.9, 42.9, 13, 13], [\"EnH50\", 20, 20, 80, 40, 33.3, 33.3, 33.3, 16, 16], [\"EnH60\", 16, 16, 72, 48, 42.9, 28.6, 28.6, 14, 14], [\"MS\", 33, 27, 87, 0, 0.0, 55.0, 45.0, 7, 7], [\"MSH40\", 28, 20, 82, 28, 22.6, 45.2, 32.3, 15, 15], [\"MSH60\", 21, 15, 75, 48, 40.0, 35.0, 25.0, 14, 14], [\"MSH70\", 17, 12, 71, 60, 50.8, 28.8, 20.3, 14, 14], [\"Fo\", 46, 23, 92, 0, 0.0, 66.7, 33.3, 13, 5], [\"FoH50\", 32, 16, 80, 32, 25.0, 50.0, 25.0, 12, 12], [\"Bru\", 32, 0, 64, 64, 50.0, 50.0, 0.0, 16, 16]]};\n",
       "        dt_args = eval_functions(dt_args);\n",
       "        table = $('#935cf913-b127-4d06-91b7-34e35c80caa3').DataTable(dt_args);\n",
       "    });\n",
       "})\n",
       "</script>\n",
       "</div>\n"
      ],
      "text/plain": [
       "                  # Mg atoms  # Si atoms  # O atoms  # H atoms  H2O (mol %)  \\\n",
       "Composition Code                                                              \n",
       "En                        32          32         96          0          0.0   \n",
       "EnH25                     27          27         90         18         14.3   \n",
       "EnH50                     20          20         80         40         33.3   \n",
       "EnH60                     16          16         72         48         42.9   \n",
       "MS                        33          27         87          0          0.0   \n",
       "MSH40                     28          20         82         28         22.6   \n",
       "MSH60                     21          15         75         48         40.0   \n",
       "MSH70                     17          12         71         60         50.8   \n",
       "Fo                        46          23         92          0          0.0   \n",
       "FoH50                     32          16         80         32         25.0   \n",
       "Bru                       32           0         64         64         50.0   \n",
       "\n",
       "                  MgO (mol %)  SiO2 (mol %)  n (total)  n (this study)  \n",
       "Composition Code                                                        \n",
       "En                       50.0          50.0         22               4  \n",
       "EnH25                    42.9          42.9         13              13  \n",
       "EnH50                    33.3          33.3         16              16  \n",
       "EnH60                    28.6          28.6         14              14  \n",
       "MS                       55.0          45.0          7               7  \n",
       "MSH40                    45.2          32.3         15              15  \n",
       "MSH60                    35.0          25.0         14              14  \n",
       "MSH70                    28.8          20.3         14              14  \n",
       "Fo                       66.7          33.3         13               5  \n",
       "FoH50                    50.0          25.0         12              12  \n",
       "Bru                      50.0           0.0         16              16  "
      ]
     },
     "execution_count": 3,
     "metadata": {},
     "output_type": "execute_result"
    }
   ],
   "source": [
    "# Extract simulated compositions from text file, present as a table and slice into compositional variables\n",
    "compositions = pd.read_csv('./PVTXu_data/simulated_compositions.csv',\n",
    "                           index_col=0)\n",
    "\n",
    "En = compositions.filter(like='En', axis=0).to_numpy()\n",
    "Fo = compositions.filter(like='Fo', axis=0).to_numpy()\n",
    "MS = compositions.filter(like='MS', axis=0).to_numpy()\n",
    "Br = compositions.filter(like='Br', axis=0).to_numpy()\n",
    "H2O = compositions.filter(like='H2O', axis=0).to_numpy()\n",
    "\n",
    "compositions"
   ]
  },
  {
   "cell_type": "markdown",
   "metadata": {},
   "source": [
    "<a id=\"figure_1\"></a>\n",
    "\n",
    "#### Figure 1: Compositions studied\n",
    "\n",
    "The ternary plot below defines all of the compositions studied in this work. Note that the anhydrous 'MS' composition, intermediate between enstatite and forsterite does not fall on the binary defined by the hydrous intermediate compositions due to an error in the simulations."
   ]
  },
  {
   "cell_type": "code",
   "execution_count": 4,
   "metadata": {
    "hide_input": false,
    "init_cell": true,
    "scrolled": false
   },
   "outputs": [
    {
     "data": {
      "image/png": "[encoded data removed]",
      "text/plain": [
       "<Figure size 2520x2182.32 with 1 Axes>"
      ]
     },
     "metadata": {
      "needs_background": "light"
     },
     "output_type": "display_data"
    }
   ],
   "source": [
    "# Create ternary plot and populate with compositional data from table 1\n",
    "\n",
    "%matplotlib inline\n",
    "\n",
    "fig = plt.figure(figsize=(35, 0.866 * 35))\n",
    "fig.subplots_adjust(left=0.075, right=0.85, wspace=0.3)\n",
    "\n",
    "ax = fig.add_subplot(121, projection='ternary')\n",
    "\n",
    "pc = ax.scatter(En[:, 4],\n",
    "                En[:, 5],\n",
    "                En[:, 6],\n",
    "                c='red',\n",
    "                label=\"Enstatite-water\",\n",
    "                clip_on=False,\n",
    "                zorder=0)\n",
    "pc = ax.scatter(Fo[:, 4],\n",
    "                Fo[:, 5],\n",
    "                Fo[:, 6],\n",
    "                c='blue',\n",
    "                label='Forsterite-water',\n",
    "                clip_on=False)\n",
    "pc = ax.scatter(MS[:, 4],\n",
    "                MS[:, 5],\n",
    "                MS[:, 6],\n",
    "                c='green',\n",
    "                label='MS-water',\n",
    "                clip_on=False)\n",
    "pc = ax.scatter(Br[:, 4],\n",
    "                Br[:, 5],\n",
    "                Br[:, 6],\n",
    "                c='orange',\n",
    "                label='Brucite',\n",
    "                clip_on=False)\n",
    "pc = ax.scatter(H2O[:, 4],\n",
    "                H2O[:, 5],\n",
    "                H2O[:, 6],\n",
    "                c='blue',\n",
    "                label='Water',\n",
    "                clip_on=False)\n",
    "\n",
    "ax.plot([1, 0], [0, .5], [0, .5], c='red')\n",
    "ax.plot([1, 0], [0, 1], [0, .5], c='blue')\n",
    "ax.plot([1, 0], [0, .7], [0, .5], c='green')\n",
    "\n",
    "ax.set_tlabel('$H_2O$', fontsize=25)\n",
    "ax.set_llabel('$MgO$', fontsize=25)\n",
    "ax.set_rlabel('$SiO_2$', fontsize=25)\n",
    "\n",
    "ax.taxis.set_label_rotation_mode('horizontal')\n",
    "ax.laxis.set_label_rotation_mode('horizontal')\n",
    "ax.raxis.set_label_rotation_mode('horizontal')\n",
    "\n",
    "ax.legend(fontsize=14)\n",
    "ax.tick_params(direction='out')\n",
    "ax.grid()"
   ]
  },
  {
   "cell_type": "markdown",
   "metadata": {},
   "source": [
    "<a id=\"table_2\"></a>\n",
    "#### Table 2: FPMD Simulation Conditions\n",
    "\n",
    "The table below defines all of the conditions at which *ab initio* molecular dynamics (AIMD) simulations were performed in this study as well as additional data from other AIMD studies."
   ]
  },
  {
   "cell_type": "code",
   "execution_count": 5,
   "metadata": {
    "init_cell": true,
    "require": [
     "base/js/events",
     "datatables.net",
     "d3",
     "chartjs",
     "dt-config",
     "dt-components",
     "dt-graph-objects",
     "dt-toolbar",
     "dt-tooltips",
     "jupyter-datatables"
    ],
    "scrolled": true
   },
   "outputs": [
    {
     "data": {
      "text/html": [
       "<div><table id=\"b338ecd7-2352-411b-a845-899c115317c8\" class=\"display\"><thead>\n",
       "    <tr style=\"text-align: right;\">\n",
       "      \n",
       "      <th>Composition Code</th>\n",
       "      <th>P (GPa)</th>\n",
       "      <th>sigP (GPa)</th>\n",
       "      <th>T (K)</th>\n",
       "      <th>sigT (K)</th>\n",
       "      <th>Vm (cm^3/mol)</th>\n",
       "      <th>rho (g/cm^3)</th>\n",
       "      <th>nu  (Pa/s)</th>\n",
       "      <th>signu (Pa/s)</th>\n",
       "      <th>MgO (mol %)</th>\n",
       "      <th>SiO2 (mol %)</th>\n",
       "      <th>H2O (mol %)</th>\n",
       "      <th>#Mg</th>\n",
       "      <th>#Si</th>\n",
       "      <th>#O</th>\n",
       "      <th>#H</th>\n",
       "      <th>Source</th>\n",
       "    </tr>\n",
       "  </thead></table>\n",
       "<script type=\"text/javascript\">\n",
       "require([\"datatables\"], function (datatables) {\n",
       "    $(document).ready(function () {\n",
       "        var dt_args = {\"columnDefs\": [{\"width\": \"70px\", \"targets\": \"_all\"}], \"data\": [[\"En\", 0.86932, 0.05007, 2992.65054, 0.54924, 38.85084, 2.583952, 0.00228, 0.000515, 50.0, 50.0, 0.0, 32.0, 32.0, 96.0, 0.0, \"This Study\"], [\"Bru\", 2.58205, 0.04378, 1770.15935, 0.43226, 40.069044, 9.027729, 0.000495, 0.000146, 50.0, 0.0, 50.0, 32.0, 0.0, 64.0, 64.0, \"This Study\"], [\"Bru\", 4.21473, 0.040587, 1770.75839, 0.33714, 38.247724, 8.617378, 0.000589, 0.0001, 50.0, 0.0, 50.0, 32.0, 0.0, 64.0, 64.0, \"This Study\"], [\"En\", 5.01188, 0.0742, 2992.23498, 0.49803, 34.965756, 2.871058, 0.00376, 0.00103, 50.0, 50.0, 0.0, 32.0, 32.0, 96.0, 0.0, \"This Study\"], [\"Bru\", 5.63992, 0.03868, 2955.01199, 0.61924, 40.069044, 2.145487, 0.000316, 0.0001, 50.0, 0.0, 50.0, 32.0, 0.0, 64.0, 64.0, \"This Study\"], [\"Bru\", 6.38076, 0.03875, 1771.30261, 0.54935, 36.426404, 8.207026, 0.000783, 0.000491, 50.0, 0.0, 50.0, 32.0, 0.0, 64.0, 64.0, \"This Study\"], [\"Bru\", 7.61456, 0.040518, 2954.55582, 0.35132, 38.247724, 2.247653, 0.000371, 0.000172, 50.0, 0.0, 50.0, 32.0, 0.0, 64.0, 64.0, \"This Study\"], [\"Bru\", 9.18422, 0.042403, 1770.92706, 0.51261, 34.605084, 7.796675, 0.00157, 0.000491, 50.0, 0.0, 50.0, 32.0, 0.0, 64.0, 64.0, \"This Study\"], [\"Bru\", 10.21402, 0.050092, 2955.3913, 0.65861, 36.426404, 2.360036, 0.000488, 0.000134, 50.0, 0.0, 50.0, 32.0, 0.0, 64.0, 64.0, \"This Study\"], [\"En\", 11.95951, 0.07347, 2991.87019, 0.33507, 31.080672, 3.22994, 0.00367, 0.00185, 50.0, 50.0, 0.0, 32.0, 32.0, 96.0, 0.0, \"This Study\"], [\"Bru\", 12.84263, 0.033454, 1771.44922, 0.37206, 32.783763, 7.386324, 0.0016, 0.000906, 50.0, 0.0, 50.0, 32.0, 0.0, 64.0, 64.0, \"This Study\"], [\"Bru\", 13.51691, 0.039424, 2955.21134, 0.42394, 34.605084, 2.484248, 0.000526, 0.000193, 50.0, 0.0, 50.0, 32.0, 0.0, 64.0, 64.0, \"This Study\"], [\"Bru\", 17.72374, 0.050675, 2955.43953, 0.3401, 32.783763, 2.622262, 0.000702, 0.000198, 50.0, 0.0, 50.0, 32.0, 0.0, 64.0, 64.0, \"This Study\"], [\"Bru\", 17.88633, 0.051277, 1771.42203, 0.3025, 30.962443, 6.975972, 0.00244, 0.000739, 50.0, 0.0, 50.0, 32.0, 0.0, 64.0, 64.0, \"This Study\"], [\"Bru\", 20.8918, 0.053363, 1771.6697, 0.28529, 30.051783, 6.770797, 0.00417, 0.00126, 50.0, 0.0, 50.0, 32.0, 0.0, 64.0, 64.0, \"This Study\"], [\"Bru\", 23.32065, 0.050913, 2955.54264, 0.35704, 30.962443, 2.776512, 0.0011, 0.000428, 50.0, 0.0, 50.0, 32.0, 0.0, 64.0, 64.0, \"This Study\"], [\"Bru\", 24.38293, 0.063099, 1771.92894, 0.40508, 29.141123, 6.565621, 0.00447, 0.00116, 50.0, 0.0, 50.0, 32.0, 0.0, 64.0, 64.0, \"This Study\"], [\"En\", 24.69447, 0.1028, 2991.08706, 0.53289, 27.195588, 3.69136, 0.00724, 0.00464, 50.0, 50.0, 0.0, 32.0, 32.0, 96.0, 0.0, \"This Study\"], [\"Bru\", 26.5547, 0.045911, 2955.41709, 0.48672, 30.051783, 2.860649, 0.00126, 0.000353, 50.0, 0.0, 50.0, 32.0, 0.0, 64.0, 64.0, \"This Study\"], [\"Bru\", 30.55156, 0.057857, 2955.78832, 0.29247, 29.141123, 2.950045, 0.00144, 0.000533, 50.0, 0.0, 50.0, 32.0, 0.0, 64.0, 64.0, \"This Study\"], [\"En\", 1.944895, 0.061056, 3000.0, 0.319056, 38.885819, 2.581661, NaN, NaN, 50.0, 50.0, 0.0, NaN, NaN, NaN, NaN, \"Stixrude & Karki (2005)\"], [\"En\", 5.024311, 0.061056, 3000.0, 0.319056, 35.01, 2.867466, NaN, NaN, 50.0, 50.0, 0.0, NaN, NaN, NaN, NaN, \"Stixrude & Karki (2005)\"], [\"En\", 12.80389, 0.061056, 3000.0, 0.319056, 31.115274, 3.22639, NaN, NaN, 50.0, 50.0, 0.0, NaN, NaN, NaN, NaN, \"Stixrude & Karki (2005)\"], [\"En\", 24.797407, 0.061056, 3000.0, 0.319056, 27.220547, 3.688023, NaN, NaN, 50.0, 50.0, 0.0, NaN, NaN, NaN, NaN, \"Stixrude & Karki (2005)\"], [\"En\", 54.7812, 0.061056, 3000.0, 0.319056, 23.344726, 4.300329, NaN, NaN, 50.0, 50.0, 0.0, NaN, NaN, NaN, NaN, \"Stixrude & Karki (2005)\"], [\"En\", 125.28363, 0.061056, 3000.0, 0.319056, 19.45, 5.16144, NaN, NaN, 50.0, 50.0, 0.0, NaN, NaN, NaN, NaN, \"Stixrude & Karki (2005)\"], [\"En\", 3.403566, 0.061056, 4000.0, 0.319056, 38.885819, 2.581661, NaN, NaN, 50.0, 50.0, 0.0, NaN, NaN, NaN, NaN, \"Stixrude & Karki (2005)\"], [\"En\", 8.103727, 0.061056, 4000.0, 0.319056, 34.991093, 2.869016, NaN, NaN, 50.0, 50.0, 0.0, NaN, NaN, NaN, NaN, \"Stixrude & Karki (2005)\"], [\"En\", 16.207455, 0.061056, 4000.0, 0.319056, 31.115274, 3.22639, NaN, NaN, 50.0, 50.0, 0.0, NaN, NaN, NaN, NaN, \"Stixrude & Karki (2005)\"], [\"En\", 31.604538, 0.061056, 4000.0, 0.319056, 27.239453, 3.685463, NaN, NaN, 50.0, 50.0, 0.0, NaN, NaN, NaN, NaN, \"Stixrude & Karki (2005)\"], [\"En\", 61.102108, 0.061056, 4000.0, 0.319056, 23.344726, 4.300329, NaN, NaN, 50.0, 50.0, 0.0, NaN, NaN, NaN, NaN, \"Stixrude & Karki (2005)\"], [\"En\", 135.17018, 0.061056, 4000.0, 0.319056, 19.468905, 5.156428, NaN, NaN, 50.0, 50.0, 0.0, NaN, NaN, NaN, NaN, \"Stixrude & Karki (2005)\"], [\"En\", 7.617504, 0.061056, 6000.0, 0.319056, 38.885819, 2.581661, NaN, NaN, 50.0, 50.0, 0.0, NaN, NaN, NaN, NaN, \"Stixrude & Karki (2005)\"], [\"En\", 12.965964, 0.061056, 6000.0, 0.319056, 35.01, 2.867466, NaN, NaN, 50.0, 50.0, 0.0, NaN, NaN, NaN, NaN, \"Stixrude & Karki (2005)\"], [\"En\", 23.824959, 0.061056, 6000.0, 0.319056, 31.115274, 3.22639, NaN, NaN, 50.0, 50.0, 0.0, NaN, NaN, NaN, NaN, \"Stixrude & Karki (2005)\"], [\"En\", 41.004864, 0.061056, 6000.0, 0.319056, 27.220547, 3.688023, NaN, NaN, 50.0, 50.0, 0.0, NaN, NaN, NaN, NaN, \"Stixrude & Karki (2005)\"], [\"En\", 76.33711, 0.061056, 6000.0, 0.319056, 23.344726, 4.300329, NaN, NaN, 50.0, 50.0, 0.0, NaN, NaN, NaN, NaN, \"Stixrude & Karki (2005)\"], [\"En\", 155.10535, 0.061056, 6000.0, 0.319056, 19.45, 5.16144, NaN, NaN, 50.0, 50.0, 0.0, NaN, NaN, NaN, NaN, \"Stixrude & Karki (2005)\"], [\"EnH50\", 0.44575, 0.034837, 1779.30093, 0.39732, 39.176019, 39.176019, 0.00569, 0.0028, 33.33, 33.33, 33.33, 20.0, 20.0, 80.0, 40.0, \"This Study\"], [\"EnH60\", 0.92756, 0.03445, 1775.1742, 0.494, 39.04351, 39.04351, 0.000891, 0.000584, 28.57, 28.57, 42.86, 16.0, 16.0, 72.0, 48.0, \"This Study\"], [\"EnH25\", 1.045, 0.072878, 1788.04245, 0.43646, 37.177534, 2.567465, 0.00981, 0.00646, 42.86, 42.86, 14.29, 27.0, 27.0, 90.0, 18.0, \"This Study\"], [\"EnH25\", 1.12216, 0.045164, 2981.71832, 0.4898, 39.242952, 2.432336, 0.00145, 0.000726, 42.86, 42.86, 14.29, 27.0, 27.0, 90.0, 18.0, \"This Study\"], [\"EnH50\", 1.79377, 0.039975, 1780.02742, 0.57745, 37.217218, 37.217218, 0.00649, 0.00168, 33.33, 33.33, 33.33, 20.0, 20.0, 80.0, 40.0, \"This Study\"], [\"EnH50\", 2.04117, 0.043956, 2968.2802, 0.53751, 39.176019, 2.247473, 0.000581, 9.9e-05, 33.33, 33.33, 33.33, 20.0, 20.0, 80.0, 40.0, \"This Study\"], [\"EnH60\", 2.34624, 0.04785, 1775.80213, 0.53744, 36.874426, 36.874426, 0.00202, 0.000623, 28.57, 28.57, 42.86, 16.0, 16.0, 72.0, 48.0, \"This Study\"], [\"EnH60\", 2.7378, 0.0406, 2962.13712, 0.54191, 39.04351, 2.149733, 0.000499, 0.000194, 28.57, 28.57, 42.86, 16.0, 16.0, 72.0, 48.0, \"This Study\"], [\"EnH25\", 2.98628, 0.057011, 2981.83934, 0.64269, 37.177534, 2.567465, 0.00162, 0.000724, 42.86, 42.86, 14.29, 27.0, 27.0, 90.0, 18.0, \"This Study\"], [\"EnH25\", 3.22079, 0.066735, 1788.91123, 0.98235, 35.112115, 2.718493, 0.01296, 0.01, 42.86, 42.86, 14.29, 27.0, 27.0, 90.0, 18.0, \"This Study\"], [\"EnH50\", 3.65636, 0.045282, 2968.71452, 0.58778, 37.217218, 2.365761, 0.00102, 0.000194, 33.33, 33.33, 33.33, 20.0, 20.0, 80.0, 40.0, \"This Study\"], [\"EnH50\", 3.65823, 0.042574, 1780.21554, 0.65013, 35.258417, 35.258417, 0.00519, 0.0023, 33.33, 33.33, 33.33, 20.0, 20.0, 80.0, 40.0, \"This Study\"], [\"EnH60\", 4.36866, 0.05746, 1775.9203, 0.87678, 34.705342, 34.705342, 0.00234, 0.000364, 28.57, 28.57, 42.86, 16.0, 16.0, 72.0, 48.0, \"This Study\"], [\"EnH60\", 4.42634, 0.03317, 2962.06481, 0.44901, 36.874426, 2.276188, 0.000643, 0.000143, 28.57, 28.57, 42.86, 16.0, 16.0, 72.0, 48.0, \"This Study\"], [\"EnH25\", 5.24664, 0.054469, 2981.82913, 0.19394, 35.112115, 2.718493, 0.0019, 0.000216, 42.86, 42.86, 14.29, 27.0, 27.0, 90.0, 18.0, \"This Study\"], [\"EnH50\", 5.72448, 0.045007, 2968.3431, 0.32171, 35.258417, 2.497192, 0.000945, 0.000212, 33.33, 33.33, 33.33, 20.0, 20.0, 80.0, 40.0, \"This Study\"], [\"EnH25\", 5.75903, 0.07761, 1788.52888, 0.42655, 33.046697, 2.888399, 0.01135, 0.0032, 42.86, 42.86, 14.29, 27.0, 27.0, 90.0, 18.0, \"This Study\"], [\"EnH50\", 5.87647, 0.086311, 1780.11513, 0.59436, 33.299617, 33.299617, 0.00751, 0.00302, 33.33, 33.33, 33.33, 20.0, 20.0, 80.0, 40.0, \"This Study\"], [\"EnH60\", 6.72006, 0.05693, 2962.344, 0.48234, 34.705342, 2.41845, 0.000639, 0.000167, 28.57, 28.57, 42.86, 16.0, 16.0, 72.0, 48.0, \"This Study\"], [\"EnH60\", 7.05902, 0.08171, 1776.34177, 0.28, 32.536258, 32.536258, 0.00355, 0.0024, 28.57, 28.57, 42.86, 16.0, 16.0, 72.0, 48.0, \"This Study\"], [\"EnH25\", 8.40303, 0.079663, 2982.18798, 0.61524, 33.046697, 2.888399, 0.00156, 0.000392, 42.86, 42.86, 14.29, 27.0, 27.0, 90.0, 18.0, \"This Study\"], [\"EnH50\", 8.50012, 0.055007, 2969.26865, 0.67132, 33.299617, 2.644085, 0.00141, 0.000352, 33.33, 33.33, 33.33, 20.0, 20.0, 80.0, 40.0, \"This Study\"], [\"EnH50\", 8.78455, 0.096122, 1780.29549, 0.23752, 31.340816, 31.340816, 0.00859, 0.00525, 33.33, 33.33, 33.33, 20.0, 20.0, 80.0, 40.0, \"This Study\"], [\"EnH25\", 9.44819, 0.13275, 1788.59787, 0.13026, 30.981278, 3.080958, 0.01613, 0.01288, 42.86, 42.86, 14.29, 27.0, 27.0, 90.0, 18.0, \"This Study\"], [\"EnH60\", 9.97363, 0.05903, 2962.78904, 0.45453, 32.536258, 2.57968, 0.000674, 0.000277, 28.57, 28.57, 42.86, 16.0, 16.0, 72.0, 48.0, \"This Study\"], [\"EnH60\", 10.7157, 0.09966, 1775.12585, 0.3639, 30.367174, 30.367174, 0.00496, 0.00133, 28.57, 28.57, 42.86, 16.0, 16.0, 72.0, 48.0, \"This Study\"], [\"EnH50\", 12.10405, 0.056666, 2969.53507, 0.20398, 31.340816, 2.809341, 0.00144, 0.000336, 33.33, 33.33, 33.33, 20.0, 20.0, 80.0, 40.0, \"This Study\"], [\"EnH50\", 12.50671, 0.067751, 1780.50418, 0.42148, 29.382015, 29.382015, 0.00928, 0.00612, 33.33, 33.33, 33.33, 20.0, 20.0, 80.0, 40.0, \"This Study\"], [\"EnH25\", 12.51977, 0.086702, 2981.80363, 0.2697, 30.981278, 3.080958, 0.00204, 0.0007, 42.86, 42.86, 14.29, 27.0, 27.0, 90.0, 18.0, \"This Study\"], [\"EnH25\", 13.50164, 0.128329, 1788.82829, 0.25461, 28.91586, 3.301027, 0.03546, 0.01813, 42.86, 42.86, 14.29, 27.0, 27.0, 90.0, 18.0, \"This Study\"], [\"EnH60\", 14.30389, 0.06291, 2962.80268, 0.66644, 30.367174, 2.763943, 0.00102, 0.000209, 28.57, 28.57, 42.86, 16.0, 16.0, 72.0, 48.0, \"This Study\"], [\"EnH60\", 15.38519, 0.11771, 1776.60855, 0.50549, 28.19809, 28.19809, 0.00692, 0.0018, 28.57, 28.57, 42.86, 16.0, 16.0, 72.0, 48.0, \"This Study\"], [\"EnH50\", 16.76469, 0.069437, 2969.18658, 0.14127, 29.382015, 2.99663, 0.00147, 0.000398, 33.33, 33.33, 33.33, 20.0, 20.0, 80.0, 40.0, \"This Study\"], [\"EnH50\", 17.35494, 0.102528, 1780.79142, 0.34422, 27.423214, 27.423214, 0.01831, 0.00924, 33.33, 33.33, 33.33, 20.0, 20.0, 80.0, 40.0, \"This Study\"], [\"EnH25\", 18.29621, 0.083416, 2981.7977, 0.55234, 28.91586, 3.301027, 0.00276, 0.000731, 42.86, 42.86, 14.29, 27.0, 27.0, 90.0, 18.0, \"This Study\"], [\"EnH60\", 20.54701, 0.07201, 2963.13957, 0.20138, 28.19809, 2.976554, 0.00142, 0.000661, 28.57, 28.57, 42.86, 16.0, 16.0, 72.0, 48.0, \"This Study\"], [\"EnH25\", 20.5942, 0.102416, 1788.58223, 0.30731, 26.850441, 3.554952, 0.06094, 0.02414, 42.86, 42.86, 14.29, 27.0, 27.0, 90.0, 18.0, \"This Study\"], [\"EnH60\", 21.9071, 0.16005, 1777.38967, 0.26613, 26.029007, 26.029007, 0.0166, 0.00915, 28.57, 28.57, 42.86, 16.0, 16.0, 72.0, 48.0, \"This Study\"], [\"EnH50\", 23.42594, 0.078962, 2969.27857, 0.50441, 27.423214, 3.210675, 0.00287, 0.000918, 33.33, 33.33, 33.33, 20.0, 20.0, 80.0, 40.0, \"This Study\"], [\"EnH50\", 25.07162, 0.086678, 1780.82071, 0.36597, 25.464413, 25.464413, 0.03575, 0.01092, 33.33, 33.33, 33.33, 20.0, 20.0, 80.0, 40.0, \"This Study\"], [\"EnH25\", 25.95165, 0.125081, 2981.53263, 0.54592, 26.850441, 3.554952, 0.00355, 0.00106, 42.86, 42.86, 14.29, 27.0, 27.0, 90.0, 18.0, \"This Study\"], [\"EnH60\", 29.32472, 0.10674, 2963.25516, 0.44248, 26.029007, 3.2246, 0.0022, 0.000762, 28.57, 28.57, 42.86, 16.0, 16.0, 72.0, 48.0, \"This Study\"], [\"EnH50\", 32.61645, 0.117458, 2969.23886, 0.43931, 25.464413, 3.45765, 0.00365, 0.000919, 33.33, 33.33, 33.33, 20.0, 20.0, 80.0, 40.0, \"This Study\"], [\"Fo\", 160.62529, 0.0611, 3000.0, 0.319, 19.635, 5.374077, NaN, NaN, 66.67, 33.33, 0.0, NaN, NaN, NaN, NaN, \"de Koker et al. (2008)\"], [\"Fo\", 167.88405, 0.0611, 4000.0, 0.319, 19.635, 5.374077, NaN, NaN, 66.67, 33.33, 0.0, NaN, NaN, NaN, NaN, \"de Koker et al. (2008)\"], [\"Fo\", 187.88405, 0.0611, 6000.0, 0.319, 19.635, 5.374077, NaN, NaN, 66.67, 33.33, 0.0, NaN, NaN, NaN, NaN, \"de Koker et al. (2008)\"], [\"Fo\", 73.79966, 0.0611, 3000.0, 0.319, 23.562, 4.478397, NaN, NaN, 66.67, 33.33, 0.0, NaN, NaN, NaN, NaN, \"de Koker et al. (2008)\"], [\"Fo\", 80.2744, 0.0611, 4000.0, 0.319, 23.562, 4.478397, NaN, NaN, 66.67, 33.33, 0.0, NaN, NaN, NaN, NaN, \"de Koker et al. (2008)\"], [\"Fo\", 99.50517, 0.0611, 6000.0, 0.319, 23.562, 4.478397, NaN, NaN, 66.67, 33.33, 0.0, NaN, NaN, NaN, NaN, \"de Koker et al. (2008)\"], [\"Fo\", 34.23105, 0.0611, 3000.0, 0.319, 27.489, 3.838626, NaN, NaN, 66.67, 33.33, 0.0, NaN, NaN, NaN, NaN, \"de Koker et al. (2008)\"], [\"Fo\", 41.70265, 0.0611, 4000.0, 0.319, 27.489, 3.838626, NaN, NaN, 66.67, 33.33, 0.0, NaN, NaN, NaN, NaN, \"de Koker et al. (2008)\"], [\"Fo\", 55.356495, 0.0611, 6000.0, 0.319, 27.489, 3.838626, NaN, NaN, 66.67, 33.33, 0.0, NaN, NaN, NaN, NaN, \"de Koker et al. (2008)\"], [\"Fo\", 16.540796, 0.0611, 3000.0, 0.319, 31.416, 3.358798, NaN, NaN, 66.67, 33.33, 0.0, NaN, NaN, NaN, NaN, \"de Koker et al. (2008)\"], [\"Fo\", 21.977617, 0.0611, 4000.0, 0.319, 31.416, 3.358798, NaN, NaN, 66.67, 33.33, 0.0, NaN, NaN, NaN, NaN, \"de Koker et al. (2008)\"], [\"Fo\", 31.977617, 0.0611, 6000.0, 0.319, 31.416, 3.358798, NaN, NaN, 66.67, 33.33, 0.0, NaN, NaN, NaN, NaN, \"de Koker et al. (2008)\"], [\"Fo\", 16.99229, 0.083863, 2992.48325, 0.49385, 31.418559, 3.358519, 0.00709, 0.00312, 66.67, 33.33, 0.0, 46.0, 23.0, 92.0, 0.0, \"This Study\"], [\"Fo\", 11.83864, 0.060525, 2992.71637, 0.3808, 33.384237, 3.160768, 0.00453, 0.0026, 66.67, 33.33, 0.0, 46.0, 23.0, 92.0, 0.0, \"This Study\"], [\"Fo\", 8.258238, 0.0611, 3000.0, 0.319, 35.343, 2.985598, NaN, NaN, 66.67, 33.33, 0.0, NaN, NaN, NaN, NaN, \"de Koker et al. (2008)\"], [\"Fo\", 10.905866, 0.0611, 4000.0, 0.319, 35.343, 2.985598, NaN, NaN, 66.67, 33.33, 0.0, NaN, NaN, NaN, NaN, \"de Koker et al. (2008)\"], [\"Fo\", 19.36797, 0.0611, 6000.0, 0.319, 35.343, 2.985598, NaN, NaN, 66.67, 33.33, 0.0, NaN, NaN, NaN, NaN, \"de Koker et al. (2008)\"], [\"Fo\", 7.83179, 0.05319, 2992.8469, 0.10446, 35.351718, 2.984857, 0.00446, 0.00162, 66.67, 33.33, 0.0, 46.0, 23.0, 92.0, 0.0, \"This Study\"], [\"Fo\", 4.68312, 0.05267, 2993.31006, 0.17592, 37.313622, 2.827917, 0.00346, 0.00113, 66.67, 33.33, 0.0, 46.0, 23.0, 92.0, 0.0, \"This Study\"], [\"Fo\", 3.695002, 0.0611, 3000.0, 0.319, 39.27, 2.687038, NaN, NaN, 66.67, 33.33, 0.0, NaN, NaN, NaN, NaN, \"de Koker et al. (2008)\"], [\"Fo\", 5.411602, 0.0611, 4000.0, 0.319, 39.27, 2.687038, NaN, NaN, 66.67, 33.33, 0.0, NaN, NaN, NaN, NaN, \"de Koker et al. (2008)\"], [\"Fo\", 12.33468, 0.0611, 6000.0, 0.319, 39.27, 2.687038, NaN, NaN, 66.67, 33.33, 0.0, NaN, NaN, NaN, NaN, \"de Koker et al. (2008)\"], [\"Fo\", 2.45957, 0.055031, 2993.23811, 0.44025, 39.277556, 2.686517, 0.00138, 0.000325, 66.67, 33.33, 0.0, 46.0, 23.0, 92.0, 0.0, \"This Study\"], [\"Fo\", 0.663252, 0.0611, 3000.0, 0.319, 43.197, 2.442762, NaN, NaN, 66.67, 33.33, 0.0, NaN, NaN, NaN, NaN, \"de Koker et al. (2008)\"], [\"Fo\", 2.801389, 0.0611, 4000.0, 0.319, 43.197, 2.442762, NaN, NaN, 66.67, 33.33, 0.0, NaN, NaN, NaN, NaN, \"de Koker et al. (2008)\"], [\"Fo\", 8.18657, 0.0611, 6000.0, 0.319, 43.197, 2.442762, NaN, NaN, 66.67, 33.33, 0.0, NaN, NaN, NaN, NaN, \"de Koker et al. (2008)\"], [\"Fo\", -0.289811, 0.0611, 3000.0, 0.319, 47.124, 2.239199, NaN, NaN, 66.67, 33.33, 0.0, NaN, NaN, NaN, NaN, \"de Koker et al. (2008)\"], [\"Fo\", 0.768665, 0.0611, 4000.0, 0.319, 47.124, 2.239199, NaN, NaN, 66.67, 33.33, 0.0, NaN, NaN, NaN, NaN, \"de Koker et al. (2008)\"], [\"Fo\", 5.19231, 0.0611, 6000.0, 0.319, 47.124, 2.239199, NaN, NaN, 66.67, 33.33, 0.0, NaN, NaN, NaN, NaN, \"de Koker et al. (2008)\"], [\"MSH70\", 0.27554, 0.03435, 1771.77166, 0.80733, 41.37012, 41.37012, 0.000521, 0.000456, 28.81, 20.34, 50.85, 17.0, 12.0, 71.0, 60.0, \"This Study\"], [\"MSH40\", 0.86932, 0.05007, 1784.24407, 0.35956, 38.77026, 38.77026, 0.00352, 0.00135, 45.16, 32.26, 22.58, 28.0, 20.0, 82.0, 28.0, \"This Study\"], [\"MSH60\", 0.88905, 0.037, 1776.1111, 0.47704, 39.340226, 39.340226, 0.00106, 0.000233, 35.0, 25.0, 40.0, 21.0, 15.0, 75.0, 48.0, \"This Study\"], [\"MS\", 1.01882, 0.06122, 2992.84256, 0.39628, 39.387493, 2.584683, 0.00214, 0.000313, 55.0, 45.0, 0.0, 33.0, 27.0, 87.0, 0.0, \"This Study\"], [\"MSH60\", 1.26868, 0.03718, 2962.8429, 0.72635, 41.798991, 2.063048, 0.0022, 0.000762, 35.0, 25.0, 40.0, 21.0, 15.0, 75.0, 48.0, \"This Study\"], [\"MSH70\", 1.59714, 0.02798, 1771.76189, 0.63496, 38.784488, 38.784488, 0.000828, 0.000424, 28.81, 20.34, 50.85, 17.0, 12.0, 71.0, 60.0, \"This Study\"], [\"MSH70\", 1.95238, 0.038949, 2955.13244, 0.46369, 41.37012, 1.957329, 0.000297, 3e-05, 28.81, 20.34, 50.85, 17.0, 12.0, 71.0, 60.0, \"This Study\"], [\"MSH40\", 2.00172, 0.05301, 1784.88818, 0.22294, 36.924057, 36.924057, 0.00775, 0.00416, 45.16, 32.26, 22.58, 28.0, 20.0, 82.0, 28.0, \"This Study\"], [\"FoH50\", 2.35877, 0.05243, 1783.1537, 0.41619, 37.298366, 37.298366, 0.00521, 0.002, 50.0, 25.0, 25.0, 32.0, 16.0, 80.0, 32.0, \"This Study\"], [\"MSH40\", 2.52424, 0.04094, 2975.88957, 0.491, 38.77026, 2.423575, 0.000818, 0.000132, 45.16, 32.26, 22.58, 28.0, 20.0, 82.0, 28.0, \"This Study\"], [\"MSH60\", 2.62845, 0.04189, 1777.07006, 0.40019, 36.881462, 36.881462, 0.00193, 0.00134, 35.0, 25.0, 40.0, 21.0, 15.0, 75.0, 48.0, \"This Study\"], [\"MS\", 2.64682, 0.0568, 2992.73543, 0.18238, 37.418119, 2.720719, 0.00206, 0.000789, 55.0, 45.0, 0.0, 33.0, 27.0, 87.0, 0.0, \"This Study\"], [\"MSH60\", 2.78494, 0.03564, 2963.20292, 0.5149, 39.340226, 2.191988, 0.000475, 0.000136, 35.0, 25.0, 40.0, 21.0, 15.0, 75.0, 48.0, \"This Study\"], [\"MSH70\", 3.61713, 0.037622, 2956.19712, 0.52446, 38.784488, 2.087817, 0.000362, 6.7e-05, 28.81, 20.34, 50.85, 17.0, 12.0, 71.0, 60.0, \"This Study\"], [\"MSH70\", 3.67845, 0.0444, 1772.34868, 0.49356, 36.198855, 36.198855, 0.00102, 0.000195, 28.81, 20.34, 50.85, 17.0, 12.0, 71.0, 60.0, \"This Study\"], [\"MSH40\", 4.06087, 0.04646, 1785.40372, 0.57765, 35.077854, 35.077854, 0.00373, 0.00213, 45.16, 32.26, 22.58, 28.0, 20.0, 82.0, 28.0, \"This Study\"], [\"MSH40\", 4.30188, 0.04797, 2975.76818, 0.48704, 36.924057, 2.544754, 0.00104, 0.000343, 45.16, 32.26, 22.58, 28.0, 20.0, 82.0, 28.0, \"This Study\"], [\"FoH50\", 4.48449, 0.04324, 1783.4159, 0.41975, 35.335295, 35.335295, 0.0036, 0.00292, 50.0, 25.0, 25.0, 32.0, 16.0, 80.0, 32.0, \"This Study\"], [\"MSH60\", 4.87069, 0.0382, 2963.74459, 0.52236, 36.881462, 2.338121, 0.000592, 0.000314, 35.0, 25.0, 40.0, 21.0, 15.0, 75.0, 48.0, \"This Study\"], [\"FoH50\", 4.93877, 0.04765, 2973.95893, 0.6997, 37.298366, 2.536847, 0.000946, 0.000401, 50.0, 25.0, 25.0, 32.0, 16.0, 80.0, 32.0, \"This Study\"], [\"MS\", 5.2413, 0.06103, 2992.62926, 0.48643, 35.448744, 2.87187, 0.0021, 0.00056, 55.0, 45.0, 0.0, 33.0, 27.0, 87.0, 0.0, \"This Study\"], [\"MSH60\", 5.26308, 0.0708, 1777.19554, 0.53116, 34.422698, 34.422698, 0.00303, 0.00232, 35.0, 25.0, 40.0, 21.0, 15.0, 75.0, 48.0, \"This Study\"], [\"MSH70\", 6.00114, 0.044626, 2955.97015, 0.44673, 36.198855, 2.236947, 0.000399, 9.2e-05, 28.81, 20.34, 50.85, 17.0, 12.0, 71.0, 60.0, \"This Study\"], [\"MSH70\", 6.46355, 0.04284, 1772.50792, 0.23432, 33.613223, 33.613223, 0.00138, 0.000444, 28.81, 20.34, 50.85, 17.0, 12.0, 71.0, 60.0, \"This Study\"], [\"MSH40\", 6.5001, 0.07724, 1785.06988, 0.23691, 33.231651, 33.231651, 0.00926, 0.00601, 45.16, 32.26, 22.58, 28.0, 20.0, 82.0, 28.0, \"This Study\"], [\"MSH40\", 6.65345, 0.05313, 2975.93089, 0.50666, 35.077854, 2.678688, 0.0011, 0.000272, 45.16, 32.26, 22.58, 28.0, 20.0, 82.0, 28.0, \"This Study\"], [\"FoH50\", 7.51248, 0.07973, 1783.72689, 0.48389, 33.372223, 33.372223, 0.00815, 0.00466, 50.0, 25.0, 25.0, 32.0, 16.0, 80.0, 32.0, \"This Study\"], [\"FoH50\", 7.5211, 0.05431, 2973.80632, 0.40803, 35.335295, 2.677783, 0.00113, 0.000444, 50.0, 25.0, 25.0, 32.0, 16.0, 80.0, 32.0, \"This Study\"], [\"MSH60\", 7.81328, 0.04801, 2963.67886, 0.44389, 34.422698, 2.50513, 0.000673, 0.000132, 35.0, 25.0, 40.0, 21.0, 15.0, 75.0, 48.0, \"This Study\"], [\"MS\", 8.16767, 0.07908, 2992.31093, 0.23873, 33.479369, 3.040803, 0.00244, 0.000401, 55.0, 45.0, 0.0, 33.0, 27.0, 87.0, 0.0, \"This Study\"], [\"MSH60\", 8.65241, 0.0893, 1777.47606, 0.40514, 31.963934, 31.963934, 0.00315, 0.00101, 35.0, 25.0, 40.0, 21.0, 15.0, 75.0, 48.0, \"This Study\"], [\"MSH70\", 9.36157, 0.045973, 2957.25285, 0.55247, 33.613223, 2.40902, 0.000499, 0.000111, 28.81, 20.34, 50.85, 17.0, 12.0, 71.0, 60.0, \"This Study\"], [\"MSH40\", 9.66006, 0.05282, 2975.89198, 0.68616, 33.231651, 2.827504, 0.00167, 0.000284, 45.16, 32.26, 22.58, 28.0, 20.0, 82.0, 28.0, \"This Study\"], [\"MSH40\", 9.91661, 0.1048, 1784.95831, 0.25033, 31.385448, 31.385448, 0.00748, 0.00601, 45.16, 32.26, 22.58, 28.0, 20.0, 82.0, 28.0, \"This Study\"], [\"MSH70\", 10.68495, 0.05796, 1773.37107, 0.32971, 31.02759, 31.02759, 0.00251, 0.00098, 28.81, 20.34, 50.85, 17.0, 12.0, 71.0, 60.0, \"This Study\"], [\"FoH50\", 11.02371, 0.071, 2974.30083, 0.58807, 33.372223, 2.8353, 0.00162, 0.000193, 50.0, 25.0, 25.0, 32.0, 16.0, 80.0, 32.0, \"This Study\"], [\"FoH50\", 11.4699, 0.07221, 1783.68537, 0.43038, 31.409151, 31.409151, 0.00903, 0.00742, 50.0, 25.0, 25.0, 32.0, 16.0, 80.0, 32.0, \"This Study\"], [\"MSH60\", 12.1732, 0.059, 2964.78265, 0.51475, 31.963934, 2.697832, 0.000915, 0.000224, 35.0, 25.0, 40.0, 21.0, 15.0, 75.0, 48.0, \"This Study\"], [\"MS\", 12.56588, 0.08628, 2991.98196, 0.31184, 31.509995, 3.230854, 0.00319, 0.00149, 55.0, 45.0, 0.0, 33.0, 27.0, 87.0, 0.0, \"This Study\"], [\"MSH40\", 13.60616, 0.06914, 2975.67145, 0.54262, 31.385448, 2.993828, 0.00173, 0.000937, 45.16, 32.26, 22.58, 28.0, 20.0, 82.0, 28.0, \"This Study\"], [\"MSH60\", 13.9772, 0.06924, 1777.54131, 0.24447, 29.50517, 29.50517, 0.00391, 0.0016, 35.0, 25.0, 40.0, 21.0, 15.0, 75.0, 48.0, \"This Study\"], [\"MSH70\", 14.11054, 0.045712, 2957.27957, 0.30465, 31.02759, 2.609772, 0.000787, 0.000467, 28.81, 20.34, 50.85, 17.0, 12.0, 71.0, 60.0, \"This Study\"], [\"MSH40\", 14.23496, 0.10613, 1784.86952, 0.33784, 29.539245, 29.539245, 0.01003, 0.00802, 45.16, 32.26, 22.58, 28.0, 20.0, 82.0, 28.0, \"This Study\"], [\"FoH50\", 15.68531, 0.06894, 2974.35877, 0.50416, 31.409151, 3.012506, 0.00108, 0.000394, 50.0, 25.0, 25.0, 32.0, 16.0, 80.0, 32.0, \"This Study\"], [\"FoH50\", 16.48605, 0.14712, 1783.57218, 0.16543, 29.446079, 29.446079, 0.01603, 0.00496, 50.0, 25.0, 25.0, 32.0, 16.0, 80.0, 32.0, \"This Study\"], [\"MSH70\", 16.52575, 0.08567, 1773.21652, 0.24997, 28.441958, 28.441958, 0.0022, 0.000464, 28.81, 20.34, 50.85, 17.0, 12.0, 71.0, 60.0, \"This Study\"], [\"MS\", 18.05874, 0.15006, 2991.47681, 0.26307, 29.54062, 3.446244, 0.00386, 0.00168, 55.0, 45.0, 0.0, 33.0, 27.0, 87.0, 0.0, \"This Study\"], [\"MSH60\", 18.24675, 0.08225, 2964.76904, 0.18927, 29.50517, 2.922651, 0.00114, 0.000636, 35.0, 25.0, 40.0, 21.0, 15.0, 75.0, 48.0, \"This Study\"], [\"MSH40\", 18.73564, 0.09137, 2975.98528, 0.41126, 29.539245, 3.180942, 0.00215, 0.000672, 45.16, 32.26, 22.58, 28.0, 20.0, 82.0, 28.0, \"This Study\"], [\"MSH40\", 20.01192, 0.14967, 1785.02696, 0.14149, 27.693043, 27.693043, 0.03041, 0.02661, 45.16, 32.26, 22.58, 28.0, 20.0, 82.0, 28.0, \"This Study\"], [\"MSH60\", 20.76043, 0.12569, 1777.90545, 0.47961, 27.046406, 27.046406, 0.00935, 0.00295, 35.0, 25.0, 40.0, 21.0, 15.0, 75.0, 48.0, \"This Study\"], [\"MSH70\", 21.13026, 0.070226, 2957.57474, 0.43805, 28.441958, 2.847024, 0.000855, 0.000126, 28.81, 20.34, 50.85, 17.0, 12.0, 71.0, 60.0, \"This Study\"], [\"FoH50\", 21.70696, 0.08361, 2973.95137, 0.54515, 29.446079, 3.21334, 0.00184, 0.00095, 50.0, 25.0, 25.0, 32.0, 16.0, 80.0, 32.0, \"This Study\"], [\"FoH50\", 23.38396, 0.21371, 1783.52243, 0.16959, 27.483007, 27.483007, 0.02183, 0.01521, 50.0, 25.0, 25.0, 32.0, 16.0, 80.0, 32.0, \"This Study\"], [\"MSH70\", 24.93817, 0.11285, 1774.07145, 0.18928, 25.856325, 25.856325, 0.00683, 0.00501, 28.81, 20.34, 50.85, 17.0, 12.0, 71.0, 60.0, \"This Study\"], [\"MS\", 25.18321, 0.15982, 2991.34128, 0.3603, 27.571245, 3.692404, 0.00576, 0.00265, 55.0, 45.0, 0.0, 33.0, 27.0, 87.0, 0.0, \"This Study\"], [\"MSH40\", 25.35467, 0.10493, 2975.83804, 0.37965, 27.693043, 3.393005, 0.00289, 0.000801, 45.16, 32.26, 22.58, 28.0, 20.0, 82.0, 28.0, \"This Study\"], [\"MSH60\", 27.20023, 0.07551, 2964.09403, 0.4582, 27.046406, 3.188347, 0.00184, 0.00086, 35.0, 25.0, 40.0, 21.0, 15.0, 75.0, 48.0, \"This Study\"], [\"FoH50\", 29.86971, 0.11214, 2973.72618, 0.26087, 27.483007, 3.442864, 0.00344, 0.00155, 50.0, 25.0, 25.0, 32.0, 16.0, 80.0, 32.0, \"This Study\"], [\"MSH70\", 31.8833, 0.072291, 2957.92586, 0.44717, 25.856325, 3.131726, 0.00152, 0.000329, 28.81, 20.34, 50.85, 17.0, 12.0, 71.0, 60.0, \"This Study\"], [\"MSH60\", 31.97746, 0.15209, 1778.26565, 0.27278, 24.587642, 24.587642, 0.01585, 0.01007, 35.0, 25.0, 40.0, 21.0, 15.0, 75.0, 48.0, \"This Study\"]]};\n",
       "        dt_args = eval_functions(dt_args);\n",
       "        table = $('#b338ecd7-2352-411b-a845-899c115317c8').DataTable(dt_args);\n",
       "    });\n",
       "})\n",
       "</script>\n",
       "</div>\n"
      ],
      "text/plain": [
       "    Composition Code   P (GPa)  sigP (GPa)       T (K)  sigT (K)  \\\n",
       "0                 En   0.86932    0.050070  2992.65054   0.54924   \n",
       "1                Bru   2.58205    0.043780  1770.15935   0.43226   \n",
       "2                Bru   4.21473    0.040587  1770.75839   0.33714   \n",
       "3                 En   5.01188    0.074200  2992.23498   0.49803   \n",
       "4                Bru   5.63992    0.038680  2955.01199   0.61924   \n",
       "..               ...       ...         ...         ...       ...   \n",
       "166            MSH40  25.35467    0.104930  2975.83804   0.37965   \n",
       "167            MSH60  27.20023    0.075510  2964.09403   0.45820   \n",
       "168            FoH50  29.86971    0.112140  2973.72618   0.26087   \n",
       "169            MSH70  31.88330    0.072291  2957.92586   0.44717   \n",
       "170            MSH60  31.97746    0.152090  1778.26565   0.27278   \n",
       "\n",
       "     Vm (cm^3/mol)  rho (g/cm^3)  nu  (Pa/s)  signu (Pa/s)  MgO (mol %)  \\\n",
       "0        38.850840      2.583952    0.002280      0.000515        50.00   \n",
       "1        40.069044      9.027729    0.000495      0.000146        50.00   \n",
       "2        38.247724      8.617378    0.000589      0.000100        50.00   \n",
       "3        34.965756      2.871058    0.003760      0.001030        50.00   \n",
       "4        40.069044      2.145487    0.000316      0.000100        50.00   \n",
       "..             ...           ...         ...           ...          ...   \n",
       "166      27.693043      3.393005    0.002890      0.000801        45.16   \n",
       "167      27.046406      3.188347    0.001840      0.000860        35.00   \n",
       "168      27.483007      3.442864    0.003440      0.001550        50.00   \n",
       "169      25.856325      3.131726    0.001520      0.000329        28.81   \n",
       "170      24.587642     24.587642    0.015850      0.010070        35.00   \n",
       "\n",
       "     SiO2 (mol %)  H2O (mol %)   #Mg   #Si    #O    #H      Source  \n",
       "0           50.00         0.00  32.0  32.0  96.0   0.0  This Study  \n",
       "1            0.00        50.00  32.0   0.0  64.0  64.0  This Study  \n",
       "2            0.00        50.00  32.0   0.0  64.0  64.0  This Study  \n",
       "3           50.00         0.00  32.0  32.0  96.0   0.0  This Study  \n",
       "4            0.00        50.00  32.0   0.0  64.0  64.0  This Study  \n",
       "..            ...          ...   ...   ...   ...   ...         ...  \n",
       "166         32.26        22.58  28.0  20.0  82.0  28.0  This Study  \n",
       "167         25.00        40.00  21.0  15.0  75.0  48.0  This Study  \n",
       "168         25.00        25.00  32.0  16.0  80.0  32.0  This Study  \n",
       "169         20.34        50.85  17.0  12.0  71.0  60.0  This Study  \n",
       "170         25.00        40.00  21.0  15.0  75.0  48.0  This Study  \n",
       "\n",
       "[171 rows x 17 columns]"
      ]
     },
     "execution_count": 5,
     "metadata": {},
     "output_type": "execute_result"
    }
   ],
   "source": [
    "# Extract simulation conditions from text file and present as a table\n",
    "PVTX_data = pd.read_csv('./PVTXu_data/simulated_PVTXu_data.csv')\n",
    "\n",
    "PVTX_data"
   ]
  },
  {
   "cell_type": "code",
   "execution_count": 6,
   "metadata": {
    "init_cell": true,
    "scrolled": true
   },
   "outputs": [],
   "source": [
    "def extract_data(X, data_flag):\n",
    "    \"\"\"Given a composition code (e.g. X = 'En') and a flag (data_flag) extract_data returns\n",
    "    all of the data from Table 2 required for subsequent fitting and plotting of PVTX data.\n",
    "    \n",
    "    Parameters\n",
    "    ----------\n",
    "    \n",
    "    X         : string \n",
    "                composition code\n",
    "    data_flag : int\n",
    "                0 | 1 | 2 | 3 | 4 flag to determine how to search the data\n",
    "            \n",
    "    Returns\n",
    "    -------\n",
    "    \n",
    "    P       : numpy array of float\n",
    "              pressures\n",
    "    s_P     : numpy array of float\n",
    "              errors on pressures\n",
    "    V       : numpy array of float\n",
    "              volumes\n",
    "    s_V     : numpy array of float\n",
    "              errors on volumes (zero)\n",
    "    T       : numpy array of float\n",
    "              temperatures\n",
    "    s_T     : numpy array of float\n",
    "              errors on temperatures\n",
    "    xMgO    : numpy array of float\n",
    "              molar proportion of water\n",
    "    s_xMgO  : numpy array of float\n",
    "              errors in molar proportion of water (zero)\n",
    "    xSiO2   : numpy array of float\n",
    "              molar proportion of MgO\n",
    "    s_xSiO2 : numpy array of float\n",
    "              errors in molar proportion of MgO (zero)\n",
    "    xH2O    : numpy array of float\n",
    "              molar proportion of MgO\n",
    "    s_xH2O  : numpy array of float\n",
    "              errors in molar proportion of MgO (zero)\n",
    "    u       : numpy array of float\n",
    "              viscosities\n",
    "    s_u     : numpy array of float\n",
    "              errors on viscosities\n",
    "    source  : numpy array of string\n",
    "              data source\n",
    "    \"\"\"\n",
    "\n",
    "    if data_flag == 0:\n",
    "        X_mask = PVTX_data[\"Composition Code\"].isin([X])\n",
    "        fit_data = PVTX_data[X_mask]\n",
    "    elif data_flag == 1:\n",
    "        X_mask = PVTX_data[\"Composition Code\"].str.contains(X)\n",
    "        fit_data = PVTX_data[X_mask]\n",
    "    elif data_flag == 2:\n",
    "        fit_data = PVTX_data\n",
    "    elif data_flag == 3:\n",
    "        X_mask = (PVTX_data[\"Composition Code\"].str.contains(X)) & (\n",
    "            PVTX_data.iloc[:, 7].notnull())\n",
    "        fit_data = PVTX_data[X_mask]\n",
    "    elif data_flag == 4:\n",
    "        X_mask = (PVTX_data[\"Composition Code\"].isin(\n",
    "            [X])) & (PVTX_data.iloc[:, 7].notnull())\n",
    "        fit_data = PVTX_data[X_mask]\n",
    "\n",
    "    P = fit_data.iloc[:, 1].to_numpy()\n",
    "    s_P = fit_data.iloc[:, 2].to_numpy()\n",
    "\n",
    "    T = fit_data.iloc[:, 3].to_numpy()\n",
    "    s_T = fit_data.iloc[:, 4].to_numpy()\n",
    "\n",
    "    V = fit_data.iloc[:, 5].to_numpy()\n",
    "\n",
    "    u = fit_data.iloc[:, 7].to_numpy()\n",
    "    s_u = fit_data.iloc[:, 8].to_numpy()\n",
    "\n",
    "    xMgO = fit_data.iloc[:, 9].values / 100\n",
    "    xSiO2 = fit_data.iloc[:, 10].values / 100\n",
    "    xH2O = fit_data.iloc[:, 11].values / 100\n",
    "\n",
    "    source = fit_data.iloc[:, 16].to_numpy()\n",
    "\n",
    "    # Note there are no uncertainties on V or compositional parameters\n",
    "    s_xH2O, s_xMgO, s_SiO2, s_V = [\n",
    "        np.linspace(1e-10, 1e-10, len(V)) for i in range(4)\n",
    "    ]\n",
    "\n",
    "    return P, s_P, V, s_V, T, s_T, xMgO, s_xMgO, xSiO2, s_SiO2, xH2O, s_xH2O, u, s_u, source"
   ]
  },
  {
   "cell_type": "code",
   "execution_count": 7,
   "metadata": {
    "init_cell": true,
    "scrolled": true
   },
   "outputs": [],
   "source": [
    "def write_Burnman_dict(p, x):\n",
    "    \"\"\"Given an array of fitted parameters p, and an array, x, of V, T, xH2O and xMgO write_Burnman_dict returns\n",
    "    a dictionary of parameters for subsequent use by the MGD function as implemented in Burnman. The function \n",
    "    caclulates V0, K0, K'0, q0, and grueneisen_0 and writes them into a dictionary. These five parameters are \n",
    "    linearly dependent on xMgO and quadratically dependent on xH2O (assuming all the flags in the ifixb flag \n",
    "    array of the scipy.ODR model are set to 1).\n",
    "    \n",
    "    Parameters\n",
    "    ----------\n",
    "    p    : 4 * 6 numpy array of float \n",
    "           fitted parameters\n",
    "    x    : 1 x 2 numpy array \n",
    "           xMgO, xH2O\n",
    "            \n",
    "    Returns\n",
    "    -------\n",
    "    params : dict of float and int\n",
    "           parameters V0, K0, K'0, grueneisen_0, q_0, Debye_0, T_0, P_0 and n(apfu)\n",
    "    \"\"\"\n",
    "\n",
    "    # Calculate p0's via quadratic dependence on xH2O and linear dependence on xMgO referenced to MgSiO3\n",
    "    p0 = np.empty(6)\n",
    "    for i in range(6):\n",
    "        p0[i] = p[0][i] + (p[1][i] *\n",
    "                           (x[0] - 0.5)) + (p[2][i] * x[1]) + (p[3][i] *\n",
    "                                                               (x[1]**2))\n",
    "\n",
    "    oxygens = x[0] + x[1] + ((1 - (x[0] + x[1])) * 2)\n",
    "\n",
    "    apfu = 3 + (2 * (x[1] * 3 / oxygens)) + (x[0] * 3 / oxygens) + (\n",
    "        (1 - (x[1] + x[0])) * 3 / oxygens)\n",
    "\n",
    "    # Create dictionary\n",
    "    params = {\n",
    "        \"V_0\": p0[0] / 1e6,  # Convert cm^3 to m^3\n",
    "        \"K_0\": p0[1] * 1e9,  # Convert GPa to Pa\n",
    "        \"Kprime_0\": p0[2],\n",
    "        \"grueneisen_0\": p0[3],\n",
    "        \"q_0\": p0[4],\n",
    "        \"Debye_0\": p0[5],\n",
    "        \"T_0\": 292,\n",
    "        \"P_0\": 0,\n",
    "        \"n\": apfu\n",
    "    }\n",
    "\n",
    "    return params"
   ]
  },
  {
   "cell_type": "code",
   "execution_count": 8,
   "metadata": {
    "init_cell": true,
    "scrolled": true
   },
   "outputs": [],
   "source": [
    "def MGD(p, x):\n",
    "    \"\"\"Given an array of fitted parameters p, and an array, x, of V, T, xH2O and xMgO MGD returns the total \n",
    "    pressure using the Mie-Grueneisen-Debye thermal equation of state as implemented in the Burnman code.\n",
    "   \n",
    "    Parameters\n",
    "    ----------\n",
    "    p    : rank-1 numpy array of float \n",
    "           fitted parameters\n",
    "    x    : m x 4 numpy array \n",
    "           V, T, xMgO, xH2O\n",
    "            \n",
    "    Returns\n",
    "    -------\n",
    "    ptot : numpy array of float\n",
    "           pressures in GPa\n",
    "    \"\"\"\n",
    "    MGD_object = bm.eos.mie_grueneisen_debye.MGDBase()\n",
    "    ptot = np.empty_like(x[0])\n",
    "    for i, item in enumerate(ptot):\n",
    "        params = write_Burnman_dict(np.reshape(p,(4,6)), x.T[i][2:4])\n",
    "        try:\n",
    "            ptot[i] = MGD_object.pressure(x[1][i], x[0][i] / 1e6, params) / 1e9\n",
    "        except:\n",
    "            ptot[i] = np.nan\n",
    "\n",
    "    return ptot"
   ]
  },
  {
   "cell_type": "code",
   "execution_count": 9,
   "metadata": {
    "init_cell": true,
    "scrolled": true
   },
   "outputs": [],
   "source": [
    "def perform_PVTX_fit(X, data_flag, ifixb):\n",
    "    \"\"\"Given a composition code (e.g. X = 'En') and a flag (data_flag), perform_fit gathers the required data,\n",
    "    determines which parameters are to be fitted, constructs a fitting model, performs orthogonal distance\n",
    "    regression to refine the fitted parameters and returns various goodness of fit statistics.\n",
    "    \n",
    "    Parameters\n",
    "    ----------\n",
    "    X         : string containing the composition code\n",
    "    data_flag : int \n",
    "                flag to determine how to search the data\n",
    "    ifixb     : 4 x 6 numpy array of int | int\n",
    "                if array then represents fitting flags, 0 - do not fit | 1 - allow to vary\n",
    "                if int then it is overwritten by perform_fit within if statement\n",
    "            \n",
    "    Returns\n",
    "    -------\n",
    "    P              : numpy array of float\n",
    "                     pressures\n",
    "    s_P            : numpy array of float\n",
    "                     errors on pressures\n",
    "    V              : numpy array of float\n",
    "                     volumes\n",
    "    T              : numpy array of float\n",
    "                     temperatures\n",
    "    xMgO           : numpy array of float\n",
    "                     molar proportion of MgO\n",
    "    xH2O           : numpy array of float\n",
    "                     molar proportion of water\n",
    "    fit.beta       : numpy array of float\n",
    "                     fitted parameters\n",
    "    ci_95          : numpy array of float\n",
    "                     95% confidence intervals in fitted parameters\n",
    "    fit.res_var    : float\n",
    "                     reduced chi squared statistic\n",
    "    r              : numpy array of float\n",
    "                     r in volume \n",
    "    pcov           : n x n numpy array of float\n",
    "                     covariance matrix\n",
    "    DOF            : int\n",
    "                     degrees of freedom of the fit\n",
    "    fit.sum_square : numpy array of float\n",
    "                     sum of squared errors\n",
    "    source         : numpy array of string\n",
    "                     name of data source\n",
    "    ifixb          : array of int, same length as fit.beta\n",
    "                     fitting flags, 0 - do not fit | 1 - allow to vary\n",
    "    \"\"\"\n",
    "\n",
    "    P, s_P, V, s_V, T, s_T, xMgO, s_xMgO, xSiO2, s_SiO2, xH2O, s_xH2O, u, s_u, source = extract_data(\n",
    "        X, data_flag)\n",
    "\n",
    "    # Predictor variables\n",
    "    x = [V, T, xMgO, xH2O]\n",
    "\n",
    "    # Initial guesses for 4 x 6 = 24 fitted parameters: V0, K0, K'0, g0, q0, D0 in the form\n",
    "    # i, di/dxMgO, di/dxH2O, d^2i/dxH2O^2\n",
    "    beta0 = np.array([[33, 45, 6, .9, -1.1, 812], [0, 0, 0, 0, 0, 0],\n",
    "                      [0, 0, 0, 0, 0, 0], [0, 0, 0, 0, 0, 0]])\n",
    "\n",
    "    # Set flags for fitting: 0 - do not fit, 1 - allow to vary, unless already defined.\n",
    "    if isinstance(ifixb, int) == 1:\n",
    "        if ifixb == 0:\n",
    "            ifixb = np.array([[1, 1, 1, 1, 1, 0], [0, 0, 0, 0, 0, 0],\n",
    "                              [0, 0, 0, 0, 0, 0], [0, 0, 0, 0, 0, 0]])\n",
    "        elif ifixb == 1:\n",
    "            ifixb = np.array([[1, 1, 1, 1, 1, 0], [0, 0, 0, 0, 0, 0],\n",
    "                              [1, 1, 1, 1, 1, 0], [0, 0, 1, 0, 1, 0]])\n",
    "        elif ifixb == 2:\n",
    "            ifixb = np.array([[1, 1, 1, 1, 1, 0], [0, 0, 0, 0, 0, 0],\n",
    "                              [1, 1, 1, 1, 1, 0], [0, 0, 0, 0, 0, 0]])\n",
    "        elif ifixb == 3:\n",
    "            ifixb = np.array([[1, 1, 1, 1, 1, 0], [1, 1, 1, 1, 1, 0],\n",
    "                              [1, 1, 1, 1, 1, 0], [0, 1, 1, 0, 1, 0]])\n",
    "\n",
    "    # Define MGD model for ODR fitting\n",
    "    MGD_odr = Model(MGD)\n",
    "\n",
    "    # Create data structure for fitting. Note errors on V, xMgO and xH2O are zero.\n",
    "    mydata = RealData(x, P, sx=[s_V, s_T, s_xMgO, s_xH2O], sy=s_P)\n",
    "\n",
    "    # Create ODR instance for fitting\n",
    "    myodr = ODR(mydata, MGD_odr, beta0.flatten(), ifixb=ifixb.flatten())\n",
    "\n",
    "    fit = myodr.run()\n",
    "\n",
    "    # Correct covariance matrix from ODR output (this is a bug; see https://github.com/scipy/scipy/issues/6842)\n",
    "    # Note that fit.res_var is the reduced chi squared statistic and is identical to the value calculated\n",
    "    # as from the sum of ((O-C)^2/sigma^2)/DOF\n",
    "    pcov = fit.cov_beta * fit.res_var\n",
    "\n",
    "    # Extract degrees of freedom (DOF) of fit\n",
    "    DOF = len(V) - np.count_nonzero(ifixb)\n",
    "\n",
    "    # Determine 95% confidence interval on the fitted parameters\n",
    "    student_t_interval = stat.interval(0.95, DOF)\n",
    "    ci_95 = student_t_interval[1] * fit.sd_beta\n",
    "\n",
    "    # Determine pressure r\n",
    "    r = P - MGD(fit.beta, np.array([V, T, xMgO, xH2O]))\n",
    "\n",
    "    # Reshape variabled\n",
    "    beta = np.reshape(fit.beta, (4, 6))\n",
    "    errors = np.reshape(ci_95, (4, 6))\n",
    "    ifixb = np.reshape(ifixb, (4, 6))\n",
    "\n",
    "    return P, s_P, V, T, xMgO, xH2O, beta, errors, fit.res_var, r, pcov, DOF, fit.sum_square, source, ifixb"
   ]
  },
  {
   "cell_type": "code",
   "execution_count": 10,
   "metadata": {
    "init_cell": true,
    "scrolled": true
   },
   "outputs": [],
   "source": [
    "def cbands(func, beta, y, x, pcov, dof, ifixb):\n",
    "    \"\"\"The cbands function calculates confidence bands for any function. The function uses the delta method\n",
    "    whereby the effect on y of a small deviation to each fitted parameter is used to calculate the partial\n",
    "    derivative of the function with respect to that parameter. The covariance matrix of the fit is then \n",
    "    multiplied by this array of partial derivatives and its transpose to compute the variance at that value\n",
    "    of y, which is converted to a confidence interval by multiplying its square root by the critical t value. \n",
    "    \n",
    "    Parameters\n",
    "    ----------\n",
    "    func  : string\n",
    "            name of function for which confidence bands are to be calculated\n",
    "    beta  : rank-1 numpy array of float \n",
    "            fitted parameters\n",
    "    y     : rank-1 numpy array of float\n",
    "            response variable\n",
    "    x     : m * n numpy array of float\n",
    "            dependent variables\n",
    "    pcov  : square numpy array of float\n",
    "            covariance matrix\n",
    "    DOF   : int\n",
    "            degrees of freedom of the fit\n",
    "    ifixb : array of int, same length as beta\n",
    "            fitting flags, 0 - do not fit | 1 - allow to vary\n",
    "            \n",
    "    Returns\n",
    "    -------\n",
    "    ci_y  : numpy array of float, same length as P\n",
    "            confidence intervals at each value of y\n",
    "    \n",
    "    \"\"\"\n",
    "    \n",
    "    delta = 1e-3\n",
    "    variance = np.empty_like(y)\n",
    "    temp = []\n",
    "    for i, item in enumerate(y):\n",
    "\n",
    "        dy, dydbeta = (np.empty_like(beta) for i in range(2))\n",
    "        for j, jtem in enumerate(beta):\n",
    "\n",
    "            # Only compute partial derivitives for parameters that are allowed to vary\n",
    "            if ifixb[j] == 1:\n",
    "                temp = beta[j]\n",
    "                beta[j] = beta[j] * (1 + delta)\n",
    "\n",
    "                # Compute perturbed pressure\n",
    "                try:\n",
    "                    y_delta = func(\n",
    "                        beta,x[:,[i]])\n",
    "                except:\n",
    "                    y_delta = y[i]\n",
    "                dy[j] = y[i] - y_delta\n",
    "\n",
    "                # Compute partial derivative\n",
    "                dydbeta[j] = dy[j] / (delta * beta[j])\n",
    "                beta[j] = temp\n",
    "\n",
    "        # Computer variance at point i and append to array\n",
    "        variance[i] = dydbeta.T.dot(pcov).dot(dydbeta)\n",
    "\n",
    "    # Critical t value at 95%\n",
    "    Ct = stat.isf(0.5 * (0.95 + 1.), dof)\n",
    "\n",
    "    # Confidence interval in y\n",
    "    ci_y = (np.sqrt(variance) * Ct)\n",
    "\n",
    "    return ci_y"
   ]
  },
  {
   "cell_type": "code",
   "execution_count": 11,
   "metadata": {
    "init_cell": true,
    "scrolled": true
   },
   "outputs": [],
   "source": [
    "def display_boxes(dropdown_box, box_name_list, nrows, ncols, ncols_row1, flag):\n",
    "    \"\"\"display_boxes handles the creation and arrangement of grids of textbox widgets for fit\n",
    "    output.\n",
    "    \n",
    "    Parameters\n",
    "    ----------\n",
    "    dropdown_box  : widget object\n",
    "                    dropdown menu\n",
    "    box_name_list : list of string\n",
    "                    names of widget objects\n",
    "    nrows         : int\n",
    "                    number of rows of fitted parameters\n",
    "    ncols         : int\n",
    "                    number of fitted parameters\n",
    "    ncols_row1    : int\n",
    "                    number of text boxes in information row\n",
    "    flag          : 0 | 1\n",
    "                    flag to determine which titles to use\n",
    "    \n",
    "    Returns\n",
    "    -------\n",
    "    NONE\n",
    "    \"\"\"\n",
    "\n",
    "    if flag == 0:\n",
    "        titles = titles_PVT\n",
    "    else:\n",
    "        titles = titles_PuT\n",
    "\n",
    "    # Create output boxes\n",
    "    for i in range(0, len(box_name_list)):\n",
    "        box_name_list[i] = w.Text(disabled=True,\n",
    "                                  Value=[],\n",
    "                                  layout=w.Layout(width='120px'))\n",
    "\n",
    "    if ncols_row1 == 2:\n",
    "        display(\n",
    "            w.HBox([\n",
    "                w.HTMLMath(titles[j], layout=w.Layout(width='120px'))\n",
    "                for j in [0, -4, 4]\n",
    "            ]))\n",
    "        display(\n",
    "            w.HBox([\n",
    "                w.HBox([dropdown_box]),\n",
    "                w.HBox([box_name_list[j] for j in range(0, ncols_row1)])\n",
    "            ]))\n",
    "    elif ncols_row1 == 1:\n",
    "        display(w.HBox([w.HTMLMath(titles[4],\n",
    "                                   layout=w.Layout(width='120px'))]))\n",
    "        display(w.HBox([box_name_list[0]]))\n",
    "    else:\n",
    "        display(\n",
    "            w.HBox([\n",
    "                w.HTMLMath(titles[j], layout=w.Layout(width='120px'))\n",
    "                for j in range(0, ncols_row1 + 1)\n",
    "            ]))\n",
    "        display(\n",
    "            w.HBox([\n",
    "                w.HBox([dropdown_box]),\n",
    "                w.HBox([box_name_list[j] for j in range(0, ncols_row1)])\n",
    "            ]))\n",
    "\n",
    "    for i in range(nrows):\n",
    "        display(\n",
    "            w.HBox([\n",
    "                w.HTMLMath(titles[j], layout=w.Layout(width='120px'))\n",
    "                for j in range((i * ncols) + 5, ((i * ncols) + 5) + ncols)\n",
    "            ]))\n",
    "        display(\n",
    "            w.HBox([\n",
    "                box_name_list[j]\n",
    "                for j in range((i * ncols) +\n",
    "                               ncols_row1, ((i * ncols) + ncols_row1) + ncols)\n",
    "            ]))\n",
    "\n",
    "    display(\n",
    "        w.HBox([\n",
    "            w.HTMLMath(titles[j], layout=w.Layout(width='120px'))\n",
    "            for j in range(-3, 0)\n",
    "        ]))\n",
    "    display(w.HBox([box_name_list[j] for j in range(-3, 0)]))\n",
    "\n",
    "\n",
    "# Create lists of parameter titles\n",
    "titles_PVT = [\n",
    "    '$Composition$', '$H_2O$ $(mol\\ \\%)$', '$MgO$ $(mol\\ \\%)$',\n",
    "    '$SiO_2$ $(mol\\ \\%)$', '$n$', \"$V_0$\", '$K_0$', '$K\\'$', '$\\gamma_0$',\n",
    "    '$q$', '$θ_0$', \"$dV_0/dx_{H2O}$\", '$dK_0/dx_{H2O}$', '$dK\\'/dx_{H2O}$',\n",
    "    '$dq/dx_{H2O}$', '$dθ_0/dx_{H2O}$', '$d\\gamma_0/dx_{H2O}$',\n",
    "    \"$d^2V_0/dx_{H2O}^2$\", '$d^2K_0/dx_{H2O}^2$', '$d^2K\\'/dx_{H2O}^2$',\n",
    "    '$d^2q/dx_{H2O}^2$', '$d^2θ_0/dx_{H2O}^2$', '$d^2\\gamma_0/dx_{H2O}^2$',\n",
    "    \"$dV_0/dx_{MgO}$\", '$dK_0/dx_{MgO}$', '$dK\\'/dx_{MgO}$', '$dq/dx_{MgO}$',\n",
    "    '$dθ_0/dx_{MgO}$', '$d\\gamma_0/dx_{MgO}$', '$MgO/SiO_2$', 'Residual (GPa)',\n",
    "    'DOF', '$\\chi_\\nu^2$'\n",
    "]\n",
    "\n",
    "titles_PuT = [\n",
    "    '', '', '', '', '$n$', '$a_{MgO}$', '$b_{MgO}$', '$c_{MgO}$', '$d_{MgO}$',\n",
    "    '$e_{MgO}$', '$a_{SiO2}$', '$b_{SiO2}$', '$c_{SiO2}$', '$d_{SiO2}$',\n",
    "    '$e_{SiO2}$', '$a_{H2O}$', '$b_{H2O}$', '$c_{H2O}$', '$d_{H2O}$',\n",
    "    '$e_{H2O}$', 'Residual (%)', 'DOF', '$\\chi_\\nu^2$'\n",
    "]"
   ]
  },
  {
   "cell_type": "code",
   "execution_count": 12,
   "metadata": {
    "init_cell": true,
    "scrolled": true
   },
   "outputs": [],
   "source": [
    "def custom_colors(T, list_of_isotherms):\n",
    "    \"\"\"Given a list of temperatures and a list of isotherms to be plotted, custom_colors returns\n",
    "    the minimum and maximum temperatures within the plot and a custom ScalarMappable object for\n",
    "    use in producing colorbars with custom normalisation.\n",
    "    \n",
    "    Parameters\n",
    "    ----------\n",
    "    T                 : numpy array of float\n",
    "                        plotted temperatures\n",
    "    list_of_isotherms : numpy array of float\n",
    "                        list of plotted isotherms\n",
    "                        \n",
    "    Returns\n",
    "    -------\n",
    "    vmin           : float\n",
    "                     minimum T on plot\n",
    "    vmax           : float\n",
    "                     maximum T on plot\n",
    "    ScalarMappable : ScalarMappable Object\n",
    "                     for production of custom colorbars\n",
    "    \"\"\"\n",
    "\n",
    "    vmin, vmax = min(min(T),\n",
    "                     min(list_of_isotherms)), max(max(T),\n",
    "                                                  max(list_of_isotherms))\n",
    "\n",
    "    cNorm = mpl.colors.Normalize(vmin=vmin, vmax=vmax)\n",
    "\n",
    "    return vmin, vmax, mpl.cm.ScalarMappable(norm=cNorm, cmap='cool')\n",
    "\n",
    "\n",
    "def PVT_plot(P, s_P, V, T, xMgO, xH2O, r, name, source, beta, pcov, dof,\n",
    "             ifixb):\n",
    "    \"\"\"Handles plotting of data, isotherms, confidence bands and residuals.\n",
    "    \n",
    "    Parameters\n",
    "    ----------\n",
    "    P         : numpy array of float\n",
    "                pressures\n",
    "    s_P       : numpy array of float\n",
    "                errors in P\n",
    "    V         : numpy array of float\n",
    "                volumes\n",
    "    T         : numpy array of float\n",
    "                temperatures\n",
    "    xH2O      : numpy array of float\n",
    "                molar proportion of water\n",
    "    xMgO      : numpy array of float\n",
    "                molar proportion of water\n",
    "    r         : numpy array of float\n",
    "                pressure residual\n",
    "    name      : string\n",
    "                composition code of current plot\n",
    "    source    : numpy array of string\n",
    "                list of data sources\n",
    "    beta      : m * n numpy array of float\n",
    "                fitted parameters\n",
    "    pcov      : n x n numpy array of float\n",
    "                covariance matrix\n",
    "    DOF       : int\n",
    "                degrees of freedom of the fit\n",
    "    ifixb     : array of int, same length as beta\n",
    "                fitting flags, 0 - do not fit | 1 - allow to vary\n",
    "                \n",
    "    Returns\n",
    "    -------\n",
    "    fig : figure object\n",
    "    \"\"\"\n",
    "    \n",
    "    %matplotlib inline\n",
    "    \n",
    "    # Calculate isotherms and confidence bands\n",
    "    V_range = np.linspace(min(V) * 0.75, max(V) * 1.1, 500)\n",
    "    i_xMgO = np.linspace(xMgO[0], xMgO[0], len(V_range))\n",
    "    i_xH2O = np.linspace(xH2O[0], xH2O[0], len(V_range))\n",
    "    i_T = np.ones(len(V_range))\n",
    "    iso_list = np.unique(np.round(T, -2))\n",
    "    P_range = [[1e-10 for j in range(len(V_range))]\n",
    "               for i in range(len(iso_list))]\n",
    "    ci = [[1e-10 for j in range(len(V_range))] for i in range(len(iso_list))]\n",
    "    for i, item in enumerate(tqdm(iso_list, desc='Processing', leave=False)):\n",
    "        P_range[i] = MGD(beta, np.array([V_range, i_T * item, i_xMgO, i_xH2O]))\n",
    "        ci[i] = cbands(MGD, beta.flatten(), P_range[i],\n",
    "                       np.array([V_range, i_T * item, i_xMgO, i_xH2O]), pcov,\n",
    "                       dof, ifixb.flatten())\n",
    "\n",
    "    fig = plt.figure(num=None,\n",
    "                     figsize=(11, 11 * .66),\n",
    "                     dpi=80,\n",
    "                     facecolor='w',\n",
    "                     edgecolor='w')\n",
    "\n",
    "    # Set up main plot\n",
    "    vmin, vmax, scalarMap = custom_colors(T, [1800, 3000])\n",
    "    ax1 = fig.add_axes((.195, .3, .98, .66))\n",
    "    ax1.set_xticklabels([])\n",
    "    plt.ylabel('Volume, $V$ (cm$^3$/mol)', fontsize=20)\n",
    "    ax1.annotate(name, [0.2, 0.9], xycoords='axes fraction', fontsize=20)\n",
    "    ax1.yaxis.set_major_formatter(mpl.ticker.FormatStrFormatter('%.1f'))\n",
    "\n",
    "    # Set up residual plot\n",
    "    ax2 = fig.add_axes((.195, 0.05, .98, .2))\n",
    "    ax2.axhline(linestyle='--', color='k')\n",
    "    plt.xlabel('Pressure, $p$ $(GPa)$', fontsize=20)\n",
    "    plt.ylabel('Residuals (GPa)', fontsize=20)\n",
    "    ax2.yaxis.set_major_formatter(mpl.ticker.FormatStrFormatter('%.1f'))\n",
    "\n",
    "    # Plot data and residuals\n",
    "    source_set = list(set(source))\n",
    "    marker_list = itertools.cycle(('o', 's'))\n",
    "    for i, item in enumerate(source_set):\n",
    "        marker = next(marker_list)\n",
    "        ax1.scatter(P[source == source_set[i]],\n",
    "                    V[source == source_set[i]],\n",
    "                    marker=marker,\n",
    "                    label=item,\n",
    "                    color=scalarMap.to_rgba(T[source == source_set[i]]))\n",
    "        ax2.scatter(P[source == source_set[i]],\n",
    "                    r[source == source_set[i]],\n",
    "                    marker=marker,\n",
    "                    color=scalarMap.to_rgba(T[source == source_set[i]]))\n",
    "    \n",
    "    # Make x-axis range the same on both main and residual plots\n",
    "    left, right = ax2.get_xlim()\n",
    "    ax1.set_xlim(left, right)\n",
    "\n",
    "    # Plot isotherms and confidence bands\n",
    "    for i in range(len(P_range)):\n",
    "        ax1.plot(P_range[i], V_range, color=scalarMap.to_rgba(iso_list[i]))\n",
    "        ax1.fill_betweenx(V_range,\n",
    "                          P_range[i] + ci[i],\n",
    "                          P_range[i] - ci[i],\n",
    "                          color=scalarMap.to_rgba(iso_list[i]),\n",
    "                          alpha=0.3,\n",
    "                          linewidth=0)\n",
    "        ax2.fill_between(P_range[i],\n",
    "                         ci[i],\n",
    "                         -ci[i],\n",
    "                         color=scalarMap.to_rgba(iso_list[i]),\n",
    "                         alpha=0.3,\n",
    "                         linewidth=0,\n",
    "                         zorder=i)\n",
    "    \n",
    "    # Make x-axis range the same on both main and residual plots\n",
    "    ax2.set_xlim(left, right)\n",
    "    \n",
    "    # Make y-axis limits sensible\n",
    "    ax1.set_ylim(\n",
    "        min(V) - ((max(V) - min(V)) * 0.1),\n",
    "        max(V) + ((max(V) - min(V)) * 0.1))\n",
    "    ax2.set_ylim(-max(abs(r)) * 2, max(abs(r)) * 2)\n",
    "\n",
    "    # Plot colorbar\n",
    "    ax3 = fig.add_axes((.83, .88, .3, .05))\n",
    "    cbar = fig.colorbar(scalarMap, cax=ax3, orientation=\"horizontal\")\n",
    "    cbar.set_label('$T/K$', fontsize=20, labelpad=-15)\n",
    "    cbar.set_ticks([vmin, vmax])\n",
    "    \n",
    "    ax1.legend(loc=[0.63, 0.63], frameon=False, fontsize=16, markerscale=2)\n",
    "\n",
    "    return fig"
   ]
  },
  {
   "cell_type": "markdown",
   "metadata": {},
   "source": [
    "<hr style=\"height:10px;border-width:0;color:gray;background-color:gray\">\n",
    "\n",
    "### Volume: Fitting a single composition\n",
    "\n",
    "Below ([Widget 1](#widget_1)) you can choose a single composition and fit it using the Mie-Gruneisen-Debye (MGD) pressure-volume-temperature Equation of State (EoS). Note that the Debye temperature $\\theta_D$ is fixed at 812 K, the value for pure enstatite at ambient conditions<sup>1</sup>. This assumption is made because of the lack of information on the Debye temperatures of silicate liquids, and has a minimal impact on the quality of the fit. Left to vary, this parameter minimises $\\chi^2_\\nu$ at $~0 K$, which is physically unreasonable. The fitted parameters are therefore the molar volume at 1 atmosphere and 298 K, $V_0$, the bulk modulus $K_0$ and its pressure derivative $K'_0$, the Grueneisen parameter at ambient conditions, $\\gamma_0$, which determines the strength of the dependance of the thermal expansion on the volume and the exponent $q_0$ which determines the effect of compression on $\\gamma_0$.\n",
    "\n",
    "The form of the MGD function used for fitting is based on the equations set out in Appendix B of Matas et al. (2007)<sup>2</sup>. The fit is performed using orthogonal distance regression rather than ordinary least squares regression and thus the data are weighted based on the uncertainties in all the predictor variables, $V$, $T$, $xH_2O$ and $xMgO$ as well as the response variable $P$. In reality, the uncertainties in $V$, $xH_2O$ and $MgO$ are all zero because these are fixed parameters in the AIMD simulations.\n",
    "\n",
    "________________\n",
    "\n",
    "<sup>1</sup>Yang, H., Ghose, S. Thermal expansion, Debye temperature and Grüneisen parameter of synthetic (Fe, Mg)SiO3 orthopyroxenes. Phys Chem Minerals 20, 575–586 (1994). https://doi.org/10.1007/BF00211853\n",
    "\n",
    "<sup>2</sup>Matas, J., Bass, J., Ricard, Y., Mattern, E., Bukowinski, M. (2007). On the bulk composition of the lower mantle: predictions and limitations from generalized inversion of radial seismic profiles Geophysical Journal International  170(2), 764 - 780. https://dx.doi.org/10.1111/j.1365-246x.2007.03454.x"
   ]
  },
  {
   "cell_type": "markdown",
   "metadata": {},
   "source": [
    "<a id=\"widget_1\"></a>\n",
    "\n",
    "<div class=\"alert alert-block alert-info\">\n",
    "    \n",
    "#### Widget 1: Fitting a single composition\n",
    "<br />\n",
    "</div>"
   ]
  },
  {
   "cell_type": "code",
   "execution_count": 13,
   "metadata": {
    "init_cell": true,
    "scrolled": false
   },
   "outputs": [
    {
     "data": {
      "application/vnd.jupyter.widget-view+json": {
       "model_id": "9558ee6ab07e4e9fad18fada967e9a90",
       "version_major": 2,
       "version_minor": 0
      },
      "text/plain": [
       "HBox(children=(HTMLMath(value='$Composition$', layout=Layout(width='120px')), HTMLMath(value='$H_2O$ $(mol\\\\ \\…"
      ]
     },
     "metadata": {},
     "output_type": "display_data"
    },
    {
     "data": {
      "application/vnd.jupyter.widget-view+json": {
       "model_id": "b4b5e50dcfe5418f8e7743fe8b716684",
       "version_major": 2,
       "version_minor": 0
      },
      "text/plain": [
       "HBox(children=(HBox(children=(Dropdown(index=1, layout=Layout(width='120px'), options=('En', 'EnH25', 'EnH50',…"
      ]
     },
     "metadata": {},
     "output_type": "display_data"
    },
    {
     "data": {
      "application/vnd.jupyter.widget-view+json": {
       "model_id": "8ffd18ed78c844eb996070d087ba5486",
       "version_major": 2,
       "version_minor": 0
      },
      "text/plain": [
       "HBox(children=(HTMLMath(value='$V_0$', layout=Layout(width='120px')), HTMLMath(value='$K_0$', layout=Layout(wi…"
      ]
     },
     "metadata": {},
     "output_type": "display_data"
    },
    {
     "data": {
      "application/vnd.jupyter.widget-view+json": {
       "model_id": "bffcc156b6874174bf11374720c90194",
       "version_major": 2,
       "version_minor": 0
      },
      "text/plain": [
       "HBox(children=(Text(value='', disabled=True, layout=Layout(width='120px')), Text(value='', disabled=True, layo…"
      ]
     },
     "metadata": {},
     "output_type": "display_data"
    },
    {
     "data": {
      "application/vnd.jupyter.widget-view+json": {
       "model_id": "b2eb0882f33b4575861640f4d87def69",
       "version_major": 2,
       "version_minor": 0
      },
      "text/plain": [
       "HBox(children=(HTMLMath(value='Residual (GPa)', layout=Layout(width='120px')), HTMLMath(value='DOF', layout=La…"
      ]
     },
     "metadata": {},
     "output_type": "display_data"
    },
    {
     "data": {
      "application/vnd.jupyter.widget-view+json": {
       "model_id": "26bbe0bb81d04ee4a2b8ada12f3a4e0a",
       "version_major": 2,
       "version_minor": 0
      },
      "text/plain": [
       "HBox(children=(Text(value='', disabled=True, layout=Layout(width='120px')), Text(value='', disabled=True, layo…"
      ]
     },
     "metadata": {},
     "output_type": "display_data"
    },
    {
     "data": {
      "application/vnd.jupyter.widget-view+json": {
       "model_id": "a3c949675d6348e8bf03a09d92d678d0",
       "version_major": 2,
       "version_minor": 0
      },
      "text/plain": [
       "HBox(children=(Output(),))"
      ]
     },
     "metadata": {},
     "output_type": "display_data"
    },
    {
     "data": {
      "application/vnd.jupyter.widget-view+json": {
       "model_id": "",
       "version_major": 2,
       "version_minor": 0
      },
      "text/plain": [
       "Processing:   0%|          | 0/3 [00:00<?, ?it/s]"
      ]
     },
     "metadata": {},
     "output_type": "display_data"
    }
   ],
   "source": [
    "def fit_uX(change):\n",
    "    \"\"\"Callback function called when dropdown menu uX is changed. Executes fit, calculates isotherms\n",
    "    and confidence bands and plots the results.\n",
    "    \n",
    "    Parameters\n",
    "    ----------\n",
    "    change : object containing a type key (i.e. 'change') and a name key (i.e. 'En'), corresponding \n",
    "             respectively to the type of notification and the name of the triggering attribute.\n",
    "             \n",
    "    Returns\n",
    "    -------\n",
    "    NONE\n",
    "             \n",
    "    \"\"\"\n",
    "    if change['type'] == 'change' and change['name'] == 'value':\n",
    "\n",
    "        # Populate box row 1 with compositional information\n",
    "        for i in range(4):\n",
    "            bx1[i].value = str(\n",
    "                compositions.iloc[compositions.index.get_loc(change['new']),\n",
    "                                  4 + i])\n",
    "\n",
    "        # Perform the ODR fit\n",
    "        P, s_P, V, T, xMgO, xH2O, beta, errors, chi, r, pcov, dof, ss, source, ifixb = perform_PVTX_fit(\n",
    "            change['new'], 0, 0)\n",
    "\n",
    "        # Populate box row 2 with refined parameters and their 95% confidence intervals (2SD)\n",
    "        for i in range(6):\n",
    "            bx1[i + 4].value = str(np.round(beta[0][i], 2)) + '±' + str(\n",
    "                np.round(errors[0][i], 2))\n",
    "\n",
    "        # Populate box row 3 with fit statistics\n",
    "        bx1[10].value = str(np.round(np.mean(np.abs(r)), 3))\n",
    "        bx1[11].value = str(np.round(dof, 3))\n",
    "        bx1[12].value = str(np.round(chi, 3))\n",
    "\n",
    "        fig = PVT_plot(P, s_P, V, T, xMgO, xH2O, r, change['new'], source,\n",
    "                       beta, pcov, dof, ifixb)\n",
    "\n",
    "        # Update plot\n",
    "        with out1:\n",
    "            clear_output(wait=True)\n",
    "            plt.show(fig)\n",
    "\n",
    "\n",
    "# Set up interactive dropdown menu\n",
    "uX = w.Dropdown(options=compositions.index.values.tolist(),\n",
    "                layout=w.Layout(width='120px'))\n",
    "uX.value = uX.options[1]\n",
    "uX.observe(fit_uX)\n",
    "\n",
    "# Create lists of box names\n",
    "bx1 = [\n",
    "    \"b0\", \"b1\", \"b2\", \"b3\", \"b4\", \"b5\", \"b6\", \"b7\", \"b8\", \"b9\", \"b10\", \"b11\",\n",
    "    \"b12\"\n",
    "]\n",
    "\n",
    "# Draw output boxes\n",
    "display_boxes(uX, bx1, 1, 6, 4, 0)\n",
    "\n",
    "# Create output widget for plotting figure\n",
    "out1 = w.Output()\n",
    "\n",
    "display(w.HBox([out1]))\n",
    "\n",
    "# Trigger callback on cell initialisation\n",
    "uX.value = uX.options[0]"
   ]
  },
  {
   "cell_type": "markdown",
   "metadata": {},
   "source": [
    "<hr style=\"height:10px;border-width:0;color:gray;background-color:gray\">\n",
    "\n",
    "### Volume: Fitting a binary\n",
    "\n",
    "All five variables in the MGD equation show a non-linear dependence on $xH_2O$ ([figure 2](#figure_2)). We have tested all 32 possible combinations of linear and quadratic dependence for all five variables ([table 3](#table_3)) along the En-H<sub>2</sub>O binary. We find that a combination of linear dependence for $V_0$, $K_0$ and $q_0$ and quadratic dependence for $K'_0$ and $\\gamma_0$ produces the fit with the lowest reduced chi squared statistic ($\\chi_\\nu^2$) such that, for example,\n",
    "\n",
    "$$K_{0,298}=K_{0,0,298}+(x.dK_{0,298}/dx)$$\n",
    "\n",
    "and\n",
    "\n",
    "$$K'_{0,298,x}=K'_{0,298,0}+(x.dK'_{0,298}/dx)+(x^2.d^2K'_{0,298}/dx^2)$$\n",
    "\n",
    "where the subscripts represent $P$, $T$ and the molar proportion of water per formula unit ($xH_2O$). \n",
    "\n",
    "Similar tests on the MS-H<sub>2</sub>O binary produced minimal variation in $\\chi_\\nu^2$, while tests on the Fo-H<sub>2</sub>O binary produced unphysical results regardless of which parameters were allowed quadratic dependence because there are only two compositions in the dataset. We are therefore implicitly assuming that the effect of water on the thermophysical parameters for enstatite composition liquids is applicable to all silicate compositions along the MgO-SiO<sub>2</sub> join.\n",
    "\n",
    "In [Widget 2](#widget_2) you can choose one of the three binaries (En-H<sub>2</sub>O, Fo-H<sub>2</sub>O or MS-H<sub>2</sub>O) within the MgO-SiO<sub>2</sub>-H<sub>2</sub>O ternary system and fit it to a single PVTX EoS using the compositional dependence described above. You can then view isopleths at each simulated composition in [Widget 3](#widget_3).\n",
    "\n",
    "Note that the anhydrous MS composition does not lie on the binary defined by the hydrous MS compositions due to an error in the simulations. As a result, this composition is not included in the binary fit."
   ]
  },
  {
   "cell_type": "markdown",
   "metadata": {},
   "source": [
    "<a id=\"figure_2\"></a>\n",
    "\n",
    "#### Figure 2: Variation in fitted parameters as a function of water content along the En-H</sub>2</sub>O binary\n",
    "\n",
    "The six plots below show how the fitted parameters vary as a function of water content along the En-H<sub>2</sub>O join when each composition is fitted individually. The lines indicate linear (blue) and 2</sup>nd</sup> polynomial fits to the data respectively. Note that $\\theta_0$ does not vary as the parameter is fixed."
   ]
  },
  {
   "cell_type": "code",
   "execution_count": 14,
   "metadata": {
    "init_cell": true,
    "scrolled": false
   },
   "outputs": [
    {
     "data": {
      "image/png": "[encoded data removed]",
      "text/plain": [
       "<Figure size 1152x576 with 6 Axes>"
      ]
     },
     "metadata": {},
     "output_type": "display_data"
    }
   ],
   "source": [
    "test_list = compositions.index[\n",
    "                compositions.index.str.contains('|'.join(['En', 'H2O']))].tolist()\n",
    "\n",
    "beta = [[1e-10 for j in range(24)] for i in range(len(test_list))]\n",
    "xH2O_test = [1e-10 for j in range(len(test_list))]\n",
    "for i, item in enumerate(test_list):\n",
    "\n",
    "    # Perform the ODR fit\n",
    "    P, s_P, V, T, xMgO, xH2O, beta[i], errors, chi, r, pcov, dof, ss, source, ifixb = perform_PVTX_fit(\n",
    "        item, 0, 0)\n",
    "    \n",
    "    xH2O_test[i] = xH2O[0]\n",
    "\n",
    "fig, axs = plt.subplots(2,3, figsize=(16, 8), facecolor='w', edgecolor='w')\n",
    "fig.subplots_adjust(hspace = .001, wspace=.35)\n",
    "axs = axs.ravel()\n",
    "\n",
    "for i in range(6):\n",
    "    quad_fit = np.polyfit(xH2O_test,[item[0][i] for item in beta] ,2)\n",
    "    lin_fit = np.polyfit(xH2O_test,[item[0][i] for item in beta],1)\n",
    "    axs[i].plot(xH2O_test,[item[0][i] for item in beta],'ro')\n",
    "    axs[i].plot(np.linspace(0,max(xH2O_test),100),np.polyval(quad_fit,np.linspace(0,max(xH2O_test),100)),'r-')\n",
    "    axs[i].plot(np.linspace(0,max(xH2O_test),100),np.polyval(lin_fit,np.linspace(0,max(xH2O_test),100)),'b-')\n",
    "    axs[i].set_xlabel('$xH2O$', fontsize = 20)\n",
    "    axs[i].set_ylabel(titles_PVT[i+5], fontsize = 20)\n",
    "    axs[i].ticklabel_format(useOffset=False, style='plain')\n",
    "\n",
    "axs[5].set_ylim((811,813))\n",
    "            \n",
    "plt.show(fig)"
   ]
  },
  {
   "cell_type": "markdown",
   "metadata": {},
   "source": [
    "<a id=\"table_3\"></a>\n",
    "\n",
    "#### Table 3: Binary fit testing \n",
    "\n",
    "The table below contains the results of 32 fits to all the data along the En-H<sub>2</sub>O binary, each with a different combination of linear and quadratic dependence on the water content for the five parameters that are allowed to vary ($V_0$, $K_0$, $K'_0$,$\\gamma_0$ and $q_0$).  "
   ]
  },
  {
   "cell_type": "code",
   "execution_count": null,
   "metadata": {
    "scrolled": false
   },
   "outputs": [],
   "source": [
    "def fit_test(code, data_flag, ifixb):\n",
    "    \"\"\"Function to perform fit testing by iterating through all possible combinations of linear | quadratic\n",
    "    for all five fitted variables.\n",
    "    \n",
    "    Parameters\n",
    "    ----------\n",
    "    code      : string\n",
    "                Name of composition to be fitted\n",
    "    ifixb     : 4 x 6 numpy array of int\n",
    "                array contains fitting flags, 0 - do not fit | 1 - allow to vary\n",
    "    data_flag : int \n",
    "                flag to determine how to search the data\n",
    "\n",
    "    Returns\n",
    "    -------\n",
    "    df      : Pandas dataframe object\n",
    "    \"\"\"\n",
    "\n",
    "    # Create list of binary words of all combinations for five parameters\n",
    "    com_tuple = list(itertools.product([0, 1], repeat=5))\n",
    "\n",
    "    # Convert to list of lists from list of tuple\n",
    "    com_list = [list(elem) for elem in com_tuple]\n",
    "\n",
    "    result = np.zeros([len(com_list), 9])\n",
    "    for i in tqdm(range(len(com_list)), desc='Processing'):\n",
    "\n",
    "        # Update 'column' 4 with current linear/quadratic combination\n",
    "        ifixb[3][0:5] = com_list[i]\n",
    "\n",
    "        # Perform ODR fit\n",
    "        P, s_P, V, T, xH2O, xMgO, beta, errors, chi, r, pcov, dof, ss, source, ifixb = perform_PVTX_fit(\n",
    "            code, data_flag, ifixb)\n",
    "\n",
    "        result[i] = [*ifixb[3][0:5], 2., np.mean(np.abs(r)), dof, chi]\n",
    "\n",
    "    # Create pandas dataframe to contain results\n",
    "    df = pd.DataFrame(result,\n",
    "                      columns=[\n",
    "                          'V0', 'K0', 'K\\'0', 'g0', 'q0', 'TD,0',\n",
    "                          'Mean residual (cm3/mol)', 'DOF', 'Reduced chi^2'\n",
    "                      ])\n",
    "\n",
    "    # Convert numeric output to meaningfull strings\n",
    "    df.replace(0, 'Linear', inplace=True)\n",
    "    df.replace(1, 'Quadratic', inplace=True)\n",
    "    df.replace(2, 'Fixed', inplace=True)\n",
    "    return df\n",
    "\n",
    "\n",
    "# Perform fit test with intial ifixb with all variables linear\n",
    "binary_fit_test_results = fit_test(\n",
    "    'En', 1,\n",
    "    np.array([[1, 1, 1, 1, 1, 0], [0, 0, 0, 0, 0, 0], [1, 1, 1, 1, 1, 0],\n",
    "              [0, 0, 0, 0, 0, 0]]))\n",
    "\n",
    "binary_fit_test_results"
   ]
  },
  {
   "cell_type": "markdown",
   "metadata": {},
   "source": [
    "<a id=\"widget_2\"></a>\n",
    "\n",
    "<div class=\"alert alert-block alert-info\">\n",
    "    \n",
    "#### Widget 2: Fitting a binary\n",
    "<br />\n",
    "</div>"
   ]
  },
  {
   "cell_type": "code",
   "execution_count": 15,
   "metadata": {
    "init_cell": true,
    "scrolled": true
   },
   "outputs": [],
   "source": [
    "def PVTX_plot(P, V, T, xH2O, xMgO, source, beta):\n",
    "    \"\"\"Handles plotting of data, isotherms, confidence bands and r on a 2-D surface plot.\n",
    "    \n",
    "    Parameters\n",
    "    ----------\n",
    "    P         : numpy array of float\n",
    "                pressures\n",
    "    V         : numpy array of float\n",
    "                volumes\n",
    "    T         : numpy array of float\n",
    "                temperatures\n",
    "    source    : numpy array of string\n",
    "                list of data sources\n",
    "    p         : numpy array of float \n",
    "                fitted parameters\n",
    "    apfu      : numpy array of float\n",
    "                atoms per formula unit\n",
    "                \n",
    "    Returns\n",
    "    -------\n",
    "    fig : figure object\n",
    "    \"\"\"\n",
    "    \n",
    "    %matplotlib inline\n",
    "    plt.ioff()\n",
    "     \n",
    "    # Calculate isotherms and confidence bands     \n",
    "    res = 100\n",
    "    V_range = np.tile(np.linspace(min(V), max(V), res), res)  \n",
    "    i_xH2O = np.repeat(np.linspace(min(xH2O),max(xH2O),res), res)\n",
    "    i_xMgO = np.tile(np.linspace(xMgO[0],xMgO[0],res), res)\n",
    "    i_T = np.ones(len(V_range))\n",
    "    iso_list = np.unique(np.round(T, -2))\n",
    "    P_range = [[1e-10 for j in range(len(V_range))] for i in range(len(iso_list))]\n",
    "    for i, item in enumerate(tqdm(iso_list,desc='Processing',leave=False)):\n",
    "        P_range[i] = MGD(beta,np.array([V_range,i_T * item,i_xMgO,i_xH2O]))\n",
    "\n",
    "    fig = plt.figure(num=None,\n",
    "                     figsize=(11, 11 * .66),\n",
    "                     dpi=80,\n",
    "                     facecolor='w',\n",
    "                     edgecolor='w')\n",
    "\n",
    "    vmin, vmax, scalarMap = custom_colors(T, [1800, 6000])\n",
    "\n",
    "    # Set up plot\n",
    "    ax1 = fig.gca(projection='3d')\n",
    "    ax1.set_xlabel('Pressure, $p$ $(GPa)$', fontsize=20, labelpad=15)\n",
    "    ax1.set_ylabel('Composition, $xH_2O$', fontsize=20, labelpad=15)\n",
    "    ax1.set_zlabel('Volume, $V$ (cm$^3$/mol)', fontsize=20, labelpad=15)\n",
    "    ax1.set_zlim(np.nanmin(V_range)*.9, np.nanmax(V_range)*1.1)\n",
    "    ax1.set_xlim(min(P),max(P))\n",
    "\n",
    "    # Plot data\n",
    "    source_set = list(set(source))\n",
    "    marker_list = itertools.cycle(('o', 's'))\n",
    "    for i, item in enumerate(source_set):\n",
    "        marker = next(marker_list)\n",
    "        ax1.scatter3D(P[source == source_set[i]],\n",
    "                      xH2O[source == source_set[i]],\n",
    "                      V[source == source_set[i]],\n",
    "                      label=item,\n",
    "                      marker=marker,\n",
    "                      color=scalarMap.to_rgba(T[source == source_set[i]]))\n",
    "    \n",
    "    # Plot isosurfaces\n",
    "    for i, item in enumerate(iso_list):\n",
    "        color = scalarMap.to_rgba(iso_list[i])\n",
    "        ax1.plot_surface(P_range[i].reshape(res,res),\n",
    "                        i_xH2O.reshape(res,res),\n",
    "                        V_range.reshape(res,res),\n",
    "                        rstride=1,\n",
    "                        color=color,\n",
    "                        edgecolor='none',\n",
    "                        alpha=0.25)\n",
    "    \n",
    "    ax1.legend(loc=[0.3, 0.95], frameon=False, fontsize=16, markerscale=2)\n",
    "\n",
    "    return fig"
   ]
  },
  {
   "cell_type": "code",
   "execution_count": 16,
   "metadata": {
    "init_cell": true,
    "scrolled": false
   },
   "outputs": [
    {
     "data": {
      "application/vnd.jupyter.widget-view+json": {
       "model_id": "cacffa3b986d44cd9d4dfcf9e8bc88d5",
       "version_major": 2,
       "version_minor": 0
      },
      "text/plain": [
       "HBox(children=(HTMLMath(value='$Composition$', layout=Layout(width='120px')), HTMLMath(value='$MgO/SiO_2$', la…"
      ]
     },
     "metadata": {},
     "output_type": "display_data"
    },
    {
     "data": {
      "application/vnd.jupyter.widget-view+json": {
       "model_id": "57df370d325d4019bdb31fcece3f3610",
       "version_major": 2,
       "version_minor": 0
      },
      "text/plain": [
       "HBox(children=(HBox(children=(Dropdown(index=1, layout=Layout(width='120px'), options=('En', 'MS', 'Fo'), valu…"
      ]
     },
     "metadata": {},
     "output_type": "display_data"
    },
    {
     "data": {
      "application/vnd.jupyter.widget-view+json": {
       "model_id": "cf779276290842188a00bf402bab4184",
       "version_major": 2,
       "version_minor": 0
      },
      "text/plain": [
       "HBox(children=(HTMLMath(value='$V_0$', layout=Layout(width='120px')), HTMLMath(value='$K_0$', layout=Layout(wi…"
      ]
     },
     "metadata": {},
     "output_type": "display_data"
    },
    {
     "data": {
      "application/vnd.jupyter.widget-view+json": {
       "model_id": "837b389107b74754991f757ca0d93a81",
       "version_major": 2,
       "version_minor": 0
      },
      "text/plain": [
       "HBox(children=(Text(value='', disabled=True, layout=Layout(width='120px')), Text(value='', disabled=True, layo…"
      ]
     },
     "metadata": {},
     "output_type": "display_data"
    },
    {
     "data": {
      "application/vnd.jupyter.widget-view+json": {
       "model_id": "b1d496b39e6b4178b674124dab8335c9",
       "version_major": 2,
       "version_minor": 0
      },
      "text/plain": [
       "HBox(children=(HTMLMath(value='$dV_0/dx_{H2O}$', layout=Layout(width='120px')), HTMLMath(value='$dK_0/dx_{H2O}…"
      ]
     },
     "metadata": {},
     "output_type": "display_data"
    },
    {
     "data": {
      "application/vnd.jupyter.widget-view+json": {
       "model_id": "b4ee4e57a95b4e99bf13770d7c6bd495",
       "version_major": 2,
       "version_minor": 0
      },
      "text/plain": [
       "HBox(children=(Text(value='', disabled=True, layout=Layout(width='120px')), Text(value='', disabled=True, layo…"
      ]
     },
     "metadata": {},
     "output_type": "display_data"
    },
    {
     "data": {
      "application/vnd.jupyter.widget-view+json": {
       "model_id": "13a65f2154df4974b6c259e8ae98e411",
       "version_major": 2,
       "version_minor": 0
      },
      "text/plain": [
       "HBox(children=(HTMLMath(value='$d^2V_0/dx_{H2O}^2$', layout=Layout(width='120px')), HTMLMath(value='$d^2K_0/dx…"
      ]
     },
     "metadata": {},
     "output_type": "display_data"
    },
    {
     "data": {
      "application/vnd.jupyter.widget-view+json": {
       "model_id": "0f5d07ceca754869a105f0def729dfd9",
       "version_major": 2,
       "version_minor": 0
      },
      "text/plain": [
       "HBox(children=(Text(value='', disabled=True, layout=Layout(width='120px')), Text(value='', disabled=True, layo…"
      ]
     },
     "metadata": {},
     "output_type": "display_data"
    },
    {
     "data": {
      "application/vnd.jupyter.widget-view+json": {
       "model_id": "ff54de3ad9054496b7894e6c72204daa",
       "version_major": 2,
       "version_minor": 0
      },
      "text/plain": [
       "HBox(children=(HTMLMath(value='Residual (GPa)', layout=Layout(width='120px')), HTMLMath(value='DOF', layout=La…"
      ]
     },
     "metadata": {},
     "output_type": "display_data"
    },
    {
     "data": {
      "application/vnd.jupyter.widget-view+json": {
       "model_id": "6a70e6950b3e4f3b80e73b6e5e46ef70",
       "version_major": 2,
       "version_minor": 0
      },
      "text/plain": [
       "HBox(children=(Text(value='', disabled=True, layout=Layout(width='120px')), Text(value='', disabled=True, layo…"
      ]
     },
     "metadata": {},
     "output_type": "display_data"
    },
    {
     "data": {
      "application/vnd.jupyter.widget-view+json": {
       "model_id": "96c4799bd6a64785a975e83195e05439",
       "version_major": 2,
       "version_minor": 0
      },
      "text/plain": [
       "HBox(children=(Output(),))"
      ]
     },
     "metadata": {},
     "output_type": "display_data"
    },
    {
     "data": {
      "application/vnd.jupyter.widget-view+json": {
       "model_id": "",
       "version_major": 2,
       "version_minor": 0
      },
      "text/plain": [
       "Processing:   0%|          | 0/4 [00:00<?, ?it/s]"
      ]
     },
     "metadata": {},
     "output_type": "display_data"
    }
   ],
   "source": [
    "def fit_bX(change):\n",
    "    \"\"\"Callback function called when dropdown menu bX is changed. Executes fit, calculates isosurfaces\n",
    "    and and plots the results.\n",
    "    \n",
    "    Parameters\n",
    "    ----------\n",
    "    change : object containing a type key (i.e. 'change') and a name key (i.e. 'En'), corresponding \n",
    "             respectively to the type of notification and the name of the attribute that triggered \n",
    "             the notification.\n",
    "             \n",
    "    Returns\n",
    "    -------\n",
    "    NONE\n",
    "    \"\"\"\n",
    "\n",
    "    if change['type'] == 'change' and change['name'] == 'value':\n",
    "\n",
    "        # Populate box row 1 with compositional information\n",
    "        cx1[0].value = str(\n",
    "            np.round(eval(change['new'])[0, 5] / eval(change['new'])[0, 6], 2))\n",
    "        cx1[1].value = str(int(np.sum(eval(change['new'])[:, -1])))\n",
    "\n",
    "        # Perform ODR fit\n",
    "        if change['new'] == 'Fo':\n",
    "            P, s_P, V, T, xH2O, xMgO, beta, errors, chi, r, pcov, dof, ss, source, ifixb = perform_PVTX_fit(\n",
    "                change['new'], 1, 2)\n",
    "        else:\n",
    "            P, s_P, V, T, xH2O, xMgO, beta, errors, chi, r, pcov, dof, ss, source, ifixb = perform_PVTX_fit(\n",
    "                change['new'], 1, 1)\n",
    "\n",
    "        # Populate box rows 2-4 with refined parameters and their 95% confidence intervals (2SD)\n",
    "        for i in range(6):\n",
    "            cx1[i+2].value = str(np.round(beta[0][i], 2))+'±'+str(np.round(errors[0][i], 2))\n",
    "            cx1[i+8].value = str(np.round(beta[2][i], 2))+'±'+str(np.round(errors[2][i], 2))\n",
    "            cx1[i+14].value = str(np.round(beta[3][i], 2))+'±'+str(np.round(errors[3][i], 2))\n",
    "\n",
    "        # Populate box row 5 with fit statistics\n",
    "        cx1[20].value = str(np.round(np.mean(np.abs(r)), 3))\n",
    "        cx1[21].value = str(np.round(dof, 3))\n",
    "        cx1[22].value = str(np.round(chi, 3))\n",
    "\n",
    "        # If sub_bX dropdown widget exists, update its options and value based on chosen binary\n",
    "        if 'sub_bX' in globals():\n",
    "            sub_bX.options = compositions.index[\n",
    "                compositions.index.str.contains('|'.join(\n",
    "                    [change['new'], 'H2O']))].tolist()\n",
    "            sub_bX.value = sub_bX.options[1]\n",
    "\n",
    "        fig1 = PVTX_plot(P, V, T, xH2O, xMgO, source, beta)\n",
    "\n",
    "        # Update plot\n",
    "        with out2:\n",
    "            clear_output(wait=True)\n",
    "            plt.show(fig1)\n",
    "\n",
    "\n",
    "# Set up interactive dropdown menu\n",
    "bX = w.Dropdown(options=['En', 'MS', 'Fo'], layout=w.Layout(width='120px'))\n",
    "bX.value = bX.options[1]\n",
    "bX.observe(fit_bX)\n",
    "\n",
    "# Create lists of box names\n",
    "cx1 = [\n",
    "    \"c0\", \"c1\", \"c2\", \"c3\", \"c4\", \"c5\", \"c6\", \"c7\", \"c8\", \"c9\", \"c10\", \"c11\",\n",
    "    \"c12\", \"c13\", \"c14\", \"c15\", \"c16\", \"c17\", \"c18\", \"c19\", \"c20\", \"c21\",\n",
    "    \"c22\"\n",
    "]\n",
    "\n",
    "# Draw output boxes\n",
    "display_boxes(bX, cx1, 3, 6, 2, 0)\n",
    "\n",
    "# Create output widget for plotting figure\n",
    "out2 = w.Output()\n",
    "\n",
    "display(w.HBox([out2]))\n",
    "\n",
    "# Trigger callback on cell initialisation\n",
    "bX.value = bX.options[0]"
   ]
  },
  {
   "cell_type": "markdown",
   "metadata": {},
   "source": [
    "<a id=\"widget_3\"></a>\n",
    "\n",
    "<div class=\"alert alert-block alert-info\">\n",
    "    \n",
    "#### Widget 3: View a single composition within the binary fit\n",
    "<br />\n",
    "</div>"
   ]
  },
  {
   "cell_type": "code",
   "execution_count": 17,
   "metadata": {
    "init_cell": true,
    "scrolled": false
   },
   "outputs": [
    {
     "data": {
      "application/vnd.jupyter.widget-view+json": {
       "model_id": "48ca9bd2a5664f1bb52886e5fb1a0e5d",
       "version_major": 2,
       "version_minor": 0
      },
      "text/plain": [
       "HBox(children=(HTMLMath(value='$Composition$', layout=Layout(width='120px')), HTMLMath(value='$H_2O$ $(mol\\\\ \\…"
      ]
     },
     "metadata": {},
     "output_type": "display_data"
    },
    {
     "data": {
      "application/vnd.jupyter.widget-view+json": {
       "model_id": "64229f42656c44cf93d651d92ffc7e66",
       "version_major": 2,
       "version_minor": 0
      },
      "text/plain": [
       "HBox(children=(Dropdown(index=1, layout=Layout(width='120px'), options=('En', 'EnH25', 'EnH50', 'EnH60'), valu…"
      ]
     },
     "metadata": {},
     "output_type": "display_data"
    },
    {
     "data": {
      "application/vnd.jupyter.widget-view+json": {
       "model_id": "bbb95e5146674f8e8b0790875561d372",
       "version_major": 2,
       "version_minor": 0
      },
      "text/plain": [
       "Output()"
      ]
     },
     "metadata": {},
     "output_type": "display_data"
    },
    {
     "data": {
      "application/vnd.jupyter.widget-view+json": {
       "model_id": "",
       "version_major": 2,
       "version_minor": 0
      },
      "text/plain": [
       "Processing:   0%|          | 0/3 [00:00<?, ?it/s]"
      ]
     },
     "metadata": {},
     "output_type": "display_data"
    }
   ],
   "source": [
    "def bX_isopleth(change):\n",
    "    \"\"\"Callback function called when dropdown menu sub_bX is changed, either by the user selecting\n",
    "    a different composition to fit within the current binary, or by the user changing dropdown bX in\n",
    "    the previous cell. Executes fit, calculates isotherms and confidence bands and plots the results.\n",
    "    \n",
    "    Parameters\n",
    "    ----------\n",
    "    change : object containing a type key (i.e. 'change') and a name key (i.e. 'En'), corresponding \n",
    "             respectively to the type of notification and the name of the attribute that triggered \n",
    "             the notification.\n",
    "             \n",
    "    Returns\n",
    "    -------\n",
    "    NONE\n",
    "    \"\"\"\n",
    "\n",
    "    if change['type'] == 'change' and change['name'] == 'value':\n",
    "\n",
    "        # Populate box row 1 with compositional information\n",
    "        for i in range(4):\n",
    "            dx1[i].value = str(\n",
    "                compositions.iloc[compositions.index.get_loc(change['new']),\n",
    "                                  4 + i])\n",
    "        # Perform ODR fit\n",
    "        if change['new'] == 'Fo':\n",
    "            P, s_P, V, T, xH2O, xMgO, beta, errors, chi, r, pcov, dof, ss, source, ifixb = perform_PVTX_fit(\n",
    "                change['new'], 1, 2)\n",
    "        else:\n",
    "            P, s_P, V, T, xH2O, xMgO, beta, errors, chi, r, pcov, dof, ss, source, ifixb = perform_PVTX_fit(\n",
    "                change['new'], 1, 1)\n",
    "\n",
    "        # Get data for current composition\n",
    "        P, s_P, V, s_V, T, s_T, xMgO, s_xMgO, xSiO2, s_SiO2, xH2O, s_xH2O, u, s_u, source = extract_data(\n",
    "            change['new'], 0)\n",
    "\n",
    "        # Calculate r\n",
    "        r = P - MGD(beta, np.array([V, T, xMgO, xH2O]))\n",
    "        dx1[4].value = str(np.round(np.mean(abs(r)), 3))\n",
    "        fig2 = PVT_plot(P, s_P, V, T, xMgO, xH2O, r, change['new'], source,\n",
    "                       beta, pcov, dof, ifixb)\n",
    "\n",
    "        # Update plot\n",
    "        with out3:\n",
    "            clear_output(wait=True)\n",
    "            plt.show(fig2)\n",
    "        return beta, pcov, dof, ifixb\n",
    "\n",
    "\n",
    "# Set up interactive dropdown menu\n",
    "sub_bX = w.Dropdown(options=compositions.index[compositions.index.str.contains(\n",
    "    bX.value)].tolist(),\n",
    "                    layout=w.Layout(width='120px'))\n",
    "sub_bX.value = sub_bX.options[1]\n",
    "sub_bX.observe(bX_isopleth)\n",
    "\n",
    "# Create lists of box names\n",
    "dx1 = [\"d1\", \"d2\", \"d3\", \"d4\", \"d5\"]\n",
    "\n",
    "# Create output text boxes\n",
    "for i in range(5):\n",
    "    dx1[i] = w.Text(disabled=True, Value=[], layout=w.Layout(width='120px'))\n",
    "\n",
    "# Create output widget for plotting figure\n",
    "out3 = w.Output()\n",
    "\n",
    "# Draw everything\n",
    "display(\n",
    "    w.HBox([\n",
    "        w.HTMLMath(titles_PVT[i], layout=w.Layout(width=\"120px\"))\n",
    "        for i in [0, 1, 2, 3, 4, 30]\n",
    "    ]))\n",
    "display(w.HBox([sub_bX, dx1[0], dx1[1], dx1[2], dx1[3], dx1[4]]))\n",
    "display(out3)\n",
    "\n",
    "# Trigger callback on cell initialisation\n",
    "sub_bX.value = sub_bX.options[0]"
   ]
  },
  {
   "cell_type": "markdown",
   "metadata": {},
   "source": [
    "<hr style=\"height:10px;border-width:0;color:gray;background-color:gray\">\n",
    "\n",
    "### Volume: Fitting the ternary\n",
    "\n",
    "Immediately below is our fit to the entire ternary dataset presented in [Table 2](#table_2), including all of the literature data. In this case not only is each parameter either linearly or quadratically dependent on the molar proportion of H<sub>2</sub>O, but they are also linearly dependent on molar proportion of MgO, with enstatite being the reference composition. Each fitted parameter is calculated as in the example below for the bulk modulus:\n",
    "\n",
    "$$K_{0,298,x,y}=K_{0,298,0,0.5}+dK_{0,298,x,0.5}/dx+(y.dK_{0,298}/dy - 0.5)$$\n",
    "\n",
    "where the subscripts represent P, T and the molar proportions of H<sub>2</sub>O and MgO respectively and where $K_{0,298,0,0.5}$ is the bulk modulus of anhydrous enstatite and the $dK_{0,298,x,0.5}/dx$ term represents the dependence of the bulk modulus on the water content.\n",
    "\n",
    "As with the binary fitting, careful fit testing has been perfomred on all 32 combinations of linear and quadratic dependencies on the molar proportion of H<sub>2</sub>O for the five fitted variables. In this case, the lowest 𝜒2𝜈 is produced when $K_0$, $K'_0$ and $\\gamma_0$ have a quadratic dependence on the molar proportion of H<sub>2</sub>O. The results of these fitting tests are shown in [Table 4](#table_4).\n",
    "\n",
    "You can view isopleths at each simulated composition wihtin the ternary in [Widget 4](#widget_4)."
   ]
  },
  {
   "cell_type": "code",
   "execution_count": 18,
   "metadata": {
    "hide_input": false,
    "init_cell": true,
    "scrolled": false
   },
   "outputs": [
    {
     "data": {
      "application/vnd.jupyter.widget-view+json": {
       "model_id": "b5ec70efc44d416d92f5d9a2a5421b40",
       "version_major": 2,
       "version_minor": 0
      },
      "text/plain": [
       "HBox(children=(HTMLMath(value='$n$', layout=Layout(width='120px')),))"
      ]
     },
     "metadata": {},
     "output_type": "display_data"
    },
    {
     "data": {
      "application/vnd.jupyter.widget-view+json": {
       "model_id": "4add870b8c2f482184f783498fd3662f",
       "version_major": 2,
       "version_minor": 0
      },
      "text/plain": [
       "HBox(children=(Text(value='', disabled=True, layout=Layout(width='120px')),))"
      ]
     },
     "metadata": {},
     "output_type": "display_data"
    },
    {
     "data": {
      "application/vnd.jupyter.widget-view+json": {
       "model_id": "80d7e97e20df467bb683129a34c96b08",
       "version_major": 2,
       "version_minor": 0
      },
      "text/plain": [
       "HBox(children=(HTMLMath(value='$V_0$', layout=Layout(width='120px')), HTMLMath(value='$K_0$', layout=Layout(wi…"
      ]
     },
     "metadata": {},
     "output_type": "display_data"
    },
    {
     "data": {
      "application/vnd.jupyter.widget-view+json": {
       "model_id": "f88068ed9c024e39bdfc537fa1854fa3",
       "version_major": 2,
       "version_minor": 0
      },
      "text/plain": [
       "HBox(children=(Text(value='', disabled=True, layout=Layout(width='120px')), Text(value='', disabled=True, layo…"
      ]
     },
     "metadata": {},
     "output_type": "display_data"
    },
    {
     "data": {
      "application/vnd.jupyter.widget-view+json": {
       "model_id": "3ac5b59a2ada42dbaa2fe9beac65d5fb",
       "version_major": 2,
       "version_minor": 0
      },
      "text/plain": [
       "HBox(children=(HTMLMath(value='$dV_0/dx_{H2O}$', layout=Layout(width='120px')), HTMLMath(value='$dK_0/dx_{H2O}…"
      ]
     },
     "metadata": {},
     "output_type": "display_data"
    },
    {
     "data": {
      "application/vnd.jupyter.widget-view+json": {
       "model_id": "90b94d02b4b74353b715b32058618109",
       "version_major": 2,
       "version_minor": 0
      },
      "text/plain": [
       "HBox(children=(Text(value='', disabled=True, layout=Layout(width='120px')), Text(value='', disabled=True, layo…"
      ]
     },
     "metadata": {},
     "output_type": "display_data"
    },
    {
     "data": {
      "application/vnd.jupyter.widget-view+json": {
       "model_id": "72b152e02fb548889d99690166c52fc2",
       "version_major": 2,
       "version_minor": 0
      },
      "text/plain": [
       "HBox(children=(HTMLMath(value='$d^2V_0/dx_{H2O}^2$', layout=Layout(width='120px')), HTMLMath(value='$d^2K_0/dx…"
      ]
     },
     "metadata": {},
     "output_type": "display_data"
    },
    {
     "data": {
      "application/vnd.jupyter.widget-view+json": {
       "model_id": "b4e1997cc75b46fe987ab69be22fa1c3",
       "version_major": 2,
       "version_minor": 0
      },
      "text/plain": [
       "HBox(children=(Text(value='', disabled=True, layout=Layout(width='120px')), Text(value='', disabled=True, layo…"
      ]
     },
     "metadata": {},
     "output_type": "display_data"
    },
    {
     "data": {
      "application/vnd.jupyter.widget-view+json": {
       "model_id": "0bbc0db4532646ae927f22dbb89e694f",
       "version_major": 2,
       "version_minor": 0
      },
      "text/plain": [
       "HBox(children=(HTMLMath(value='$dV_0/dx_{MgO}$', layout=Layout(width='120px')), HTMLMath(value='$dK_0/dx_{MgO}…"
      ]
     },
     "metadata": {},
     "output_type": "display_data"
    },
    {
     "data": {
      "application/vnd.jupyter.widget-view+json": {
       "model_id": "60f22216515b4809bca4f7351048e2ec",
       "version_major": 2,
       "version_minor": 0
      },
      "text/plain": [
       "HBox(children=(Text(value='', disabled=True, layout=Layout(width='120px')), Text(value='', disabled=True, layo…"
      ]
     },
     "metadata": {},
     "output_type": "display_data"
    },
    {
     "data": {
      "application/vnd.jupyter.widget-view+json": {
       "model_id": "60a151abdd1744a58208339519ac7325",
       "version_major": 2,
       "version_minor": 0
      },
      "text/plain": [
       "HBox(children=(HTMLMath(value='Residual (GPa)', layout=Layout(width='120px')), HTMLMath(value='DOF', layout=La…"
      ]
     },
     "metadata": {},
     "output_type": "display_data"
    },
    {
     "data": {
      "application/vnd.jupyter.widget-view+json": {
       "model_id": "65f56283803d4abdb1a041e89731de4c",
       "version_major": 2,
       "version_minor": 0
      },
      "text/plain": [
       "HBox(children=(Text(value='', disabled=True, layout=Layout(width='120px')), Text(value='', disabled=True, layo…"
      ]
     },
     "metadata": {},
     "output_type": "display_data"
    }
   ],
   "source": [
    "def tX():\n",
    "    \"\"\"Performs MGD PVTX fit to all data in MSH ternary.\n",
    "                \n",
    "    Returns\n",
    "    -------\n",
    "    beta   : 4 x 6 numpy array of float\n",
    "             fitted parameters\n",
    "    errors : 4 x 6 numpy array of float\n",
    "             95% confidence intervals in fitted parameters\n",
    "    pcov   : n x n numpy array of float\n",
    "             covariance matrix\n",
    "    DOF    : int\n",
    "             degrees of freedom of the fit\n",
    "    \"\"\"\n",
    "    # Create lists of names for textboxes\n",
    "    dx1 = [\n",
    "        \"d0\", \"d1\", \"d2\", \"d3\", \"d4\", \"d5\", \"d6\", \"d7\", \"d8\", \"d9\", \"d10\",\n",
    "        \"d11\", \"d12\", \"d13\", \"d14\", \"d15\", \"d16\", \"d17\", \"d18\", \"d19\", \"d20\",\n",
    "        \"d21\", \"d22\", \"d23\", \"d24\", \"d25\", \"d26\", \"d27\"\n",
    "    ]\n",
    "\n",
    "    # Draw output boxes\n",
    "    display_boxes([], dx1, 4, 6, 1, 0)\n",
    "\n",
    "    # Perform ODR ternary fit\n",
    "    P, s_P, V, T, xH2O, xMgO, beta, errors, chi, r, pcov, dof, ss, source, ifixb = perform_PVTX_fit(\n",
    "        '', 2, 3)\n",
    "\n",
    "    # Populate box row 1 with compositional information\n",
    "    dx1[0].value = str(len(P))\n",
    "\n",
    "    # Populate box rows 2-9 with refined parameters and their 95% confidence intervals (2SD)\n",
    "    for i in range(6):\n",
    "        dx1[i + 1].value = str(np.round(beta[0][i], 2)) + '±' + str(\n",
    "            np.round(errors[0][i], 2))\n",
    "        dx1[i + 7].value = str(np.round(beta[2][i], 2)) + '±' + str(\n",
    "            np.round(errors[2][i], 2))\n",
    "        dx1[i + 13].value = str(np.round(beta[3][i], 2)) + '±' + str(\n",
    "            np.round(errors[3][i], 2))\n",
    "        dx1[i + 19].value = str(np.round(beta[1][i], 2)) + '±' + str(\n",
    "            np.round(errors[1][i], 2))\n",
    "\n",
    "    # Populate box row 8 with fit statistics\n",
    "    dx1[25].value = str(np.round(np.mean(np.abs(r)), 2))\n",
    "    dx1[26].value = str(np.round(dof, 3))\n",
    "    dx1[27].value = str(np.round(chi, 3))\n",
    "\n",
    "    return beta, errors, pcov, dof, ifixb\n",
    "\n",
    "v_beta, v_errors, v_pcov, v_dof, v_ifixb = tX()"
   ]
  },
  {
   "cell_type": "markdown",
   "metadata": {},
   "source": [
    "<a id=\"table_4\"></a>\n",
    "\n",
    "#### Table 4: Ternary fit testing \n",
    "\n",
    "The table below contains the results of 32 fits to all the data within the ternary, each with a different combination of linear and quadratic dependence of the water content for the five parameters that are allowed to vary ($V_0$, $K_0$, $K'_0$,$\\gamma_0$ and $q_0$) while each parameter has a linear dependence on the $MgO$ content."
   ]
  },
  {
   "cell_type": "code",
   "execution_count": null,
   "metadata": {
    "hide_input": false,
    "scrolled": false
   },
   "outputs": [],
   "source": [
    "# Perform fit test with intial ifixb with all variables linear\n",
    "ternary_fit_test_results = fit_test('',2,np.array([[1, 1, 1, 1, 1, 0], [1, 1, 1, 1, 1, 0],\n",
    "                              [1, 1, 1, 1, 1, 0], [0, 0, 0, 0, 0, 0]]))\n",
    "\n",
    "ternary_fit_test_results"
   ]
  },
  {
   "cell_type": "markdown",
   "metadata": {},
   "source": [
    "<a id=\"widget_4\"></a>\n",
    "\n",
    "<div class=\"alert alert-block alert-info\">\n",
    "    \n",
    "#### Widget 4: View a single composition within the ternary fit\n",
    "<br />\n",
    "</div>"
   ]
  },
  {
   "cell_type": "code",
   "execution_count": 19,
   "metadata": {
    "init_cell": true,
    "scrolled": false
   },
   "outputs": [
    {
     "data": {
      "application/vnd.jupyter.widget-view+json": {
       "model_id": "e133aebdd2c5440ab973f2433ebd2a6f",
       "version_major": 2,
       "version_minor": 0
      },
      "text/plain": [
       "HBox(children=(HTMLMath(value='$Composition$', layout=Layout(width='120px')), HTMLMath(value='$H_2O$ $(mol\\\\ \\…"
      ]
     },
     "metadata": {},
     "output_type": "display_data"
    },
    {
     "data": {
      "application/vnd.jupyter.widget-view+json": {
       "model_id": "14b5d5a79c3e4ffa81751752f5b4b27d",
       "version_major": 2,
       "version_minor": 0
      },
      "text/plain": [
       "HBox(children=(Dropdown(index=1, layout=Layout(width='120px'), options=('En', 'EnH25', 'EnH50', 'EnH60', 'MS',…"
      ]
     },
     "metadata": {},
     "output_type": "display_data"
    },
    {
     "data": {
      "application/vnd.jupyter.widget-view+json": {
       "model_id": "1fa3510a707d48c599dbade4cda70f12",
       "version_major": 2,
       "version_minor": 0
      },
      "text/plain": [
       "Output()"
      ]
     },
     "metadata": {},
     "output_type": "display_data"
    },
    {
     "data": {
      "application/vnd.jupyter.widget-view+json": {
       "model_id": "",
       "version_major": 2,
       "version_minor": 0
      },
      "text/plain": [
       "Processing:   0%|          | 0/3 [00:00<?, ?it/s]"
      ]
     },
     "metadata": {},
     "output_type": "display_data"
    }
   ],
   "source": [
    "def tX_isopleth(change):\n",
    "    \"\"\"Callback function called when dropdown menu sub_tX is changed. Executes fit, calculates isotherms\n",
    "    and confidence bands and plots the results.\n",
    "    \n",
    "    Parameters\n",
    "    ----------\n",
    "    change : object containing a type key (i.e. 'change') and a name key (i.e. 'En'), corresponding \n",
    "             respectively to the type of notification and the name of the attribute that triggered \n",
    "             the notification.\n",
    "             \n",
    "    Returns\n",
    "    -------\n",
    "    NONE\n",
    "    \"\"\"\n",
    "    if change['type'] == 'change' and change['name'] == 'value':\n",
    "\n",
    "        # Populate box row 1 with compositional information\n",
    "        for i in range(4):\n",
    "            fx1[i].value = str(\n",
    "                compositions.iloc[compositions.index.get_loc(change['new']),\n",
    "                                  4 + i])\n",
    "            \n",
    "        # Perform ODR ternary fit\n",
    "        P, s_P, V, T, xH2O, xMgO, beta, errors, chi, r, pcov, dof, ss, source, ifixb = perform_PVTX_fit(\n",
    "            '', 2, 3)\n",
    "        \n",
    "        # Get data for current composition\n",
    "        P, s_P, V, s_V, T, s_T, xMgO, s_xMgO, xSiO2, s_SiO2, xH2O, s_xH2O, u, s_u, source = extract_data(\n",
    "            change['new'], 0)\n",
    "        \n",
    "        # Calculate r\n",
    "        r = P - MGD(beta, np.array([V, T, xMgO, xH2O]))\n",
    "        fx1[4].value = str(np.round(np.mean(abs(r)), 3))\n",
    "        fig3 = PVT_plot(P, s_P, V, T, xMgO, xH2O, r, change['new'], source,\n",
    "                       beta, pcov, dof, ifixb)\n",
    "\n",
    "        with out4:\n",
    "            clear_output(wait=True)\n",
    "            plt.show(fig3)\n",
    "\n",
    "# Set up interactive dropdown menu\n",
    "sub_tX = w.Dropdown(options=compositions.index.tolist(),\n",
    "                    layout=w.Layout(width='120px'))\n",
    "sub_tX.value = sub_tX.options[1]\n",
    "sub_tX.observe(tX_isopleth)\n",
    "\n",
    "# Create lists of box names\n",
    "fx1 = [\"e1\", \"e2\", \"e3\", \"e4\", \"e5\"]\n",
    "\n",
    "# Create output text boxes\n",
    "for i in range(5):\n",
    "    fx1[i] = w.Text(disabled=True, Value=[], layout=w.Layout(width='120px'))\n",
    "\n",
    "# Create output widget for plotting figure\n",
    "out4 = w.Output()\n",
    "\n",
    "# Draw everything\n",
    "display(\n",
    "    w.HBox([\n",
    "        w.HTMLMath(titles_PVT[i], layout=w.Layout(width=\"120px\"))\n",
    "        for i in [0, 1, 2, 3, 4, 30]\n",
    "    ]))\n",
    "display(w.HBox([sub_tX, fx1[0], fx1[1], fx1[2], fx1[3], fx1[4]]))\n",
    "display(out4)\n",
    "\n",
    "# Trigger callback on cell initialisation\n",
    "sub_tX.value = sub_tX.options[0]"
   ]
  },
  {
   "cell_type": "markdown",
   "metadata": {},
   "source": [
    "<hr style=\"height:10px;border-width:0;color:gray;background-color:gray\">\n",
    "\n",
    "### Viscosity: Fitting the ternary\n",
    "\n",
    "We have fitted the viscosities for the full range of simulated melts listed in [Table 2](#table_2) to the modified Vogel-Fulcher-Tammann-Hesse (VFTH) function\n",
    "\n",
    "$\\eta(p,T,x_M,x_S,x_H) = exp [A_0+A_1 p+\\frac{(A_2+A_3 p+A_4 p^2)}{T-T_0}]$\n",
    "\n",
    "where $T_0=1000 K$,  $A_i=(a_{i,M}x_M + a_{i,S}x_S + a_{i,H}x_H)$ and $x$ denotes the fraction of the oxide components $MgO$ ($M$), $SiO_2$ ($S$), $H_2O$ ($H$) in mol. %. Again, ODR was used to take into account uncertainties on $p$, $T$ and $\\eta$. The regression coefficients $a_{i,M}$, $a_{i,S}$, $a_{i,H}$ are listed below. The average residual is $18%$. While the VFTH equation describes the data accurately, extrapolation is unreliable, leading to viscosity maxima and unphysical values.\n",
    "\n",
    "You can view isopleths at each simulated composition within the ternary in [Widget 5](#widget_5)."
   ]
  },
  {
   "cell_type": "code",
   "execution_count": 20,
   "metadata": {
    "init_cell": true,
    "scrolled": true
   },
   "outputs": [],
   "source": [
    "def VFTH(beta, x):\n",
    "    \"\"\"\n",
    "    Global viscosity parameterisation for MSH melts, Drewitt et al. 2020, based on the VFTH equation \n",
    "    (Vogel-Fulcher-Tammann-Hesse).\n",
    "    \n",
    "    Parameters\n",
    "    ----------\n",
    "    x1 : array of float\n",
    "         mol fraction MgO\n",
    "    x2 : array of float\n",
    "         mol fraction SiO2\n",
    "    x3 : array of float\n",
    "         mol fraction H2O\n",
    "    T  : array of float\n",
    "         temperature in K\n",
    "    p  : array of float\n",
    "         pressure in GPa\n",
    "         \n",
    "    Returns\n",
    "    -------\n",
    "    u  : array of float\n",
    "         calculated viscosities in Pa.S\n",
    "    \"\"\"\n",
    "\n",
    "    p, T, x1, x2, x3 = x\n",
    "\n",
    "    u = np.exp((beta[0] * x1 + beta[5] * x2 + beta[10] * x3) +\n",
    "               (beta[1] * x1 + beta[6] * x2 + beta[11] * x3) * p +\n",
    "               ((beta[2] * x1 + beta[7] * x2 + beta[12] * x3) +\n",
    "                (beta[3] * x1 + beta[8] * x2 + beta[13] * x3) * p +\n",
    "                (beta[4] * x1 + beta[9] * x2 + beta[14] * x3) * p**2) /\n",
    "               (T - 1000))\n",
    "    return u"
   ]
  },
  {
   "cell_type": "code",
   "execution_count": 21,
   "metadata": {
    "init_cell": true,
    "scrolled": true
   },
   "outputs": [],
   "source": [
    "def perform_PVTu_fit(X, data_flag):\n",
    "    \"\"\"Given a composition code (e.g. X = 'En') and a flag (data_flag), perform_fit gathers the required data,\n",
    "    determines which parameters are to be fitted, constructs a fitting model, performs orthogonal distance\n",
    "    regression to refine the fitted parameters and returns various goodness of fit statistics.\n",
    "    \n",
    "    Parameters\n",
    "    ----------\n",
    "    X         : string \n",
    "                composition code\n",
    "    data_flag : int \n",
    "                0 | 1 | 2 flag to determine how to search the data\n",
    "    ifixb     : array of int\n",
    "                0 | 1 flags (do not fit | fit)\n",
    "            \n",
    "    Returns\n",
    "    -------\n",
    "    P              : numpy array of float\n",
    "                     pressures\n",
    "    s_P            : numpy array of float\n",
    "                     errors on pressures\n",
    "    V              : numpy array of float\n",
    "                     volumes\n",
    "    T              : numpy array of float\n",
    "                     temperatures\n",
    "    xH2O           : numpy array of float\n",
    "                     molar proportion of water\n",
    "    xMgO           : numpy array of float\n",
    "                     molar proportion of MgO\n",
    "    fit.beta       : numpy array of float\n",
    "                     fitted parameters\n",
    "    ci_95          : numpy array of float\n",
    "                     95% confidence intervals in fitted parameters\n",
    "    fit.res_var    : float\n",
    "                     reduced chi squared statistic\n",
    "    V_r            : numpy array of float\n",
    "                     r in volume \n",
    "    pcov           : n x n numpy array of float\n",
    "                     covariance matrix\n",
    "    DOF            : int\n",
    "                     degrees of freedom of the fit\n",
    "    fit.sum_square : numpy array of float\n",
    "                     sum of squared errors\n",
    "    source         : numpy array of string\n",
    "                     name of data source\n",
    "    \"\"\"\n",
    "\n",
    "    P, s_P, V, s_V, T, s_T, xMgO, s_xMgO, xSiO2, s_SiO2, xH2O, s_xH2O, u, s_u, source = extract_data(\n",
    "        X, data_flag)\n",
    "\n",
    "    # Predictor variables\n",
    "    x = [P, T, xMgO, xSiO2, xH2O]\n",
    "\n",
    "    # Initial guesses for VFTH parameters\n",
    "    beta0 = [\n",
    "        0.1, 0.1, 0.1, 0.1, 0.1, 0.1, 0.1, 0.1, 0.1, 0.1, 0.1, 0.1, 0.1, 0.1,\n",
    "        0.1\n",
    "    ]\n",
    "    \n",
    "    # Set flags for fitting: 0 - do not fit, 1 - allow to vary.\n",
    "    ifixb = [\n",
    "        1, 1, 1, 1, 1, 1, 1, 1, 1, 1, 1, 1, 1, 1,1\n",
    "    ]\n",
    "\n",
    "    # Define VFTH model for ODR fitting\n",
    "    VFTH_odr = Model(VFTH)\n",
    "\n",
    "    # Create data structure for fitting. Note errors on V, xMgO and xH2O are zero.\n",
    "    mydata = RealData(x, u, sx=[s_P, s_T, s_xMgO, s_xH2O, s_SiO2], sy=s_u)\n",
    "\n",
    "    # Create ODR instance for fitting\n",
    "    myodr = ODR(mydata, VFTH_odr, beta0)\n",
    "\n",
    "    fit = myodr.run()\n",
    "\n",
    "    # Correct covariance matrix from ODR output (this is a bug; see https://github.com/scipy/scipy/issues/6842)\n",
    "    # Note that fit.res_var is the reduced chi squared statistic and is identical to the value calculated\n",
    "    # as from the sum of ((O-C)^2/sigma^2)/DOF\n",
    "    pcov = fit.cov_beta * fit.res_var\n",
    "\n",
    "    # Extract degrees of freedom (DOF) of fit\n",
    "    DOF = len(V) - len(fit.beta)\n",
    "\n",
    "    # Determine 95% confidence interval on the fitted parameters\n",
    "    student_t_interval = stat.interval(0.95, DOF)\n",
    "    ci_95 = student_t_interval[1] * fit.sd_beta\n",
    "\n",
    "    # Determine volume r\n",
    "    u_res = u - VFTH(fit.beta, x)\n",
    "\n",
    "    return P, s_P, u, T, xH2O, xMgO, fit.beta, ci_95, fit.res_var, u_res, pcov, DOF, fit.sum_square, source, ifixb"
   ]
  },
  {
   "cell_type": "code",
   "execution_count": 22,
   "metadata": {
    "init_cell": true,
    "scrolled": false
   },
   "outputs": [
    {
     "data": {
      "application/vnd.jupyter.widget-view+json": {
       "model_id": "08c7ab7569014b0cbe17dc5327e523a9",
       "version_major": 2,
       "version_minor": 0
      },
      "text/plain": [
       "HBox(children=(HTMLMath(value='$n$', layout=Layout(width='120px')),))"
      ]
     },
     "metadata": {},
     "output_type": "display_data"
    },
    {
     "data": {
      "application/vnd.jupyter.widget-view+json": {
       "model_id": "4bf7fc692af5469b9a23c793cfae2c7c",
       "version_major": 2,
       "version_minor": 0
      },
      "text/plain": [
       "HBox(children=(Text(value='', disabled=True, layout=Layout(width='120px')),))"
      ]
     },
     "metadata": {},
     "output_type": "display_data"
    },
    {
     "data": {
      "application/vnd.jupyter.widget-view+json": {
       "model_id": "d9ea5b4890b0425d9577bf4066381ac7",
       "version_major": 2,
       "version_minor": 0
      },
      "text/plain": [
       "HBox(children=(HTMLMath(value='$a_{MgO}$', layout=Layout(width='120px')), HTMLMath(value='$b_{MgO}$', layout=L…"
      ]
     },
     "metadata": {},
     "output_type": "display_data"
    },
    {
     "data": {
      "application/vnd.jupyter.widget-view+json": {
       "model_id": "87846ee2973c4123bca8ec4695a97d31",
       "version_major": 2,
       "version_minor": 0
      },
      "text/plain": [
       "HBox(children=(Text(value='', disabled=True, layout=Layout(width='120px')), Text(value='', disabled=True, layo…"
      ]
     },
     "metadata": {},
     "output_type": "display_data"
    },
    {
     "data": {
      "application/vnd.jupyter.widget-view+json": {
       "model_id": "a422c91c8bfc437caabe8df0a4211b20",
       "version_major": 2,
       "version_minor": 0
      },
      "text/plain": [
       "HBox(children=(HTMLMath(value='$a_{SiO2}$', layout=Layout(width='120px')), HTMLMath(value='$b_{SiO2}$', layout…"
      ]
     },
     "metadata": {},
     "output_type": "display_data"
    },
    {
     "data": {
      "application/vnd.jupyter.widget-view+json": {
       "model_id": "aef6737b0d284aae9d56afd422af466a",
       "version_major": 2,
       "version_minor": 0
      },
      "text/plain": [
       "HBox(children=(Text(value='', disabled=True, layout=Layout(width='120px')), Text(value='', disabled=True, layo…"
      ]
     },
     "metadata": {},
     "output_type": "display_data"
    },
    {
     "data": {
      "application/vnd.jupyter.widget-view+json": {
       "model_id": "8de81a88af1845f3a12057b313f383da",
       "version_major": 2,
       "version_minor": 0
      },
      "text/plain": [
       "HBox(children=(HTMLMath(value='$a_{H2O}$', layout=Layout(width='120px')), HTMLMath(value='$b_{H2O}$', layout=L…"
      ]
     },
     "metadata": {},
     "output_type": "display_data"
    },
    {
     "data": {
      "application/vnd.jupyter.widget-view+json": {
       "model_id": "b2b2f1cc7aab42258215185234b51a96",
       "version_major": 2,
       "version_minor": 0
      },
      "text/plain": [
       "HBox(children=(Text(value='', disabled=True, layout=Layout(width='120px')), Text(value='', disabled=True, layo…"
      ]
     },
     "metadata": {},
     "output_type": "display_data"
    },
    {
     "data": {
      "application/vnd.jupyter.widget-view+json": {
       "model_id": "260f473acbad44d8accc6a0f332e739c",
       "version_major": 2,
       "version_minor": 0
      },
      "text/plain": [
       "HBox(children=(HTMLMath(value='Residual (%)', layout=Layout(width='120px')), HTMLMath(value='DOF', layout=Layo…"
      ]
     },
     "metadata": {},
     "output_type": "display_data"
    },
    {
     "data": {
      "application/vnd.jupyter.widget-view+json": {
       "model_id": "d0b074f7d84240cf91d8354693c63f18",
       "version_major": 2,
       "version_minor": 0
      },
      "text/plain": [
       "HBox(children=(Text(value='', disabled=True, layout=Layout(width='120px')), Text(value='', disabled=True, layo…"
      ]
     },
     "metadata": {},
     "output_type": "display_data"
    }
   ],
   "source": [
    "# Create lists of names for textboxes\n",
    "gx1 = [\n",
    "    \"f0\", \"f1\", \"f2\", \"f3\", \"f4\", \"f5\", \"f6\", \"f7\", \"f8\", \"f9\", \"f10\", \"f11\",\n",
    "    \"f12\", \"f13\", \"f14\", \"f15\", \"f16\", \"f17\", \"f18\"\n",
    "]\n",
    "\n",
    "# Draw output boxes\n",
    "display_boxes([], gx1, 3, 5, 1, 1)\n",
    "\n",
    "# Perform ODR ternary fit\n",
    "P, s_P, u, T, xH2O, xMgO, u_beta, u_errors, u_chi, u_r, u_pcov, u_dof, ss, source, u_ifixb = perform_PVTu_fit(\n",
    "    '', 3)\n",
    "\n",
    "# Populate box row 1 with compositional information\n",
    "gx1[0].value = str(len(P))\n",
    "\n",
    "# Populate box rows 2-4 with refined parameters and their 95% confidence intervals (2SD)\n",
    "for i in range(1, len(u_beta) + 1):\n",
    "    gx1[i].value = str(np.round(u_beta[i - 1], 2)) + '±' + str(\n",
    "        np.round(u_errors[i - 1], 2))\n",
    "\n",
    "# Populate box row 5 with fit statistics\n",
    "gx1[16].value = str(np.round(np.mean((np.abs(u_r) / u) * 100), 2))\n",
    "gx1[17].value = str(np.round(u_dof, 3))\n",
    "gx1[18].value = str(np.round(u_chi, 3))"
   ]
  },
  {
   "cell_type": "markdown",
   "metadata": {},
   "source": [
    "<a id=\"widget_5\"></a>\n",
    "\n",
    "<div class=\"alert alert-block alert-info\">\n",
    "    \n",
    "#### Widget 5: View a single composition within the ternary\n",
    "<br />\n",
    "</div>"
   ]
  },
  {
   "cell_type": "code",
   "execution_count": 23,
   "metadata": {
    "init_cell": true,
    "scrolled": true
   },
   "outputs": [],
   "source": [
    "def PuT_plot(P, u, s_u, T, xH2O, xMgO, xSiO2, r, s_P, name, source, p, pcov,\n",
    "             dof, ifixb):\n",
    "    \"\"\"Handles plotting of data, isotherms, confidence bands and r.\n",
    "    \n",
    "    Parameters\n",
    "    ----------\n",
    "    P         : numpy array of float\n",
    "                pressures\n",
    "    V         : numpy array of float\n",
    "                volumes\n",
    "    T         : numpy array of float\n",
    "                temperatures\n",
    "    xH2O      : numpy array of float\n",
    "                molar proportion of water\n",
    "    xMgO      : numpy array of float\n",
    "                molar proportion of water\n",
    "    r : numpy array of float\n",
    "                volume r\n",
    "    s_P   : numpy array of float\n",
    "                errors in P\n",
    "    name      : string\n",
    "                composition code of current plot\n",
    "    source    : numpy array of string\n",
    "                list of data sources\n",
    "    pcov      : n x n numpy array of float\n",
    "                covariance matrix\n",
    "    DOF       : int\n",
    "                degrees of freedom of the fit\n",
    "    ifixb     : array of int, same length as fit.beta\n",
    "                fitting flags, 0 - do not fit | 1 - allow to vary\n",
    "                \n",
    "    Returns\n",
    "    -------\n",
    "    fig : figure object\n",
    "    \"\"\"\n",
    "\n",
    "    # Calculate isotherms and confidence bands, plot results\n",
    "    P_cut = max(P) + min(P)\n",
    "    P_range = np.linspace(0, max(P) + min(P), 500)\n",
    "    i_xH2O = np.linspace(xH2O[0], xH2O[0], len(P_range))\n",
    "    i_xMgO = np.linspace(xMgO[0], xMgO[0], len(P_range))\n",
    "    i_xSiO2 = np.linspace(xSiO2[0], xSiO2[0], len(P_range))\n",
    "    i_T = np.ones(len(P_range))\n",
    "    iso_list = np.unique(np.round(T, -2))\n",
    "    iso = [[1e-10 for j in range(len(P_range))] for i in range(len(iso_list))]\n",
    "    ci = [[1e-10 for j in range(len(P_range))] for i in range(len(iso_list))]\n",
    "    i_P = [P_range for i in range(len(iso_list))]\n",
    "    for i, item in enumerate(tqdm(iso_list, desc='Processing', leave=False)):\n",
    "        if item > 4000:\n",
    "            i_P[i] = np.linspace(2, max(P) + min(P), 500)\n",
    "        iso[i] = VFTH(p, [i_P[i], i_T * item, i_xMgO, i_xSiO2, i_xH2O])\n",
    "        ci[i] = cbands(VFTH, p, iso[i],\n",
    "                       np.array([i_P[i], i_T * item, i_xMgO, i_xSiO2, i_xH2O]),\n",
    "                       pcov, dof, ifixb)\n",
    "\n",
    "    fig = plt.figure(num=None,\n",
    "                     figsize=(11 * .66, 11 * .66),\n",
    "                     dpi=80,\n",
    "                     facecolor='w',\n",
    "                     edgecolor='w')\n",
    "\n",
    "    # Set up main plot\n",
    "    vmin, vmax, scalarMap = custom_colors(T, [1800, 3000])\n",
    "    errorbar_color = np.array([(scalarMap.to_rgba(i)) for i in T])\n",
    "    ax1 = fig.add_axes((.195, .3, .98, .66))\n",
    "    ax1.set_xticklabels([])\n",
    "    plt.ylabel('Viscosity, $\\u03BD$ $(Pa.S)$', fontsize=20)\n",
    "    ax1.annotate(name, [0.2, 0.9], xycoords='axes fraction', fontsize=20)\n",
    "    plt.yscale('log')\n",
    "    ax1.set_ylim(\n",
    "        10**np.floor(np.log10(np.min([np.min(iso),\n",
    "                                      np.min(u - s_u)]))),\n",
    "        10**np.ceil(np.log10(np.max([np.max(iso), np.max(u + s_u)]))))\n",
    "    ax1.set_xlim(np.min(i_P) - np.min(P), np.max(i_P) + np.min(P))\n",
    "    plt.minorticks_off()\n",
    "\n",
    "    # Set up residual plot\n",
    "    ax2 = fig.add_axes((.195, 0.05, .98, .2))\n",
    "    ax2.axhline(linestyle='--', color='k')\n",
    "    plt.xlabel('Pressure, $p$ $(GPa)$', fontsize=20)\n",
    "    plt.ylabel('Residuals', fontsize=20)\n",
    "    ax2.yaxis.set_major_formatter(mpl.ticker.FormatStrFormatter('%.3f'))\n",
    "    ax2.set_ylim(\n",
    "        min(list(r - s_u) + list(ci[0])) * 1.1,\n",
    "        max(list(r + s_u) + list(-ci[0])) * 1.1)\n",
    "    ax2.set_xlim(np.min(i_P) - np.min(P), np.max(i_P) + np.min(P))\n",
    "\n",
    "    # Plot data and residuals\n",
    "    source_set = list(set(source))\n",
    "    marker_list = itertools.cycle(('o', 's'))\n",
    "    for i, item in enumerate(source_set):\n",
    "        marker = next(marker_list)\n",
    "        ax1.scatter(P[source == source_set[i]],\n",
    "                    u[source == source_set[i]],\n",
    "                    marker=marker,\n",
    "                    label=item,\n",
    "                    color=scalarMap.to_rgba(T[source == source_set[i]]))\n",
    "        ax2.scatter(P[source == source_set[i]],\n",
    "                    r[source == source_set[i]],\n",
    "                    marker=marker,\n",
    "                    color=scalarMap.to_rgba(T[source == source_set[i]]))\n",
    "        for x, y, e, color in zip(P[source == source_set[i]],\n",
    "                                  u[source == source_set[i]],\n",
    "                                  s_u[source == source_set[i]],\n",
    "                                  errorbar_color):\n",
    "            ax1.errorbar(x, y, e, ls='none', zorder=0, color=color)\n",
    "        for x, y, e, color in zip(P[source == source_set[i]],\n",
    "                                  r[source == source_set[i]],\n",
    "                                  s_u[source == source_set[i]],\n",
    "                                  errorbar_color):\n",
    "            ax2.errorbar(x, y, e, ls='none', zorder=0, color=color)\n",
    "\n",
    "    # Plot isotherms and confidence bands\n",
    "    for i in range(len(iso)):\n",
    "        ax1.plot(i_P[i], iso[i], color=scalarMap.to_rgba(iso_list[i]))\n",
    "        ax1.fill_between(i_P[i],\n",
    "                         iso[i] + ci[i],\n",
    "                         iso[i] - ci[i],\n",
    "                         color=scalarMap.to_rgba(iso_list[i]),\n",
    "                         alpha=0.3,\n",
    "                         linewidth=0)\n",
    "        ax2.fill_between(i_P[i],\n",
    "                         ci[i],\n",
    "                         -ci[i],\n",
    "                         color=scalarMap.to_rgba(iso_list[i]),\n",
    "                         alpha=0.3,\n",
    "                         linewidth=0,\n",
    "                         zorder=i)\n",
    "\n",
    "    # Plot colorbar\n",
    "    ax3 = fig.add_axes((.83, .88, .3, .05))\n",
    "    cbar = fig.colorbar(scalarMap, cax=ax3, orientation=\"horizontal\")\n",
    "    cbar.set_label('$T/K$', fontsize=20, labelpad=-15)\n",
    "    cbar.set_ticks([vmin, vmax])\n",
    "\n",
    "    return fig"
   ]
  },
  {
   "cell_type": "code",
   "execution_count": 24,
   "metadata": {
    "init_cell": true,
    "scrolled": false
   },
   "outputs": [
    {
     "data": {
      "application/vnd.jupyter.widget-view+json": {
       "model_id": "5ad4462f0c444feea7c1a3e5ad2e7cca",
       "version_major": 2,
       "version_minor": 0
      },
      "text/plain": [
       "HBox(children=(HTMLMath(value='$Composition$', layout=Layout(width='120px')), HTMLMath(value='$H_2O$ $(mol\\\\ \\…"
      ]
     },
     "metadata": {},
     "output_type": "display_data"
    },
    {
     "data": {
      "application/vnd.jupyter.widget-view+json": {
       "model_id": "e49b1fa214d24acd8f655c837c92f68b",
       "version_major": 2,
       "version_minor": 0
      },
      "text/plain": [
       "HBox(children=(Dropdown(index=1, layout=Layout(width='120px'), options=('En', 'EnH25', 'EnH50', 'EnH60', 'MS',…"
      ]
     },
     "metadata": {},
     "output_type": "display_data"
    },
    {
     "data": {
      "application/vnd.jupyter.widget-view+json": {
       "model_id": "61f83901e3ac4272b05c4f64d3ce0267",
       "version_major": 2,
       "version_minor": 0
      },
      "text/plain": [
       "Output()"
      ]
     },
     "metadata": {},
     "output_type": "display_data"
    },
    {
     "data": {
      "application/vnd.jupyter.widget-view+json": {
       "model_id": "",
       "version_major": 2,
       "version_minor": 0
      },
      "text/plain": [
       "Processing:   0%|          | 0/1 [00:00<?, ?it/s]"
      ]
     },
     "metadata": {},
     "output_type": "display_data"
    }
   ],
   "source": [
    "def get_sub_u(change):\n",
    "    \"\"\"Callback function called when dropdown menu sub_u is changed. Executes fit, calculates isotherms\n",
    "    and confidence bands and plots the results.\n",
    "    \n",
    "    Parameters\n",
    "    ----------\n",
    "    change : object containing a type key (i.e. 'change') and a name key (i.e. 'En'), corresponding \n",
    "             respectively to the type of notification and the name of the attribute that triggered \n",
    "             the notification.\n",
    "             \n",
    "    Returns\n",
    "    -------\n",
    "    NONE\n",
    "    \"\"\"\n",
    "    if change['type'] == 'change' and change['name'] == 'value':\n",
    "\n",
    "        # Populate box row 1 with compositional information\n",
    "        for i in range(4):\n",
    "            hx1[i].value = str(\n",
    "                compositions.iloc[compositions.index.get_loc(change['new']),\n",
    "                                  4 + i])\n",
    "            \n",
    "        # Perform ODR ternary fit\n",
    "        P, s_P, u, T, xH2O, xMgO, u_beta, u_errors, u_chi, u_r, u_pcov, u_dof, ss, source, u_ifixb = perform_PVTu_fit(\n",
    "            '', 3)\n",
    "        \n",
    "        # Get data for current composition\n",
    "        P, s_P, V, s_V, T, s_T, xMgO, s_xMgO, xSiO2, s_SiO2, xH2O, s_xH2O, u, s_u, source = extract_data(\n",
    "            change['new'], 4)\n",
    "        \n",
    "        # Calculate r\n",
    "        r = u - VFTH(u_beta, [P,T,xMgO,xSiO2,xH2O])\n",
    "        hx1[4].value = str(np.round(np.max((np.abs(r) / u) * 100), 2))\n",
    "\n",
    "        ifixb = np.full_like(u_beta,1)\n",
    "        fig4 = PuT_plot(P, u, s_u, T, xH2O, xMgO, xSiO2, r, s_P, change['new'],\n",
    "                        source, u_beta, u_pcov, u_dof, ifixb)\n",
    "\n",
    "        with out5:\n",
    "            clear_output(wait=True)\n",
    "            plt.show(fig4)\n",
    "\n",
    "\n",
    "# Set up interactive dropdown menu\n",
    "sub_u = w.Dropdown(options=compositions.index.tolist(),\n",
    "                    layout=w.Layout(width='120px'))\n",
    "sub_u.value = sub_u.options[1]\n",
    "sub_u.observe(get_sub_u)\n",
    "\n",
    "# Create lists of box names\n",
    "hx1 = [\"f1\", \"f2\", \"f3\", \"f4\", \"f5\"]\n",
    "\n",
    "# Create output text boxes\n",
    "for i in range(5):\n",
    "    hx1[i] = w.Text(disabled=True, Value=[], layout=w.Layout(width='120px'))\n",
    "\n",
    "# Create output widget for plotting figure\n",
    "out5 = w.Output()\n",
    "\n",
    "# Draw everything\n",
    "display(\n",
    "    w.HBox([\n",
    "        w.HTMLMath(titles_PVT[i], layout=w.Layout(width=\"120px\"))\n",
    "        for i in range(0, 5)\n",
    "    ]))\n",
    "display(w.HBox([sub_u, hx1[0], hx1[1], hx1[2], hx1[3]]))\n",
    "display(out5)\n",
    "\n",
    "# Trigger callback on cell initialisation\n",
    "sub_u.value = sub_u.options[0]"
   ]
  },
  {
   "cell_type": "markdown",
   "metadata": {},
   "source": [
    "<hr style=\"height:10px;border-width:0;color:gray;background-color:gray\">\n",
    "\n",
    "### Summary: Density and Viscosity of hydrous melts in the mantle"
   ]
  },
  {
   "cell_type": "markdown",
   "metadata": {},
   "source": [
    "<div class=\"alert alert-block alert-info\">\n",
    "    \n",
    "#### Widget 6: Density and viscosity across the ternary\n",
    "<br />\n",
    "</div>"
   ]
  },
  {
   "cell_type": "code",
   "execution_count": 25,
   "metadata": {
    "init_cell": true,
    "scrolled": false
   },
   "outputs": [],
   "source": [
    "def rho_calc(V, xMgO, xSiO2, xH2O, Fe_Mg):\n",
    "    \n",
    "    oxygens = xH2O + xMgO + (xSiO2 * 2)\n",
    "\n",
    "    xMgO_n3 = xMgO * (3 / oxygens)\n",
    "    xSiO2_n3 = xSiO2 * (3 / oxygens)\n",
    "    xH2O_n3 = xH2O * (3 / oxygens)\n",
    "    \n",
    "    # Molar masses of MgO, SiO2, H2O and FeO\n",
    "    mm = np.array([40.3044,60.08,18.01528,71.844])\n",
    "    \n",
    "    X = np.array([xMgO_n3*(1-Fe_Mg),xSiO2_n3,xH2O_n3,xMgO_n3*Fe_Mg])\n",
    "\n",
    "    M = np.sum(mm*X)\n",
    "\n",
    "    return M/V"
   ]
  },
  {
   "cell_type": "code",
   "execution_count": 26,
   "metadata": {
    "init_cell": true,
    "scrolled": false
   },
   "outputs": [],
   "source": [
    "def ci_flip(ci_P,P,T,V,xMgO,xH2O):\n",
    "    \n",
    "    MGD_object = bm.eos.mie_grueneisen_debye.MGDBase()\n",
    "    \n",
    "    P_plus = P - ci_P\n",
    "    P_minus = np.where(P + ci_P < 0, P, P + ci_P)\n",
    "        \n",
    "    try:\n",
    "        V_minus = MGD_object.volume(P_plus * 1e9, T, write_Burnman_dict(v_beta,[xMgO,xH2O])) * 1e6\n",
    "    except:\n",
    "        V_minus = np.nan\n",
    "    \n",
    "    try:\n",
    "        V_plus = MGD_object.volume(P_minus * 1e9, T, write_Burnman_dict(v_beta,[xMgO,xH2O])) * 1e6\n",
    "    except:\n",
    "        V_plus = np.nan\n",
    "            \n",
    "    ci_V_minus = V - V_minus\n",
    "    ci_V_plus = np.where(V_plus - V == 0, np.nan, V_plus - V)\n",
    "        \n",
    "    # Mean confidence interval in V\n",
    "    return np.nanmean([ci_V_minus, ci_V_plus], axis=0)"
   ]
  },
  {
   "cell_type": "code",
   "execution_count": 27,
   "metadata": {
    "init_cell": true,
    "scrolled": false
   },
   "outputs": [],
   "source": [
    "def projector(bulk,liquid):\n",
    "    \n",
    "    # Determine which component is larger in the liquid than the bulk\n",
    "    origin_component = np.argmax(liquid-bulk)\n",
    "    \n",
    "    multiplier = liquid / liquid[origin_component]\n",
    "    \n",
    "    subtract = multiplier * bulk[origin_component]\n",
    "    \n",
    "    residue = bulk-subtract\n",
    "    \n",
    "    residue = residue / np.sum(residue)\n",
    "    \n",
    "    if residue[3] < 0:\n",
    "        residue[0] = residue[0]+residue[3]\n",
    "        \n",
    "    return residue"
   ]
  },
  {
   "cell_type": "code",
   "execution_count": 28,
   "metadata": {
    "init_cell": true,
    "scrolled": false
   },
   "outputs": [],
   "source": [
    "def residue_density(P, T, xMgO, xSiO2):\n",
    "\n",
    "    # List of possible minerals along the MS join\n",
    "    minerals = {\n",
    "        \"for\": bm.minerals.HP_2011_ds62.fo,\n",
    "        \"wad\": bm.minerals.HP_2011_ds62.mwd,\n",
    "        \"rgw\": bm.minerals.HP_2011_ds62.mrw,\n",
    "        \"bdg\": bm.minerals.HP_2011_ds62.mpv,\n",
    "        \"per\": bm.minerals.HP_2011_ds62.per,\n",
    "        \"oen\": bm.minerals.HP_2011_ds62.en,\n",
    "        \"pen\": bm.minerals.HP_2011_ds62.pren,\n",
    "        \"cen\": bm.minerals.HP_2011_ds62.cen,\n",
    "        \"hen\": bm.minerals.HP_2011_ds62.hen,\n",
    "        \"akm\": bm.minerals.HP_2011_ds62.mak,\n",
    "        \"maj\": bm.minerals.HP_2011_ds62.maj,\n",
    "        \"qtz\": bm.minerals.HP_2011_ds62.q,\n",
    "        \"tri\": bm.minerals.HP_2011_ds62.trd,\n",
    "        \"cri\": bm.minerals.HP_2011_ds62.crst,\n",
    "        \"coe\": bm.minerals.HP_2011_ds62.coe,\n",
    "        \"sti\": bm.minerals.HP_2011_ds62.stv\n",
    "    }\n",
    "\n",
    "    # Determine the g free energy of all minerals at P and T\n",
    "    g, rho = [dict.fromkeys(minerals) for i in range(2)]\n",
    "    for key in minerals:\n",
    "        phase = minerals[key]()\n",
    "        phase.set_state(P * 1e9, T)\n",
    "        g[key] = phase.molar_gibbs\n",
    "        rho[key] = phase.density\n",
    "\n",
    "    # Correct minerals to MgSiO3 stoichiometry\n",
    "    g[\"maj\"] = g[\"maj\"] / 4\n",
    "    g[\"oen\"] = g[\"oen\"] / 2\n",
    "    g[\"pen\"] = g[\"pen\"] / 2\n",
    "    g[\"cen\"] = g[\"cen\"] / 2\n",
    "    g[\"hen\"] = g[\"hen\"] / 2\n",
    "    \n",
    "    # Calculate proportions of MgO, Mg2SiO4, MgSiO3 and SiO2\n",
    "    mode = np.zeros(4)\n",
    "\n",
    "    # eliminate Mg2SiO4 if unstable\n",
    "    if g[\"rgw\"] > g[\"bdg\"] + g[\"per\"]:\n",
    "        if xMgO >= 0.5:\n",
    "            mode[0] = (xMgO - 0.5) / 0.5\n",
    "            mode[2] = 1 - mode[0]\n",
    "        else:\n",
    "            mode[2] = xMgO / 0.5\n",
    "            mode[3] = 1 - mode[2]\n",
    "            \n",
    "    # eliminate MgSiO3 if unstable\n",
    "    elif ((g[\"wad\"] + g[\"sti\"])/2 < min(g[\"hen\"], g[\"maj\"], g[\"akm\"])) or (\n",
    "            (g[\"rgw\"] + g[\"sti\"])/2 < min(g[\"hen\"], g[\"akm\"], g[\"bdg\"])):\n",
    "        if xMgO >= 0.66:\n",
    "            mode[0] = (xMgO - 0.66) / 0.34\n",
    "            mode[1] = 1 - mode[0]\n",
    "        else:\n",
    "            mode[1] = xMgO / 0.66\n",
    "            mode[3] = 1 - mode[1]\n",
    "    \n",
    "    # if all four stoichiometries are stable\n",
    "    else: \n",
    "        if xMgO >= 0.66:\n",
    "            mode[0] = (xMgO - 0.66) / 0.34\n",
    "            mode[1] = 1 - mode[0]\n",
    "        elif (xMgO < 0.66) and (xMgO >= 0.5):\n",
    "            mode[1] = (xMgO - 0.5) / 0.16\n",
    "            mode[2] = 1 - mode[1]\n",
    "        else:\n",
    "            mode[2] = xMgO / 0.5\n",
    "            mode[3] = 1 - mode[2]\n",
    "\n",
    "    # Determine the stable phase of Mg2SiO4 at given P-T conditions\n",
    "    Mg2SiO4 = min(dict((k, g[k]) for k in ('for', 'wad', 'rgw')), key=g.get)\n",
    "\n",
    "    # Determine the stable phase of MgSiO3 at given P-T conditions\n",
    "    MgSiO3 = min(dict((k,g[k]) for k in ('oen','pen','cen','hen','akm','maj','bdg')), key=g.get)\n",
    "\n",
    "    # Determine the stable phase of SiO2 at given P-T conditions\n",
    "    SiO2 = min(dict((k,g[k]) for k in ('qtz','tri','cri','coe','sti')), key=g.get)\n",
    "    \n",
    "    # Create array containing stable assemblage\n",
    "    assemblage = np.where(mode == 0., ['-','-','-','-'], ['per',Mg2SiO4,MgSiO3,SiO2])\n",
    "    \n",
    "    # Density of assemblage\n",
    "    rho_assemblage = np.sum(mode * [rho['per'], rho[Mg2SiO4], rho[MgSiO3], rho[SiO2]]) / 1000\n",
    "    \n",
    "    mode = np.delete(mode, np.argwhere(mode==0))\n",
    "    assemblage = np.delete(assemblage,np.argwhere(assemblage=='-'))\n",
    "        \n",
    "    return mode, assemblage, rho_assemblage"
   ]
  },
  {
   "cell_type": "code",
   "execution_count": 29,
   "metadata": {
    "init_cell": true,
    "scrolled": false
   },
   "outputs": [
    {
     "data": {
      "application/vnd.jupyter.widget-view+json": {
       "model_id": "7390aec9a4f3407e8f51b6a31722ef98",
       "version_major": 2,
       "version_minor": 0
      },
      "text/plain": [
       "HTMLMath(value='<b>Conditions</b>', layout=Layout(margin='2px 0px 0px 90px'))"
      ]
     },
     "metadata": {},
     "output_type": "display_data"
    },
    {
     "data": {
      "application/vnd.jupyter.widget-view+json": {
       "model_id": "a17d20db3d334e56a76ad6c0308f708b",
       "version_major": 2,
       "version_minor": 0
      },
      "text/plain": [
       "VBox(children=(FloatSlider(value=1.0, continuous_update=False, description='$P (GPa):$', layout=Layout(align_i…"
      ]
     },
     "metadata": {},
     "output_type": "display_data"
    },
    {
     "data": {
      "application/vnd.jupyter.widget-view+json": {
       "model_id": "11793da1c8114e6593d8325b4381ded5",
       "version_major": 2,
       "version_minor": 0
      },
      "text/plain": [
       "HBox(children=(VBox(children=(HTMLMath(value='<b>Geotherm</b>', layout=Layout(margin='2px 0px 0px 90px')), Che…"
      ]
     },
     "metadata": {},
     "output_type": "display_data"
    },
    {
     "data": {
      "application/vnd.jupyter.widget-view+json": {
       "model_id": "54bf1553e2384b6fb851af3d552fd19c",
       "version_major": 2,
       "version_minor": 0
      },
      "text/plain": [
       "HTMLMath(value='<b>Bulk composition</b>', layout=Layout(margin='2px 0px 0px 90px'))"
      ]
     },
     "metadata": {},
     "output_type": "display_data"
    },
    {
     "data": {
      "application/vnd.jupyter.widget-view+json": {
       "model_id": "4207e6c575cf4654b4b7e777ad9fb72f",
       "version_major": 2,
       "version_minor": 0
      },
      "text/plain": [
       "VBox(children=(HBox(children=(FloatSlider(value=0.11, continuous_update=False, description='$Fe\\\\#:$', layout=…"
      ]
     },
     "metadata": {},
     "output_type": "display_data"
    },
    {
     "data": {
      "application/vnd.jupyter.widget-view+json": {
       "model_id": "6ca9d7d8883e469ab4c5d788e8473c9e",
       "version_major": 2,
       "version_minor": 0
      },
      "text/plain": [
       "HTMLMath(value='<b>Liquid composition</b>', layout=Layout(margin='2px 0px 0px 90px'))"
      ]
     },
     "metadata": {},
     "output_type": "display_data"
    },
    {
     "data": {
      "application/vnd.jupyter.widget-view+json": {
       "model_id": "ee977fc8396d4ab99c004cf509b3a514",
       "version_major": 2,
       "version_minor": 0
      },
      "text/plain": [
       "VBox(children=(HBox(children=(FloatSlider(value=0.0, continuous_update=False, description='$Fe\\\\#:$', layout=L…"
      ]
     },
     "metadata": {},
     "output_type": "display_data"
    },
    {
     "data": {
      "application/vnd.jupyter.widget-view+json": {
       "model_id": "e25c68441a984693adc9d2a146e650ee",
       "version_major": 2,
       "version_minor": 0
      },
      "text/plain": [
       "HTMLMath(value='<b>Residue composition</b>', layout=Layout(margin='2px 0px 0px 90px'))"
      ]
     },
     "metadata": {},
     "output_type": "display_data"
    },
    {
     "data": {
      "application/vnd.jupyter.widget-view+json": {
       "model_id": "0c2a426756b24c5eb7209691dc58b07a",
       "version_major": 2,
       "version_minor": 0
      },
      "text/plain": [
       "VBox(children=(HBox(children=(BoundedFloatText(value=0.0, description='$MgO:$', disabled=True, layout=Layout(w…"
      ]
     },
     "metadata": {},
     "output_type": "display_data"
    },
    {
     "data": {
      "application/vnd.jupyter.widget-view+json": {
       "model_id": "9a79a95af58a42638cd63ac980a4aa89",
       "version_major": 2,
       "version_minor": 0
      },
      "text/plain": [
       "Button(button_style='success', description='Calculate', icon='check', layout=Layout(margin='2px 0px 0px 90px',…"
      ]
     },
     "metadata": {},
     "output_type": "display_data"
    },
    {
     "data": {
      "application/vnd.jupyter.widget-view+json": {
       "model_id": "3c3c1d2a251f40e5b7ac2bb6bb57a03d",
       "version_major": 2,
       "version_minor": 0
      },
      "text/plain": [
       "Output()"
      ]
     },
     "metadata": {},
     "output_type": "display_data"
    }
   ],
   "source": [
    "def summary_plot(b):\n",
    "\n",
    "    # Recalculate MSHF bulk composition based on value of Fe/Mg slider\n",
    "    M = box1.value\n",
    "    F = box4.value\n",
    "    box4.value = np.round(s3.value * (M+F),2)\n",
    "    box1.value = np.round((1-s3.value) * (M+F),2)\n",
    "    total = box1.value+box2.value+box3.value\n",
    "    box1.value = np.round((box1.value/total)*(1-box4.value),2)\n",
    "    box2.value = np.round((box2.value/total)*(1-box4.value),2)\n",
    "    box3.value = np.round((box3.value/total)*(1-box4.value),2)\n",
    "\n",
    "    # Recalculate MSHF liquid composition based on value of Fe/Mg slider\n",
    "    M = box5.value\n",
    "    F = box8.value\n",
    "    box8.value = np.round(s4.value * (M+F),2)\n",
    "    box5.value = np.round((1-s4.value) * (M+F),2)\n",
    "    total = box5.value+box6.value+box7.value\n",
    "    box5.value = np.round((box5.value/total)*(1-box8.value),2)\n",
    "    box6.value = np.round((box6.value/total)*(1-box8.value),2)\n",
    "    box7.value = np.round((box7.value/total)*(1-box8.value),2)\n",
    "\n",
    "    # Create ternary plot\n",
    "    fig = plt.figure(figsize=(35, 0.866 * 35))\n",
    "    fig.subplots_adjust(left=0.075, right=0.85, wspace=0.3)\n",
    "\n",
    "    # Create arrays of ternary co-ordinates\n",
    "    t, l, r = get_triangular_grid(11, 1e-6)\n",
    "\n",
    "    # Calculate densities and viscosities at all points in the ternary\n",
    "    MGD_object = bm.eos.mie_grueneisen_debye.MGDBase()\n",
    "    rho, u = [np.zeros(len(t)) for i in range(2)]\n",
    "    for i in range(len(t)):\n",
    "\n",
    "        params = write_Burnman_dict(np.reshape(v_beta, (4, 6)), [l[i], t[i]])\n",
    "        try:\n",
    "            V = MGD_object.volume(s1.value * 1e9, s2.value, params) * 1e6\n",
    "        except:\n",
    "            V = np.nan\n",
    "        rho[i] = rho_calc(V, l[i], r[i], t[i], s4.value)\n",
    "\n",
    "        u[i] = np.log10(VFTH(u_beta, [s1.value, s2.value, l[i], r[i], t[i]]))\n",
    "\n",
    "    # Calculate density, viscosity and associated errors for selected liquid composition\n",
    "    params = write_Burnman_dict(np.reshape(v_beta, (4, 6)),\n",
    "                                [box5.value + box8.value, box7.value])\n",
    "    try:\n",
    "        V = MGD_object.volume(s1.value*1e9, s2.value, params) * 1e6\n",
    "        ci_P = cbands(MGD, v_beta.flatten(), np.array([s1.value]), np.array([[V],[s2.value],[box5.value + box8.value],[box7.value]]), v_pcov, v_dof, v_ifixb.flatten())\n",
    "        ci_V = ci_flip(ci_P,s1.value,s2.value,V,box5.value + box8.value,box7.value)\n",
    "    except:\n",
    "        V = np.nan\n",
    "        ci_P = np.nan\n",
    "        ci_V = np.nan\n",
    "    liquid_rho = rho_calc(V, box5.value + box8.value, box6.value,\n",
    "                                box7.value, s4.value)\n",
    "    liquid_rho_ci = liquid_rho * (ci_V/V)\n",
    "    \n",
    "    liquid_u = VFTH(\n",
    "        u_beta,\n",
    "        [s1.value, s2.value, box5.value + box8.value, box6.value, box7.value])\n",
    "    liquid_u_ci = np.abs(\n",
    "        cbands(\n",
    "            VFTH, u_beta, np.array([liquid_u]),\n",
    "            np.array([\n",
    "                np.array([s1.value]),\n",
    "                np.array([s2.value]),\n",
    "                np.array([box5.value + box8.value]),\n",
    "                np.array([box6.value]),\n",
    "                np.array([box7.value])\n",
    "            ]), u_pcov, u_dof, u_ifixb))\n",
    "\n",
    "    # Create density subplot\n",
    "    ax1 = fig.add_subplot(221, projection='ternary')\n",
    "    ax1.set_title(\"Density $(g/cm^3)$\", pad=100, fontsize=40)\n",
    "    ax1.set_tlabel('$H_2O$', fontsize=30)\n",
    "    ax1.set_llabel('$MgO + FeO$', fontsize=30)\n",
    "    ax1.set_rlabel('$SiO_2$', fontsize=30)\n",
    "    ax1.taxis.set_label_rotation_mode('horizontal')\n",
    "    ax1.laxis.set_label_rotation_mode('horizontal')\n",
    "    ax1.raxis.set_label_rotation_mode('horizontal')\n",
    "    ax1.tick_params(direction='out')\n",
    "    ax1.grid()\n",
    "\n",
    "    # Contour density\n",
    "    levels = np.linspace(min(rho), max(rho), 20)\n",
    "    cs1 = ax1.tricontourf(t, l, r, rho, levels=levels, cmap='viridis_r')\n",
    "\n",
    "    # Calculate density based on chosen seismic model\n",
    "    depth = bm.seismic.PREM().depth(s1.value * 1e9)\n",
    "    if radiobutton1.value == 'PREM':\n",
    "        seismic_rho = bm.seismic.PREM().density(depth) / 1e3\n",
    "    elif radiobutton1.value == 'STW105':\n",
    "        seismic_rho = bm.seismic.STW105().density(depth) / 1e3\n",
    "    elif radiobutton1.value == 'AK135':\n",
    "        seismic_rho = bm.seismic.AK135().density(depth) / 1e3\n",
    "\n",
    "    # Add isopycnal for the chosen seismic model\n",
    "    cseismic = ax1.tricontour(t,\n",
    "                              l,\n",
    "                              r,\n",
    "                              rho,\n",
    "                              levels=[seismic_rho],\n",
    "                              label='Seismic Model Density',\n",
    "                              colors='white')\n",
    "    ax1.clabel(cseismic, fontsize=25, fmt='%1.3f')\n",
    "\n",
    "    # Create density colorbar\n",
    "    cax1 = ax1.inset_axes([1.05, 0.1, 0.05, 0.9], transform=ax1.transAxes)\n",
    "    colorbar1 = fig.colorbar(cs1, cax=cax1)\n",
    "\n",
    "    # Add seismic model density to colorbar\n",
    "    if cax1.get_ylim()[0] == 0:\n",
    "        seismic_rho_pos = (seismic_rho - min(rho)) / (max(rho) - min(rho))\n",
    "    else:\n",
    "        seismic_rho_pos = seismic_rho\n",
    "    cax1.plot([cax1.get_xlim()[0], cax1.get_xlim()[1]],\n",
    "              [seismic_rho_pos, seismic_rho_pos],\n",
    "              'w',\n",
    "              linewidth=3)\n",
    "    cax1.annotate(str(np.round(seismic_rho, 3)),\n",
    "                  xy=(cax1.get_xlim()[0], seismic_rho_pos),\n",
    "                  xytext=(-70, -10),\n",
    "                  textcoords='offset points',\n",
    "                  fontsize=25,\n",
    "                  color='k',\n",
    "                  weight='bold')\n",
    "\n",
    "    # Notify user is seismic model denisty is outside the range\n",
    "    if seismic_rho > max(rho):\n",
    "        ax1.annotate('%s density (%s $g/cm$$^3$) above range' %\n",
    "                     (radiobutton1.value, np.round(seismic_rho, 3)),\n",
    "                     [30, 1700],\n",
    "                     xycoords='figure points',\n",
    "                     fontsize=20)\n",
    "    elif seismic_rho < min(rho):\n",
    "        ax1.annotate('%s density (%s $g/cm$$^3$) below range' %\n",
    "                     (radiobutton1.value, np.round(seismic_rho, 3)),\n",
    "                     [30, 1700],\n",
    "                     xycoords='figure points',\n",
    "                     fontsize=20)\n",
    "\n",
    "    # Create viscosity subplot\n",
    "    ax2 = fig.add_subplot(222, projection='ternary')\n",
    "    ax2.set_title(\"Viscosity $(Pa.S)$\", pad=100, fontsize=40)\n",
    "    ax2.set_tlabel('$H_2O$', fontsize=30)\n",
    "    ax2.set_llabel('$MgO$', fontsize=30)\n",
    "    ax2.set_rlabel('$SiO_2$', fontsize=30)\n",
    "    ax2.taxis.set_label_rotation_mode('horizontal')\n",
    "    ax2.laxis.set_label_rotation_mode('horizontal')\n",
    "    ax2.raxis.set_label_rotation_mode('horizontal')\n",
    "    ax2.tick_params(direction='out')\n",
    "    ax2.grid()\n",
    "\n",
    "    # Make viscosity ternary figure blank outside of data range\n",
    "    if s1.value > 32.6:\n",
    "        u[:] = 0.\n",
    "        liquid_u = np.nan\n",
    "        liquid_u_ci = [np.nan]\n",
    "        levels = [0, 1]\n",
    "        ax2.annotate('FIT UNPHYSICAL ABOVE 25 GPA', [1430, 1050],\n",
    "                     xycoords='figure points',\n",
    "                     fontsize=40)\n",
    "    else:\n",
    "        levels = np.linspace(min(u), max(u), 20)\n",
    "        \n",
    "    # Write denisty and viscosity of selected liquid composition to GUI\n",
    "    box13.value = str(np.round(liquid_rho, 3)) + ' ± ' + str(\n",
    "        np.round(liquid_rho_ci, 3))\n",
    "    box14.value = str(np.round(liquid_u, 5)) + ' ± ' + str(\n",
    "        np.round(liquid_u_ci[0], 5))\n",
    "        \n",
    "    # Contour viscosity\n",
    "    cs2 = ax2.tricontourf(t, l, r, u, levels=levels, cmap='plasma_r')\n",
    "\n",
    "    # Create viscosity colorbar\n",
    "    cax2 = ax2.inset_axes([1.05, 0.1, 0.05, 0.9], transform=ax2.transAxes)\n",
    "    colorbar2 = fig.colorbar(cs2, cax=cax2)\n",
    "    \n",
    "    # Calculate MSF residual composition and write to GUI\n",
    "    residue = projector(np.array([box1.value,box2.value,box3.value,box4.value]),np.array([box5.value,box6.value,box7.value,box8.value]))    \n",
    "    box9.value = str(np.round(residue[0], 2))\n",
    "    box10.value = str(np.round(residue[1], 2))\n",
    "    box11.value = str(np.round(residue[2], 2))\n",
    "    box12.value = str(np.round(residue[3], 2))\n",
    "    \n",
    "    # Calculate the assemblage, mode and density of the residue and write to GUI\n",
    "    mode, assemblage, rho_assemblage = residue_density(s1.value,s2.value,box9.value+box12.value,box10.value)\n",
    "    box15.value = str(np.round(rho_assemblage, 3))\n",
    "    if len(mode) == 1:\n",
    "        box16.value = assemblage[0]\n",
    "    else:\n",
    "        box16.value = str(np.round(mode[0],2))+' '+assemblage[0]+' + '+str(np.round(mode[1],2))+' '+assemblage[1]\n",
    "\n",
    "    # Plot bulk, liquid and residue compositions\n",
    "    ax1.plot([box3.value, box7.value], [box1.value+box4.value, box5.value+box8.value], [box2.value, box6.value],'r-',linewidth=2,zorder=1)\n",
    "    ax2.plot([box3.value, box7.value], [box1.value+box4.value, box5.value+box8.value], [box2.value, box6.value],'r-',linewidth=2,zorder=1)\n",
    "    ax1.plot([box3.value, residue[2]], [box1.value+box4.value, residue[0] + residue[3]], [box2.value, residue[1]],'r--',linewidth=2,zorder=1)\n",
    "    ax2.plot([box3.value, residue[2]], [box1.value+box4.value, residue[0] + residue[3]], [box2.value, residue[1]],'r--',linewidth=2,zorder=1)\n",
    "    ax1.scatter(box3.value,\n",
    "                box1.value + box4.value,\n",
    "                box2.value,\n",
    "                marker=\"D\",\n",
    "                c='white',\n",
    "                s=300,\n",
    "                label='Bulk',\n",
    "                zorder=2)\n",
    "    ax2.scatter(box3.value,\n",
    "                box1.value + box4.value,\n",
    "                box2.value,\n",
    "                marker=\"D\",\n",
    "                c='white',\n",
    "                s=300,\n",
    "                label='Bulk',\n",
    "                zorder=2)\n",
    "    ax1.scatter(box7.value,\n",
    "                box5.value + box8.value,\n",
    "                box6.value,\n",
    "                c='white',\n",
    "                s=300,\n",
    "                edgecolor='red',\n",
    "                linewidth=4,\n",
    "                label='Liquid',\n",
    "                zorder=2)\n",
    "    ax2.scatter(box7.value,\n",
    "                box5.value + box8.value,\n",
    "                box6.value,\n",
    "                c='white',\n",
    "                s=300,\n",
    "                edgecolor='red',\n",
    "                linewidth=4,\n",
    "                label='Liquid',\n",
    "                zorder=2)\n",
    "    ax1.scatter(residue[2],\n",
    "                residue[0] + residue[3],\n",
    "                residue[1],\n",
    "                c='red',\n",
    "                s=400,\n",
    "                edgecolor='red',\n",
    "                label='Resdiue',\n",
    "                zorder=2)\n",
    "    ax2.scatter(residue[2],\n",
    "                residue[0] + residue[3],\n",
    "                residue[1],\n",
    "                c='red',\n",
    "                s=400,\n",
    "                edgecolor='red',\n",
    "                label='Residue',\n",
    "                zorder=2)\n",
    "\n",
    "    # Create legends for both ternary plots\n",
    "    ax1.legend(fontsize=20, frameon=False)\n",
    "    ax2.legend(fontsize=20, frameon=False)\n",
    "\n",
    "    # Calculate pressure versus density for selected seismic model from 0km to the depth at which\n",
    "    # PREM reaches 50 GPa\n",
    "    maxdepth = bm.seismic.PREM().depth(s1.max * 1e9)\n",
    "    if radiobutton1.value == 'PREM':\n",
    "        depths = bm.seismic.PREM().internal_depth_list(mindepth=0,\n",
    "                                                       maxdepth=maxdepth)\n",
    "        pressures, seismic_densities = bm.seismic.PREM().evaluate(\n",
    "            ['pressure', 'density'],\n",
    "            bm.seismic.PREM().internal_depth_list(mindepth=0,\n",
    "                                                  maxdepth=maxdepth))\n",
    "    elif radiobutton1.value == 'STW105':\n",
    "        depths = bm.seismic.STW105().internal_depth_list(mindepth=0,\n",
    "                                                         maxdepth=maxdepth)\n",
    "        pressures, seismic_densities = bm.seismic.STW105().evaluate(\n",
    "            ['pressure', 'density'],\n",
    "            bm.seismic.STW105().internal_depth_list(mindepth=0,\n",
    "                                                    maxdepth=maxdepth))\n",
    "    elif radiobutton1.value == 'AK135':\n",
    "        depths = bm.seismic.AK135().internal_depth_list(mindepth=0,\n",
    "                                                        maxdepth=maxdepth)\n",
    "        pressures, seismic_densities = bm.seismic.AK135().evaluate(\n",
    "            ['pressure', 'density'],\n",
    "            bm.seismic.AK135().internal_depth_list(mindepth=0,\n",
    "                                                   maxdepth=maxdepth))\n",
    "\n",
    "    # Calculate T at each P in array 'pressures' from selected geotherm. If none selected, T is set to\n",
    "    # the value of the T slider at all depths (i.e. isothermal)\n",
    "    T = np.zeros(len(pressures))\n",
    "    for i in range(len(pressures)):\n",
    "        if checkbox1.value == True:\n",
    "            try:\n",
    "                T[i] = bm.geotherm.brown_shankland([np.float(pressures[i])])[0]\n",
    "            except:\n",
    "                T[i] = np.nan\n",
    "        elif checkbox2.value == True:\n",
    "            T[i] = bm.geotherm.anderson([np.float(pressures[i])])[0]\n",
    "        else:\n",
    "            T[i] = s2.value\n",
    "\n",
    "    # Calculate densities and viscosities at every P-T point along the selected geotherm\n",
    "    residual_rho, geotherm_rho, geotherm_rho_ci,geotherm_u, geotherm_u_ci = [\n",
    "        np.zeros(len(pressures)) for i in range(5)\n",
    "    ]\n",
    "    for i in range(len(pressures)):\n",
    "\n",
    "        params = write_Burnman_dict(np.reshape(v_beta, (4, 6)),\n",
    "                                    [box5.value + box8.value, box7.value])\n",
    "        try:\n",
    "            V = MGD_object.volume(pressures[i], T[i], params) * 1e6\n",
    "            ci_P = cbands(MGD, v_beta.flatten(), np.array([pressures[i]/1e9]), np.array([[V],[T[i]],[box5.value + box8.value],[box7.value]]), v_pcov, v_dof, v_ifixb.flatten())\n",
    "            ci_V = ci_flip(ci_P,pressures[i]/1e9,T[i],V,box5.value + box8.value,box7.value)\n",
    "        except:\n",
    "            V = np.nan\n",
    "            ci_P = np.nan\n",
    "            ci_V = np.nan\n",
    "        geotherm_rho[i] = rho_calc(V, box5.value + box8.value, box6.value,\n",
    "                                   box7.value, s4.value)\n",
    "        geotherm_rho_ci[i] = geotherm_rho[i] * (ci_V/V)\n",
    "\n",
    "        geotherm_u[i] = VFTH(u_beta, [\n",
    "            pressures[i] / 1e9, T[i], box5.value + box8.value, box6.value,\n",
    "            box7.value\n",
    "        ])\n",
    "        geotherm_u_ci[i] = np.abs(\n",
    "            cbands(\n",
    "                VFTH, u_beta, np.array([geotherm_u[i]]),\n",
    "                np.array([\n",
    "                    np.array([pressures[i] / 1e9]),\n",
    "                    np.array([T[i]]),\n",
    "                    np.array([box5.value + box8.value]),\n",
    "                    np.array([box6.value]),\n",
    "                    np.array([box7.value])\n",
    "                ]), u_pcov, u_dof, u_ifixb))\n",
    "        \n",
    "        mode, assemblage, residual_rho[i] = residue_density(pressures[i]/1e9,T[i],box9.value+box12.value,box10.value)\n",
    "        residual_rho[i] = residual_rho[i] * (1+((box12.value/(box9.value+box12.value))*((60.08-40.3044)/40.3044)))\n",
    "    \n",
    "    # Create density versus depth plot for selected liquid\n",
    "    ax3 = fig.add_subplot(223)\n",
    "    plt.xlabel('Density $(g/cm^3)$', fontsize=30)\n",
    "    plt.ylabel('Depth (km)', fontsize=30)\n",
    "    plt.ylim(depths[-1] / 1e3, 0)\n",
    "    plt.plot(seismic_densities / 1.e3,\n",
    "             depths / 1.e3,\n",
    "             '--b',\n",
    "             label=radiobutton1.value)\n",
    "    plt.plot(geotherm_rho, depths / 1.e3, '-r', label='Liquid')\n",
    "    plt.fill_betweenx(depths / 1.e3,\n",
    "                         geotherm_rho+geotherm_rho_ci,\n",
    "                         geotherm_rho-geotherm_rho_ci,\n",
    "                         color = 'r',\n",
    "                         alpha=0.3,\n",
    "                         linewidth=0,\n",
    "                     )\n",
    "    plt.plot(residual_rho, depths / 1.e3, '-b', linewidth=3, label='Residue')\n",
    "    plt.legend(fontsize=30)\n",
    "    plt.twinx()\n",
    "    plt.ylabel('Pressure (GPa)', fontsize=30)\n",
    "    plt.ylim(pressures[-1] / 1.e9, 0)\n",
    "    plt.plot(seismic_densities / 1.e3, pressures / 1.e9, linewidth=0)\n",
    "\n",
    "    # Prevent viscosities being plotted at P-T conditions outside the range of the data\n",
    "    geotherm_u[pressures > 32.6 * 1e9] = np.nan\n",
    "    geotherm_u_ci[pressures > 32.6 * 1e9] = np.nan\n",
    "    geotherm_u[T < 1500] = np.nan\n",
    "    geotherm_u_ci[T < 1500] = np.nan\n",
    "\n",
    "    # Create viscosity versus depth plot for selected liquid\n",
    "    ax4 = fig.add_subplot(224)\n",
    "    plt.xlabel('Viscosity $(Pa.S)$', fontsize=30)\n",
    "    plt.ylabel('Depth (km)', fontsize=30)\n",
    "    plt.ylim(depths[-1] / 1e3, 0)\n",
    "    plt.xscale('log')\n",
    "    plt.plot(geotherm_u, depths / 1.e3, '-r', label='Selected composition')\n",
    "    plt.fill_betweenx(depths / 1.e3,\n",
    "                      geotherm_u - geotherm_u_ci,\n",
    "                      geotherm_u + geotherm_u_ci,\n",
    "                      color='r',\n",
    "                      alpha=0.3,\n",
    "                      linewidth=0)\n",
    "    plt.legend(fontsize=30)\n",
    "    plt.twinx()\n",
    "    plt.ylabel('Pressure (GPa)', fontsize=30)\n",
    "    plt.ylim(pressures[-1] / 1.e9, 0)\n",
    "    plt.plot(geotherm_u, pressures / 1.e9, '-r', linewidth=0)\n",
    "\n",
    "    with out6:\n",
    "        clear_output(wait=True)\n",
    "        plt.show(fig)\n",
    "\n",
    "\n",
    "def toggle_geotherm1(b):\n",
    "    if checkbox1.value == True:\n",
    "        checkbox2.value = False\n",
    "        if s1.value < 9:\n",
    "            s1.value = 9\n",
    "        s2.disabled = True\n",
    "        s1.min = 9\n",
    "        s2.min = bm.geotherm.brown_shankland([np.float(s1.min * 1e9)])\n",
    "        s2.max = bm.geotherm.brown_shankland([np.float(s1.max * 1e9)])\n",
    "        s2.value = bm.geotherm.brown_shankland([np.float(s1.value * 1e9)])\n",
    "    elif checkbox2.value == False:\n",
    "        s2.disabled = False\n",
    "        s1.min = 1\n",
    "        s2.min = 1800\n",
    "        s2.max = 3000\n",
    "        s2.value = 1800\n",
    "\n",
    "\n",
    "def toggle_geotherm2(b):\n",
    "    if checkbox2.value == True:\n",
    "        checkbox1.value = False\n",
    "        s2.disabled = True\n",
    "        s1.min = 1\n",
    "        s1.max = 50\n",
    "        s2.min = bm.geotherm.anderson([np.float(s1.min * 1e9)])\n",
    "        s2.max = bm.geotherm.anderson([np.float(s1.max * 1e9)])\n",
    "        s2.value = bm.geotherm.anderson([np.float(s1.value * 1e9)])\n",
    "    elif checkbox1.value == False:\n",
    "        s2.disabled = False\n",
    "        s1.min = 1\n",
    "        s2.min = 1800\n",
    "        s2.max = 3000\n",
    "        s2.value = 1800\n",
    "\n",
    "\n",
    "def geotherm(b):\n",
    "    if checkbox1.value == True:\n",
    "        s2.value = bm.geotherm.brown_shankland([np.float(s1.value * 1e9)])\n",
    "    if checkbox2.value == True:\n",
    "        s2.value = bm.geotherm.anderson([np.float(s1.value * 1e9)])\n",
    "\n",
    "\n",
    "box_layout = w.Layout(display='flex-basis',\n",
    "                      flex_flow='row',\n",
    "                      align_items='flex-start',\n",
    "                      justify_content='flex-start',\n",
    "                      width='100%')\n",
    "\n",
    "s1 = w.FloatSlider(value=1,\n",
    "                   min=1,\n",
    "                   max=50,\n",
    "                   step=1,\n",
    "                   description='$P (GPa):$',\n",
    "                   disabled=False,\n",
    "                   continuous_update=False,\n",
    "                   layout=box_layout)\n",
    "\n",
    "s2 = w.FloatSlider(value=1800,\n",
    "                   min=1800,\n",
    "                   max=3000,\n",
    "                   step=1,\n",
    "                   description='$T (K):$',\n",
    "                   disabled=False,\n",
    "                   continuous_update=False,\n",
    "                   layout=box_layout)\n",
    "\n",
    "s3 = w.FloatSlider(value=0.11,\n",
    "                   min=0,\n",
    "                   max=1,\n",
    "                   step=.01,\n",
    "                   description='$Fe\\#:$',\n",
    "                   disabled=False,\n",
    "                   continuous_update=False,\n",
    "                   layout=box_layout)\n",
    "\n",
    "s4 = w.FloatSlider(value=0,\n",
    "                   min=0,\n",
    "                   max=1,\n",
    "                   step=.01,\n",
    "                   description='$Fe\\#:$',\n",
    "                   disabled=False,\n",
    "                   continuous_update=False,\n",
    "                   layout=box_layout)\n",
    "\n",
    "checkbox1 = w.Checkbox(value=False,\n",
    "                       description='Brown & Shankland (1981)',\n",
    "                       disabled=False)\n",
    "\n",
    "checkbox2 = w.Checkbox(value=False,\n",
    "                       description='Anderson (1982)',\n",
    "                       disabled=False)\n",
    "\n",
    "radiobutton1 = w.RadioButtons(\n",
    "    options=['PREM', 'STW105', 'AK135'],\n",
    "    value='PREM',\n",
    "    layout={\n",
    "        'width': 'max-content',\n",
    "        'margin': '2px 0px 0px 80px'\n",
    "    },\n",
    "    description='',\n",
    "    disabled=False,\n",
    ")\n",
    "\n",
    "# Bulk composition: DMM (Workman & Hart, 2005) + 5 mol% H2O\n",
    "box1 = w.BoundedFloatText(description='$MgO:$',\n",
    "                          min=0,\n",
    "                          max=1,\n",
    "                          step=0.01,\n",
    "                          value=0.50,\n",
    "                          layout=w.Layout(width='24.5%'))\n",
    "box2 = w.BoundedFloatText(description='$SiO2:$',\n",
    "                          min=0,\n",
    "                          max=1,\n",
    "                          step=0.01,\n",
    "                          value=0.39,\n",
    "                          layout=w.Layout(width='24.5%'))\n",
    "box3 = w.BoundedFloatText(description='$H_2O:$',\n",
    "                          min=0,\n",
    "                          max=1,\n",
    "                          step=0.01,\n",
    "                          value=0.05,\n",
    "                          layout=w.Layout(width='24.5%'))\n",
    "box4 = w.BoundedFloatText(description='$FeO:$',\n",
    "                          disabled=True,\n",
    "                          min=0,\n",
    "                          max=1,\n",
    "                          step=0.01,\n",
    "                          value=0.06,\n",
    "                          layout=w.Layout(width='24.5%'))\n",
    "\n",
    "# Liquid composition: Myhill et al. (2013)\n",
    "box5 = w.BoundedFloatText(description='$MgO:$',\n",
    "                          min=0,\n",
    "                          max=1,\n",
    "                          step=0.01,\n",
    "                          value=0.34,\n",
    "                          layout=w.Layout(width='24.5%'))\n",
    "box6 = w.BoundedFloatText(description='$SiO2:$',\n",
    "                          min=0,\n",
    "                          max=1,\n",
    "                          step=0.01,\n",
    "                          value=0.18,\n",
    "                          layout=w.Layout(width='24.5%'))\n",
    "box7 = w.BoundedFloatText(description='$H_2O:$',\n",
    "                          min=0,\n",
    "                          max=1,\n",
    "                          step=0.01,\n",
    "                          value=0.48,\n",
    "                          layout=w.Layout(width='24.5%'))\n",
    "box8 = w.BoundedFloatText(description='$FeO:$',\n",
    "                          disabled=True,\n",
    "                          min=0,\n",
    "                          max=1,\n",
    "                          step=0.01,\n",
    "                          value=0.00,\n",
    "                          layout=w.Layout(width='24.5%'))\n",
    "\n",
    "# Residue composition (calculated by projection)\n",
    "box9 = w.BoundedFloatText(description='$MgO:$',\n",
    "                          disabled=True,\n",
    "                          Value=0.5,\n",
    "                          layout=w.Layout(width='24.5%'))\n",
    "box10 = w.BoundedFloatText(description='$SiO2:$',\n",
    "                           disabled=True,\n",
    "                           Value=0.25,\n",
    "                           layout=w.Layout(width='24.5%'))\n",
    "box11 = w.BoundedFloatText(description='$H_2O:$',\n",
    "                           disabled=True,\n",
    "                           Value=0.25,\n",
    "                           layout=w.Layout(width='24.5%'))\n",
    "box12 = w.BoundedFloatText(description='$FeO:$',\n",
    "                           disabled=True,\n",
    "                           Value=0.25,\n",
    "                           layout=w.Layout(width='24.5%'))\n",
    "\n",
    "box13 = w.Text(description='ρ $(gcm^{-3}):$',\n",
    "               disabled=True,\n",
    "               Value=[],\n",
    "               layout=w.Layout(width='24.5%'))\n",
    "box14 = w.Text(description='$\\eta$ $(Pa. S):$',\n",
    "               disabled=True,\n",
    "               Value=[],\n",
    "               layout=w.Layout(width='24.5%'))\n",
    "box15 = w.Text(description='ρ $(gcm^{-3}):$',\n",
    "               disabled=True,\n",
    "               Value=[],\n",
    "               layout=w.Layout(width='24.5%'))\n",
    "box16 = w.Text(description='$Mode:$',\n",
    "               disabled=True,\n",
    "               Value=[],\n",
    "               layout=w.Layout(width='24.5%'))\n",
    "\n",
    "button1 = w.Button(description='Calculate',\n",
    "                   disabled=False,\n",
    "                   button_style='success',\n",
    "                   tooltip='Calculate',\n",
    "                   icon='check',\n",
    "                   layout={\n",
    "                       'margin': '2px 0px 0px 90px',\n",
    "                       'width': '90%'\n",
    "                   })\n",
    "\n",
    "title1 = w.HTMLMath(\n",
    "    value='<b>Geotherm</b>',\n",
    "    layout={'margin': '2px 0px 0px 90px'},\n",
    ")\n",
    "\n",
    "title2 = w.HTMLMath(\n",
    "    value='<b>1D seismic model</b>',\n",
    "    layout={'margin': '2px 0px 0px 80px'},\n",
    ")\n",
    "\n",
    "button1.on_click(summary_plot)\n",
    "checkbox1.observe(toggle_geotherm1)\n",
    "checkbox2.observe(toggle_geotherm2)\n",
    "s1.observe(geotherm)\n",
    "\n",
    "out6 = w.Output()\n",
    "\n",
    "display(\n",
    "    w.HTMLMath(value='<b>Conditions</b>',\n",
    "               layout={'margin': '2px 0px 0px 90px'}))\n",
    "display(w.VBox([s1, s2]))\n",
    "display(\n",
    "    w.HBox([\n",
    "        w.VBox([title1, checkbox1, checkbox2]),\n",
    "        w.VBox([title2, radiobutton1])\n",
    "    ]))\n",
    "display(\n",
    "    w.HTMLMath(value='<b>Bulk composition</b>',\n",
    "               layout={'margin': '2px 0px 0px 90px'}))\n",
    "display(w.VBox([w.HBox([s3]), w.HBox([box1, box2, box3, box4])]),\n",
    "        layout=w.Layout(width='100%'))\n",
    "display(\n",
    "    w.HTMLMath(value='<b>Liquid composition</b>',\n",
    "               layout={'margin': '2px 0px 0px 90px'}))\n",
    "display(w.VBox([\n",
    "    w.HBox([s4]),\n",
    "    w.HBox([box5, box6, box7, box8]),\n",
    "    w.HBox([box13]),\n",
    "    w.HBox([box14])\n",
    "]),\n",
    "        layout=w.Layout(width='100%'))\n",
    "display(\n",
    "    w.HTMLMath(value='<b>Residue composition</b>',\n",
    "               layout={'margin': '2px 0px 0px 90px'}))\n",
    "display(w.VBox([w.HBox([box9, box10, box11, box12]),\n",
    "                w.HBox([box15]),w.HBox([box16])]),\n",
    "        layout=w.Layout(width='100%'))\n",
    "display(button1)\n",
    "display(out6)\n",
    "\n",
    "summary_plot('b')"
   ]
  }
 ],
 "metadata": {
  "celltoolbar": "Initialization Cell",
  "finalized": {
   "timestamp": 1617980639993,
   "trusted": true
  },
  "hide_input": false,
  "jupytext": {
   "encoding": "# -*- coding: utf-8 -*-"
  },
  "kernelspec": {
   "display_name": "Python 3",
   "language": "python",
   "name": "python3"
  },
  "language_info": {
   "codemirror_mode": {
    "name": "ipython",
    "version": 3
   },
   "file_extension": ".py",
   "mimetype": "text/x-python",
   "name": "python",
   "nbconvert_exporter": "python",
   "pygments_lexer": "ipython3",
   "version": "3.6.10"
  },
  "require": {
   "paths": {
    "buttons.colvis": "https://cdn.datatables.net/buttons/1.5.6/js/buttons.colVis.min",
    "buttons.flash": "https://cdn.datatables.net/buttons/1.5.6/js/buttons.flash.min",
    "buttons.html5": "https://cdn.datatables.net/buttons/1.5.6/js/buttons.html5.min",
    "buttons.print": "https://cdn.datatables.net/buttons/1.5.6/js/buttons.print.min",
    "chartjs": "https://cdnjs.cloudflare.com/ajax/libs/Chart.js/2.8.0/Chart",
    "d3": "https://d3js.org/d3.v5.min",
    "d3-array": "https://d3js.org/d3-array.v2.min",
    "datatables.net": "https://cdn.datatables.net/1.10.18/js/jquery.dataTables",
    "datatables.net-buttons": "https://cdn.datatables.net/buttons/1.5.6/js/dataTables.buttons.min",
    "datatables.responsive": "https://cdn.datatables.net/responsive/2.2.2/js/dataTables.responsive.min",
    "datatables.scroller": "https://cdn.datatables.net/scroller/2.0.0/js/dataTables.scroller.min",
    "datatables.select": "https://cdn.datatables.net/select/1.3.0/js/dataTables.select.min",
    "jszip": "https://cdnjs.cloudflare.com/ajax/libs/jszip/2.5.0/jszip.min",
    "moment": "https://cdnjs.cloudflare.com/ajax/libs/moment.js/2.8.0/moment",
    "pdfmake": "https://cdnjs.cloudflare.com/ajax/libs/pdfmake/0.1.36/pdfmake.min",
    "vfsfonts": "https://cdnjs.cloudflare.com/ajax/libs/pdfmake/0.1.36/vfs_fonts"
   },
   "shim": {
    "buttons.colvis": {
     "deps": [
      "jszip",
      "datatables.net-buttons"
     ]
    },
    "buttons.flash": {
     "deps": [
      "jszip",
      "datatables.net-buttons"
     ]
    },
    "buttons.html5": {
     "deps": [
      "jszip",
      "datatables.net-buttons"
     ]
    },
    "buttons.print": {
     "deps": [
      "jszip",
      "datatables.net-buttons"
     ]
    },
    "chartjs": {
     "deps": [
      "moment"
     ]
    },
    "datatables.net": {
     "exports": "$.fn.dataTable"
    },
    "datatables.net-buttons": {
     "deps": [
      "datatables.net"
     ]
    },
    "pdfmake": {
     "deps": [
      "datatables.net"
     ]
    },
    "vfsfonts": {
     "deps": [
      "datatables.net"
     ]
    }
   }
  },
  "toc": {
   "base_numbering": 1,
   "nav_menu": {},
   "number_sections": false,
   "sideBar": true,
   "skip_h1_title": false,
   "title_cell": "",
   "title_sidebar": "Contents",
   "toc_cell": false,
   "toc_position": {
    "height": "659.85px",
    "left": "230px",
    "top": "66.1167px",
    "width": "640px"
   },
   "toc_section_display": true,
   "toc_window_display": true
  }
 },
 "nbformat": 4,
 "nbformat_minor": 4
}
